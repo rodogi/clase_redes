{
 "cells": [
  {
   "cell_type": "markdown",
   "id": "double-significance",
   "metadata": {
    "slideshow": {
     "slide_type": "slide"
    }
   },
   "source": [
    "# Graph-tool and networkx\n",
    "\n",
    "- Create a graph\n",
    "- Clustering\n",
    "- Centrality measures\n",
    "- k-core decomposition\n",
    "- assortativity\n",
    "- Drawing"
   ]
  },
  {
   "cell_type": "code",
   "execution_count": 1,
   "id": "united-workstation",
   "metadata": {
    "slideshow": {
     "slide_type": "slide"
    }
   },
   "outputs": [],
   "source": [
    "import networkx as nx\n",
    "import graph_tool.all as gt"
   ]
  },
  {
   "cell_type": "markdown",
   "id": "empirical-wyoming",
   "metadata": {
    "slideshow": {
     "slide_type": "slide"
    }
   },
   "source": [
    "## Create a graph/network"
   ]
  },
  {
   "cell_type": "code",
   "execution_count": 2,
   "id": "still-eagle",
   "metadata": {},
   "outputs": [
    {
     "name": "stdout",
     "output_type": "stream",
     "text": [
      "<class 'networkx.classes.graph.Graph'>\n",
      "<class 'graph_tool.Graph'>\n"
     ]
    }
   ],
   "source": [
    "G = nx.Graph()\n",
    "g = gt.Graph(directed=False)\n",
    "\n",
    "print(type(G))\n",
    "print(type(g))"
   ]
  },
  {
   "cell_type": "markdown",
   "id": "positive-dictionary",
   "metadata": {
    "slideshow": {
     "slide_type": "slide"
    }
   },
   "source": [
    "Adding some nodes/vertices"
   ]
  },
  {
   "cell_type": "code",
   "execution_count": 3,
   "id": "liable-rental",
   "metadata": {},
   "outputs": [
    {
     "name": "stdout",
     "output_type": "stream",
     "text": [
      "['a', 'b']\n",
      "type of container: <class 'networkx.classes.reportviews.NodeView'>\n"
     ]
    }
   ],
   "source": [
    "# networkx\n",
    "G.add_node('a')\n",
    "G.add_node('b')\n",
    "print(G.nodes)\n",
    "print('type of container:', type(G.nodes))"
   ]
  },
  {
   "cell_type": "markdown",
   "id": "thick-congress",
   "metadata": {},
   "source": [
    "`N` es el número de nodos de `g`. Entonces `graph-tool` asume que los nodos van de `0,...,N-1`. Para los nodos definidos como `string` usamos los (node/edge) PropertyMaps."
   ]
  },
  {
   "cell_type": "code",
   "execution_count": 9,
   "id": "framed-conducting",
   "metadata": {
    "slideshow": {
     "slide_type": "slide"
    }
   },
   "outputs": [],
   "source": [
    "# vertex = node; edge = edge\n",
    "a = g.add_vertex()\n",
    "b = g.add_vertex()"
   ]
  },
  {
   "cell_type": "code",
   "execution_count": 12,
   "id": "systematic-length",
   "metadata": {},
   "outputs": [],
   "source": [
    "label = g.new_vertex_property('string')\n",
    "label[a] = 'a'\n",
    "label[b] = 'b'"
   ]
  },
  {
   "cell_type": "code",
   "execution_count": 23,
   "id": "handled-flash",
   "metadata": {
    "slideshow": {
     "slide_type": "slide"
    }
   },
   "outputs": [
    {
     "name": "stdout",
     "output_type": "stream",
     "text": [
      "[0 1]\n",
      "type of container: <class 'numpy.ndarray'>\n"
     ]
    }
   ],
   "source": [
    "print(g.get_vertices())\n",
    "print('type of container:', type(g.get_vertices()))"
   ]
  },
  {
   "cell_type": "markdown",
   "id": "historical-understanding",
   "metadata": {
    "slideshow": {
     "slide_type": "slide"
    }
   },
   "source": [
    "Equivalently"
   ]
  },
  {
   "cell_type": "code",
   "execution_count": 31,
   "id": "military-portfolio",
   "metadata": {},
   "outputs": [
    {
     "data": {
      "text/plain": [
       "<generator object Graph.add_vertex.<locals>.<genexpr> at 0x7ff485b2b0b0>"
      ]
     },
     "execution_count": 31,
     "metadata": {},
     "output_type": "execute_result"
    }
   ],
   "source": [
    "g = gt.Graph(directed=False)\n",
    "g.add_vertex(2)"
   ]
  },
  {
   "cell_type": "code",
   "execution_count": 32,
   "id": "trained-blink",
   "metadata": {
    "slideshow": {
     "slide_type": "slide"
    }
   },
   "outputs": [],
   "source": [
    "label = g.new_vertex_property('string')\n",
    "label[0] = 'a'\n",
    "label[1] = 'b'"
   ]
  },
  {
   "cell_type": "code",
   "execution_count": 33,
   "id": "living-mexico",
   "metadata": {},
   "outputs": [
    {
     "name": "stdout",
     "output_type": "stream",
     "text": [
      "[0 1]\n",
      "type of container: <class 'numpy.ndarray'>\n"
     ]
    }
   ],
   "source": [
    "print(g.get_vertices())\n",
    "print('type of container:', type(g.get_vertices()))"
   ]
  },
  {
   "cell_type": "markdown",
   "id": "individual-promotion",
   "metadata": {
    "slideshow": {
     "slide_type": "slide"
    }
   },
   "source": [
    "Adding an Edge"
   ]
  },
  {
   "cell_type": "code",
   "execution_count": 37,
   "id": "supported-thought",
   "metadata": {},
   "outputs": [
    {
     "data": {
      "text/plain": [
       "EdgeView([('a', 'b')])"
      ]
     },
     "execution_count": 37,
     "metadata": {},
     "output_type": "execute_result"
    }
   ],
   "source": [
    "G.edges"
   ]
  },
  {
   "cell_type": "code",
   "execution_count": 36,
   "id": "sitting-domain",
   "metadata": {
    "slideshow": {
     "slide_type": "slide"
    }
   },
   "outputs": [
    {
     "name": "stdout",
     "output_type": "stream",
     "text": [
      "[('a', 'b')]\n",
      "container edges: <class 'networkx.classes.reportviews.EdgeView'>\n"
     ]
    }
   ],
   "source": [
    "G.add_edge('a', 'b')\n",
    "print(G.edges)\n",
    "print('container edges:', type(G.edges))"
   ]
  },
  {
   "cell_type": "code",
   "execution_count": 44,
   "id": "concerned-highway",
   "metadata": {},
   "outputs": [
    {
     "data": {
      "text/plain": [
       "(2,)"
      ]
     },
     "execution_count": 44,
     "metadata": {},
     "output_type": "execute_result"
    }
   ],
   "source": [
    "g.get_vertices().shape"
   ]
  },
  {
   "cell_type": "code",
   "execution_count": 45,
   "id": "electoral-stomach",
   "metadata": {},
   "outputs": [
    {
     "data": {
      "text/plain": [
       "(1, 2)"
      ]
     },
     "execution_count": 45,
     "metadata": {},
     "output_type": "execute_result"
    }
   ],
   "source": [
    "g.get_edges().shape"
   ]
  },
  {
   "cell_type": "code",
   "execution_count": 39,
   "id": "norwegian-thailand",
   "metadata": {
    "slideshow": {
     "slide_type": "slide"
    }
   },
   "outputs": [
    {
     "name": "stdout",
     "output_type": "stream",
     "text": [
      "[[0 1]]\n",
      "container edges: <class 'numpy.ndarray'>\n"
     ]
    }
   ],
   "source": [
    "g.add_edge(0, 1)\n",
    "print(g.get_edges())\n",
    "print('container edges:', type(g.get_edges()))"
   ]
  },
  {
   "cell_type": "markdown",
   "id": "manual-combat",
   "metadata": {
    "slideshow": {
     "slide_type": "slide"
    }
   },
   "source": [
    "Adding edgelist"
   ]
  },
  {
   "cell_type": "code",
   "execution_count": 46,
   "id": "digital-international",
   "metadata": {
    "slideshow": {
     "slide_type": "-"
    }
   },
   "outputs": [],
   "source": [
    "edgelist = [['a', 'b'],\n",
    "            ['a', 'd']]"
   ]
  },
  {
   "cell_type": "code",
   "execution_count": 47,
   "id": "serial-absorption",
   "metadata": {
    "slideshow": {
     "slide_type": "slide"
    }
   },
   "outputs": [
    {
     "name": "stdout",
     "output_type": "stream",
     "text": [
      "[('a', 'b'), ('a', 'd')]\n"
     ]
    }
   ],
   "source": [
    "G = nx.Graph()\n",
    "G.add_edges_from(edgelist)\n",
    "print(G.edges)"
   ]
  },
  {
   "cell_type": "code",
   "execution_count": 63,
   "id": "persistent-adams",
   "metadata": {},
   "outputs": [],
   "source": [
    "edgelist = [[0, 1, 1, 3.],\n",
    "            [1, 2, 0, 8.]]"
   ]
  },
  {
   "cell_type": "code",
   "execution_count": 69,
   "id": "aboriginal-vienna",
   "metadata": {},
   "outputs": [
    {
     "data": {
      "text/plain": [
       "3.0"
      ]
     },
     "execution_count": 69,
     "metadata": {},
     "output_type": "execute_result"
    }
   ],
   "source": [
    "strength[g.edge(0,1)]"
   ]
  },
  {
   "cell_type": "code",
   "execution_count": 64,
   "id": "tribal-seminar",
   "metadata": {
    "slideshow": {
     "slide_type": "slide"
    }
   },
   "outputs": [
    {
     "name": "stdout",
     "output_type": "stream",
     "text": [
      "[[0 1]\n",
      " [1 2]]\n"
     ]
    }
   ],
   "source": [
    "g = gt.Graph(directed=False)\n",
    "weight = g.new_edge_property('int')\n",
    "strength = g.new_edge_property('float')\n",
    "g.add_edge_list(edgelist, eprops=[weight, strength])\n",
    "print(g.get_edges())"
   ]
  },
  {
   "cell_type": "markdown",
   "id": "endless-surgery",
   "metadata": {
    "slideshow": {
     "slide_type": "slide"
    }
   },
   "source": [
    "Removing nodes and edges"
   ]
  },
  {
   "cell_type": "code",
   "execution_count": 56,
   "id": "handmade-trial",
   "metadata": {},
   "outputs": [
    {
     "name": "stdout",
     "output_type": "stream",
     "text": [
      "[('a', 'b'), ('a', 'd')]\n",
      "[('a', 'd')]\n"
     ]
    }
   ],
   "source": [
    "print(G.edges)\n",
    "G.remove_edge('a', 'b')\n",
    "print(G.edges)"
   ]
  },
  {
   "cell_type": "code",
   "execution_count": 57,
   "id": "lesbian-pierce",
   "metadata": {
    "slideshow": {
     "slide_type": "slide"
    }
   },
   "outputs": [
    {
     "name": "stdout",
     "output_type": "stream",
     "text": [
      "[[0 1]\n",
      " [0 2]]\n",
      "[[0 2]]\n"
     ]
    }
   ],
   "source": [
    "print(g.get_edges())\n",
    "g.remove_edge(g.edge(0, 1))\n",
    "print(g.get_edges())"
   ]
  },
  {
   "cell_type": "markdown",
   "id": "normal-hormone",
   "metadata": {
    "slideshow": {
     "slide_type": "slide"
    }
   },
   "source": [
    "# Les misérables network\n",
    "\n",
    "Novel by Victor Hugo from 1862. The co-occurrence network was created by Donald E. Knuth in 1994.\n",
    "\n",
    "It is a non-directed weighted network.\n",
    "\n",
    " - nodes: characters\n",
    " - links: co-appearance\n",
    " - weight: number of co-appearances"
   ]
  },
  {
   "cell_type": "code",
   "execution_count": 70,
   "id": "static-diamond",
   "metadata": {
    "slideshow": {
     "slide_type": "slide"
    }
   },
   "outputs": [],
   "source": [
    "G = nx.les_miserables_graph()"
   ]
  },
  {
   "cell_type": "markdown",
   "id": "funny-transformation",
   "metadata": {},
   "source": [
    "Write graph in graphml and load it in graph-tool"
   ]
  },
  {
   "cell_type": "code",
   "execution_count": 78,
   "id": "hungry-accent",
   "metadata": {},
   "outputs": [],
   "source": [
    "nx.write_graphml(G, \"../data/les_miserables.xml\")"
   ]
  },
  {
   "cell_type": "code",
   "execution_count": 80,
   "id": "apart-hopkins",
   "metadata": {
    "slideshow": {
     "slide_type": "slide"
    }
   },
   "outputs": [],
   "source": [
    "g = gt.load_graph(\"../data/les_miserables.xml\")"
   ]
  },
  {
   "cell_type": "markdown",
   "id": "recovered-election",
   "metadata": {
    "slideshow": {
     "slide_type": "slide"
    }
   },
   "source": [
    "Edge and vertex properties (only graph-tool)"
   ]
  },
  {
   "cell_type": "code",
   "execution_count": 90,
   "id": "liable-emperor",
   "metadata": {
    "slideshow": {
     "slide_type": "-"
    }
   },
   "outputs": [],
   "source": [
    "labels = g.vertex_properties['_graphml_vertex_id']"
   ]
  },
  {
   "cell_type": "code",
   "execution_count": 112,
   "id": "fewer-incidence",
   "metadata": {},
   "outputs": [],
   "source": [
    "nodes = {}\n",
    "for node in g.iter_vertices():\n",
    "    nodes[labels[node]] = node"
   ]
  },
  {
   "cell_type": "code",
   "execution_count": 119,
   "id": "impossible-botswana",
   "metadata": {
    "slideshow": {
     "slide_type": "-"
    }
   },
   "outputs": [],
   "source": [
    "nodes = {labels[x]: x for x in g.iter_vertices()}"
   ]
  },
  {
   "cell_type": "code",
   "execution_count": 125,
   "id": "norman-oxygen",
   "metadata": {
    "slideshow": {
     "slide_type": "-"
    }
   },
   "outputs": [],
   "source": [
    "weight = g.edge_properties['weight']"
   ]
  },
  {
   "cell_type": "markdown",
   "id": "bored-initial",
   "metadata": {
    "slideshow": {
     "slide_type": "slide"
    }
   },
   "source": [
    "## Number of nodes and edges"
   ]
  },
  {
   "cell_type": "code",
   "execution_count": 132,
   "id": "solid-discipline",
   "metadata": {
    "slideshow": {
     "slide_type": "slide"
    }
   },
   "outputs": [
    {
     "name": "stdout",
     "output_type": "stream",
     "text": [
      "number of nodes 77 77\n",
      "number of edges 254 254\n"
     ]
    }
   ],
   "source": [
    "print(\"number of nodes\", len(G), g.num_vertices())\n",
    "print(\"number of edges\", len(G.edges), g.num_edges())"
   ]
  },
  {
   "cell_type": "markdown",
   "id": "oriental-writing",
   "metadata": {
    "slideshow": {
     "slide_type": "slide"
    }
   },
   "source": [
    "## Clustering\n",
    "\n",
    "Given a node $u$, its clustering $c_u$ is defined as\n",
    "\n",
    "$$c_u = \\frac{2 T(u)}{deg(u)(deg(u)-1)},$$\n",
    "\n",
    "where $T(u)$ is the number of triangles through node $u$ and\n",
    "$deg(u)$ is the degree of $u$."
   ]
  },
  {
   "cell_type": "markdown",
   "id": "naval-avenue",
   "metadata": {
    "slideshow": {
     "slide_type": "slide"
    }
   },
   "source": [
    "There is a definition of weighted graphs as well"
   ]
  },
  {
   "cell_type": "markdown",
   "id": "earned-beijing",
   "metadata": {
    "slideshow": {
     "slide_type": "slide"
    }
   },
   "source": [
    "## Weighted clustering networkx\n",
    "$$c_u = \\frac{1}{deg(u)(deg(u)-1))}\n",
    "         \\sum_{vw} (\\hat{w}_{uv} \\hat{w}_{uw} \\hat{w}_{vw})^{1/3}.$$\n",
    "\n",
    "The edge weights $\\hat{w}_{uv}$ are normalized by the maximum weight\n",
    "in the network $\\hat{w}_{uv} = w_{uv}/\\max(w)$.\n",
    "\n",
    "The value of $c_u$ is assigned to 0 if $deg(u) < 2$."
   ]
  },
  {
   "cell_type": "markdown",
   "id": "previous-cleanup",
   "metadata": {
    "slideshow": {
     "slide_type": "slide"
    }
   },
   "source": [
    "## Weighted clustering graph-tool \n",
    "   $$c_i = \\frac{|\\{e_{jk}\\}|}{k_i(k_i-1)} :\\, v_j,v_k \\in N_i,\\, e_{jk} \\in E$$\n",
    "\n",
    "where $k_i$ is the out-degree of vertex $i$, and\n",
    "\n",
    " \n",
    "   $$N_i = \\{v_j : e_{ij} \\in E\\}$$\n",
    "\n",
    "is the set of out-neighbors of vertex $i$. For undirected graphs the\n",
    "value of $c_i$ is normalized as\n",
    "\n",
    " \n",
    "   $$c'_i = 2c_i.$$"
   ]
  },
  {
   "cell_type": "code",
   "execution_count": 163,
   "id": "thirty-acceptance",
   "metadata": {
    "slideshow": {
     "slide_type": "slide"
    }
   },
   "outputs": [
    {
     "name": "stdout",
     "output_type": "stream",
     "text": [
      "graph-tool 1.0\n",
      "networkx 1.0\n"
     ]
    }
   ],
   "source": [
    "clust1 = nx.clustering(G)\n",
    "clust2 = gt.local_clustering(g)\n",
    "\n",
    "print('graph-tool', clust2[2])\n",
    "print('networkx', clust1[labels[2]])"
   ]
  },
  {
   "cell_type": "code",
   "execution_count": 159,
   "id": "silent-separation",
   "metadata": {
    "slideshow": {
     "slide_type": "slide"
    }
   },
   "outputs": [
    {
     "name": "stdout",
     "output_type": "stream",
     "text": [
      "graph-tool 0.2064516129032258\n",
      "networkx 0.012957313460151774\n"
     ]
    }
   ],
   "source": [
    "clust1 = nx.clustering(G, weight='weight')\n",
    "clust2 = gt.local_clustering(g, weight=weight)\n",
    "\n",
    "print('graph-tool', clust2[1])\n",
    "print('networkx', clust1[labels[1]])"
   ]
  },
  {
   "cell_type": "markdown",
   "id": "outdoor-lodge",
   "metadata": {
    "slideshow": {
     "slide_type": "slide"
    }
   },
   "source": [
    "Global clustering or average clustering"
   ]
  },
  {
   "cell_type": "markdown",
   "id": "loving-country",
   "metadata": {
    "slideshow": {
     "slide_type": "slide"
    }
   },
   "source": [
    "## Graph-tool\n",
    "\n",
    "The global clustering coefficient [newman-structure-2003]_ $c$ is\n",
    "defined as\n",
    "\n",
    "$$\n",
    "   c = 3 \\times \\frac{\\text{number of triangles}}\n",
    "                      {\\text{number of connected triples}}\n",
    "$$\n",
    "If weights are given, the following definition is used:\n",
    "\n",
    "$$\n",
    "   c = \\frac{\\mathrm{Tr}{{\\boldsymbol A}^3}}{\\sum_{i\\ne j}[{\\boldsymbol A}^2]_{ij}},\n",
    "$$\n",
    "where $\\boldsymbol A$ is the weighted adjacency matrix, and it is\n",
    "assumed that the weights are normalized, i.e. $A_{ij} \\le 1$."
   ]
  },
  {
   "cell_type": "code",
   "execution_count": 166,
   "id": "norman-footwear",
   "metadata": {
    "slideshow": {
     "slide_type": "slide"
    }
   },
   "outputs": [
    {
     "name": "stdout",
     "output_type": "stream",
     "text": [
      "Global clustering 0.49893162393162394 with standard deviation per vertex 0.1150252486325887\n"
     ]
    }
   ],
   "source": [
    "c, se = gt.global_clustering(g)\n",
    "print(f'Global clustering {c} with standard deviation per vertex {se}')"
   ]
  },
  {
   "cell_type": "code",
   "execution_count": 164,
   "id": "satisfactory-relay",
   "metadata": {},
   "outputs": [
    {
     "data": {
      "text/plain": [
       "0.5731367499320134"
      ]
     },
     "execution_count": 164,
     "metadata": {},
     "output_type": "execute_result"
    }
   ],
   "source": [
    "sum(clust1.values()) / len(G)"
   ]
  },
  {
   "cell_type": "code",
   "execution_count": 165,
   "id": "seasonal-cisco",
   "metadata": {
    "slideshow": {
     "slide_type": "slide"
    }
   },
   "outputs": [
    {
     "name": "stdout",
     "output_type": "stream",
     "text": [
      "Average clustering 0.5731367499320134\n"
     ]
    }
   ],
   "source": [
    "c = nx.average_clustering(G)\n",
    "print(f'Average clustering {c}')"
   ]
  },
  {
   "cell_type": "markdown",
   "id": "innovative-bradley",
   "metadata": {
    "slideshow": {
     "slide_type": "slide"
    }
   },
   "source": [
    "We can conlcude that les misérables social network is quite clustered. With an average clustering of 0.57 and global clustering of 0.5."
   ]
  },
  {
   "cell_type": "markdown",
   "id": "martial-pressure",
   "metadata": {
    "slideshow": {
     "slide_type": "slide"
    }
   },
   "source": [
    "# Central nodes"
   ]
  },
  {
   "cell_type": "markdown",
   "id": "quantitative-discharge",
   "metadata": {
    "slideshow": {
     "slide_type": "slide"
    }
   },
   "source": [
    "### Betweenness\n",
    "$$\n",
    "   c_B(v) =\\sum_{s,t \\in V} \\frac{\\sigma(s, t|v)}{\\sigma(s, t)}.\n",
    "$$\n",
    "where $V$ is the set of nodes, $\\sigma(s, t)$ is the number of\n",
    "shortest $(s, t)$-paths,  and $\\sigma(s, t|v)$ is the number of\n",
    "those paths  passing through some  node $v$ other than $s, t$.\n",
    "If $s = t$, $\\sigma(s, t) = 1$, and if $v \\in {s, t}$,\n",
    "$\\sigma(s, t|v) = 0$."
   ]
  },
  {
   "cell_type": "code",
   "execution_count": null,
   "id": "challenging-operations",
   "metadata": {
    "slideshow": {
     "slide_type": "slide"
    }
   },
   "outputs": [],
   "source": [
    "bet1 = nx.betweenness_centrality(G)\n",
    "max_bet = sorted(bet1.items(), key=lambda x: x[1], reverse=True)\n",
    "bet1[max_bet[0][0]]"
   ]
  },
  {
   "cell_type": "code",
   "execution_count": null,
   "id": "developed-rapid",
   "metadata": {
    "slideshow": {
     "slide_type": "slide"
    }
   },
   "outputs": [],
   "source": [
    "bet2, ebet2 = gt.betweenness(g)\n",
    "bet2[nodes[max_bet[0][0]]]"
   ]
  },
  {
   "cell_type": "markdown",
   "id": "considerable-framing",
   "metadata": {
    "slideshow": {
     "slide_type": "slide"
    }
   },
   "source": [
    "### Closenness\n",
    "\n",
    "Closeness centrality of a node $u$ is the reciprocal of the\n",
    "average shortest path distance to $u$ over all $n-1$ reachable nodes.\n",
    "\n",
    "\n",
    "$$\n",
    "    C(u) = \\frac{n - 1}{\\sum_{v=1}^{n-1} d(v, u)},\n",
    "$$\n",
    "where $d(v, u)$ is the shortest-path distance between $v$ and $u$,\n",
    "and $n$ is the number of nodes that can reach $u$."
   ]
  },
  {
   "cell_type": "code",
   "execution_count": null,
   "id": "wired-feedback",
   "metadata": {
    "slideshow": {
     "slide_type": "slide"
    }
   },
   "outputs": [],
   "source": [
    "clos1 = nx.closeness_centrality(G)\n",
    "max_clos = sorted(clos1.items(), key=lambda x: x[1], reverse=True)"
   ]
  },
  {
   "cell_type": "code",
   "execution_count": null,
   "id": "distributed-arrangement",
   "metadata": {
    "slideshow": {
     "slide_type": "slide"
    }
   },
   "outputs": [],
   "source": [
    "clos2 = gt.closeness(g)\n",
    "clos2[nodes[max_clos[0][0]]]"
   ]
  },
  {
   "cell_type": "markdown",
   "id": "pursuant-undergraduate",
   "metadata": {
    "slideshow": {
     "slide_type": "slide"
    }
   },
   "source": [
    "- Because we have large clustering, we have large closenness as well.\n",
    "- Closenness represents main characters"
   ]
  },
  {
   "cell_type": "markdown",
   "id": "collect-passion",
   "metadata": {
    "slideshow": {
     "slide_type": "slide"
    }
   },
   "source": [
    "## $k$-core decomposition\n",
    "\n",
    "A $k$-core is a maximal subgraph that contains nodes of degree k or more."
   ]
  },
  {
   "cell_type": "code",
   "execution_count": null,
   "id": "turned-carolina",
   "metadata": {
    "slideshow": {
     "slide_type": "slide"
    }
   },
   "outputs": [],
   "source": [
    "core1 = nx.core_number(G)\n",
    "max_k = max(core1.values())\n",
    "[x for x in core1 if core1[x]==max_k]"
   ]
  },
  {
   "cell_type": "code",
   "execution_count": null,
   "id": "intermediate-mentor",
   "metadata": {
    "slideshow": {
     "slide_type": "slide"
    }
   },
   "outputs": [],
   "source": [
    "core2 = gt.kcore_decomposition(g)\n",
    "core2.a"
   ]
  },
  {
   "cell_type": "markdown",
   "id": "applicable-jacksonville",
   "metadata": {
    "slideshow": {
     "slide_type": "slide"
    }
   },
   "source": [
    "Friends of the ABC members:\n",
    "\n",
    "- Bahorel – An idler from a peasant background who connects the Friends of the ABC with similar societies. \n",
    "- Combeferre – \"The Guide\". Representing the philosophy of the revolution, he \"completes and corrects\" Enjolras. \n",
    "- Courfeyrac (also de Courfeyrac) – \"The Center\". \n",
    "- Enjolras – \"The Chief\". Youthful, handsome, and charming, though \"capable of being terrible\", he is the leader of the Friends of the ABC. \n",
    "- Feuilly – An orphaned fan maker who taught himself to read and write.\n",
    "- Grantaire – A sceptic with no interest in revolution. \n",
    "- Jean Prouvaire (also Jehan) – Described as softer than Combeferre, Jean Prouvaire is a poet who calls himself Jehan due to his interest in the Middle Ages. \n",
    "- Joly (also Jolllly) – A hypochondriac student of medicine.\n",
    "- Lesgle"
   ]
  },
  {
   "cell_type": "markdown",
   "id": "helpful-integral",
   "metadata": {
    "slideshow": {
     "slide_type": "slide"
    }
   },
   "source": [
    "The main core is a highly inter-connected subgraph perhaps not related to main protagonists."
   ]
  },
  {
   "cell_type": "markdown",
   "id": "elect-seeker",
   "metadata": {
    "slideshow": {
     "slide_type": "slide"
    }
   },
   "source": [
    "## Assortativity (graph-tool)\n",
    "The assortativity coefficient tells in a concise\n",
    "fashion how vertices of different types are preferentially connected amongst\n",
    "themselves, and is defined by\n",
    "\n",
    "$$\n",
    "    r = \\frac{\\sum_i e_{ii} - \\sum_i a_i b_i}{1-\\sum_i a_i b_i}\n",
    "$$\n",
    "where $a_i=\\sum_je_{ij}$ and $b_j=\\sum_ie_{ij}$, and\n",
    "$e_{ij}$ is the fraction of edges from a vertex of type\n",
    "i to a vertex of type j."
   ]
  },
  {
   "cell_type": "code",
   "execution_count": null,
   "id": "looking-delight",
   "metadata": {
    "slideshow": {
     "slide_type": "slide"
    }
   },
   "outputs": [],
   "source": [
    "print('networkx', nx.degree_assortativity_coefficient(G))\n",
    "print('graph-tool', gt.assortativity(g, 'total'))"
   ]
  },
  {
   "cell_type": "code",
   "execution_count": null,
   "id": "norman-pension",
   "metadata": {
    "slideshow": {
     "slide_type": "slide"
    }
   },
   "outputs": [],
   "source": [
    "edgelist = [(0,1),\n",
    "            (0,2),\n",
    "            (0,3),\n",
    "            (1, 2),\n",
    "            (2, 3),\n",
    "            (1, 4)]\n",
    "h = gt.Graph(directed=False)\n",
    "H = nx.Graph()\n",
    "h.add_edge_list(edgelist)\n",
    "H.add_edges_from(edgelist)"
   ]
  },
  {
   "cell_type": "markdown",
   "id": "based-greene",
   "metadata": {
    "slideshow": {
     "slide_type": "slide"
    }
   },
   "source": [
    "## Drawing"
   ]
  },
  {
   "cell_type": "code",
   "execution_count": null,
   "id": "generous-battery",
   "metadata": {},
   "outputs": [],
   "source": [
    "pos1 = gt.sfdp_layout(g)"
   ]
  },
  {
   "cell_type": "code",
   "execution_count": null,
   "id": "optimum-canon",
   "metadata": {},
   "outputs": [],
   "source": [
    "pos2 = {labels[x]: pos1[x] for x in g.iter_vertices()}"
   ]
  },
  {
   "cell_type": "code",
   "execution_count": null,
   "id": "orange-announcement",
   "metadata": {
    "slideshow": {
     "slide_type": "slide"
    }
   },
   "outputs": [],
   "source": [
    "nx.draw_networkx(G, pos=pos2)"
   ]
  },
  {
   "cell_type": "code",
   "execution_count": null,
   "id": "robust-boating",
   "metadata": {
    "slideshow": {
     "slide_type": "slide"
    }
   },
   "outputs": [],
   "source": [
    "gt.graph_draw(g, pos=pos1, vertex_fill_color=core2, vertex_text=core2,\n",
    "              vertex_size=gt.prop_to_size(clos2, mi=2, ma=25));"
   ]
  }
 ],
 "metadata": {
  "celltoolbar": "Slideshow",
  "kernelspec": {
   "display_name": "Python 3",
   "language": "python",
   "name": "python3"
  },
  "language_info": {
   "codemirror_mode": {
    "name": "ipython",
    "version": 3
   },
   "file_extension": ".py",
   "mimetype": "text/x-python",
   "name": "python",
   "nbconvert_exporter": "python",
   "pygments_lexer": "ipython3",
   "version": "3.9.1"
  }
 },
 "nbformat": 4,
 "nbformat_minor": 5
}
