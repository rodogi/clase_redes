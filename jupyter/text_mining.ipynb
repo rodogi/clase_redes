{
 "cells": [
  {
   "cell_type": "code",
   "execution_count": null,
   "id": "therapeutic-federal",
   "metadata": {},
   "outputs": [],
   "source": []
  },
  {
   "cell_type": "markdown",
   "id": "compressed-positive",
   "metadata": {
    "slideshow": {
     "slide_type": "slide"
    }
   },
   "source": [
    "# Text mining\n",
    "\n",
    "- Simple String methods\n",
    "- Regular expresions"
   ]
  },
  {
   "cell_type": "code",
   "execution_count": 159,
   "id": "electoral-female",
   "metadata": {
    "slideshow": {
     "slide_type": "slide"
    }
   },
   "outputs": [],
   "source": [
    "import pandas as pd\n",
    "import numpy as np\n",
    "import re"
   ]
  },
  {
   "cell_type": "code",
   "execution_count": 160,
   "id": "recorded-mason",
   "metadata": {
    "slideshow": {
     "slide_type": "slide"
    }
   },
   "outputs": [],
   "source": [
    "fut = pd.read_csv('../data/premier_league.csv')"
   ]
  },
  {
   "cell_type": "code",
   "execution_count": 161,
   "id": "contrary-match",
   "metadata": {},
   "outputs": [
    {
     "data": {
      "text/html": [
       "<div>\n",
       "<style scoped>\n",
       "    .dataframe tbody tr th:only-of-type {\n",
       "        vertical-align: middle;\n",
       "    }\n",
       "\n",
       "    .dataframe tbody tr th {\n",
       "        vertical-align: top;\n",
       "    }\n",
       "\n",
       "    .dataframe thead th {\n",
       "        text-align: right;\n",
       "    }\n",
       "</style>\n",
       "<table border=\"1\" class=\"dataframe\">\n",
       "  <thead>\n",
       "    <tr style=\"text-align: right;\">\n",
       "      <th></th>\n",
       "      <th>Club</th>\n",
       "      <th>Name</th>\n",
       "      <th>Age</th>\n",
       "      <th>Nationality</th>\n",
       "      <th>Position</th>\n",
       "      <th>Pos</th>\n",
       "      <th>MarketValue</th>\n",
       "      <th>ClubInvolved</th>\n",
       "      <th>CountryInvolved</th>\n",
       "      <th>Fee</th>\n",
       "      <th>Movement</th>\n",
       "      <th>Season</th>\n",
       "      <th>Window</th>\n",
       "      <th>League</th>\n",
       "      <th>Profile</th>\n",
       "    </tr>\n",
       "  </thead>\n",
       "  <tbody>\n",
       "    <tr>\n",
       "      <th>0</th>\n",
       "      <td>Chelsea FC</td>\n",
       "      <td>Álvaro Morata</td>\n",
       "      <td>24</td>\n",
       "      <td>Spain</td>\n",
       "      <td>Centre-Forward</td>\n",
       "      <td>CF</td>\n",
       "      <td>£36.00m</td>\n",
       "      <td>Real Madrid</td>\n",
       "      <td>Spain</td>\n",
       "      <td>£59.40m</td>\n",
       "      <td>In</td>\n",
       "      <td>2017</td>\n",
       "      <td>s</td>\n",
       "      <td>premier-league</td>\n",
       "      <td>https://www.transfermarkt.co.uk/alvaro-morata/...</td>\n",
       "    </tr>\n",
       "    <tr>\n",
       "      <th>1</th>\n",
       "      <td>Chelsea FC</td>\n",
       "      <td>Tiemoué Bakayoko</td>\n",
       "      <td>22</td>\n",
       "      <td>France</td>\n",
       "      <td>Defensive Midfield</td>\n",
       "      <td>DM</td>\n",
       "      <td>£14.40m</td>\n",
       "      <td>AS Monaco</td>\n",
       "      <td>France</td>\n",
       "      <td>£36.00m</td>\n",
       "      <td>In</td>\n",
       "      <td>2017</td>\n",
       "      <td>s</td>\n",
       "      <td>premier-league</td>\n",
       "      <td>https://www.transfermarkt.co.uk/tiemoue-bakayo...</td>\n",
       "    </tr>\n",
       "    <tr>\n",
       "      <th>2</th>\n",
       "      <td>Chelsea FC</td>\n",
       "      <td>Danny Drinkwater</td>\n",
       "      <td>27</td>\n",
       "      <td>England</td>\n",
       "      <td>Central Midfield</td>\n",
       "      <td>CM</td>\n",
       "      <td>£8.10m</td>\n",
       "      <td>Leicester City</td>\n",
       "      <td>England</td>\n",
       "      <td>£34.11m</td>\n",
       "      <td>In</td>\n",
       "      <td>2017</td>\n",
       "      <td>s</td>\n",
       "      <td>premier-league</td>\n",
       "      <td>https://www.transfermarkt.co.uk/danny-drinkwat...</td>\n",
       "    </tr>\n",
       "    <tr>\n",
       "      <th>3</th>\n",
       "      <td>Chelsea FC</td>\n",
       "      <td>Antonio Rüdiger</td>\n",
       "      <td>24</td>\n",
       "      <td>Germany</td>\n",
       "      <td>Centre-Back</td>\n",
       "      <td>CB</td>\n",
       "      <td>£22.50m</td>\n",
       "      <td>AS Roma</td>\n",
       "      <td>Italy</td>\n",
       "      <td>£31.50m</td>\n",
       "      <td>In</td>\n",
       "      <td>2017</td>\n",
       "      <td>s</td>\n",
       "      <td>premier-league</td>\n",
       "      <td>https://www.transfermarkt.co.uk/antonio-rudige...</td>\n",
       "    </tr>\n",
       "    <tr>\n",
       "      <th>4</th>\n",
       "      <td>Chelsea FC</td>\n",
       "      <td>Davide Zappacosta</td>\n",
       "      <td>25</td>\n",
       "      <td>Italy</td>\n",
       "      <td>Right-Back</td>\n",
       "      <td>RB</td>\n",
       "      <td>£7.65m</td>\n",
       "      <td>Torino FC</td>\n",
       "      <td>Italy</td>\n",
       "      <td>£22.50m</td>\n",
       "      <td>In</td>\n",
       "      <td>2017</td>\n",
       "      <td>s</td>\n",
       "      <td>premier-league</td>\n",
       "      <td>https://www.transfermarkt.co.uk/davide-zappaco...</td>\n",
       "    </tr>\n",
       "  </tbody>\n",
       "</table>\n",
       "</div>"
      ],
      "text/plain": [
       "         Club               Name  Age Nationality            Position Pos  \\\n",
       "0  Chelsea FC      Álvaro Morata   24       Spain      Centre-Forward  CF   \n",
       "1  Chelsea FC   Tiemoué Bakayoko   22      France  Defensive Midfield  DM   \n",
       "2  Chelsea FC   Danny Drinkwater   27     England    Central Midfield  CM   \n",
       "3  Chelsea FC    Antonio Rüdiger   24     Germany         Centre-Back  CB   \n",
       "4  Chelsea FC  Davide Zappacosta   25       Italy          Right-Back  RB   \n",
       "\n",
       "  MarketValue    ClubInvolved CountryInvolved      Fee Movement  Season  \\\n",
       "0     £36.00m     Real Madrid           Spain  £59.40m       In    2017   \n",
       "1     £14.40m       AS Monaco          France  £36.00m       In    2017   \n",
       "2      £8.10m  Leicester City         England  £34.11m       In    2017   \n",
       "3     £22.50m         AS Roma           Italy  £31.50m       In    2017   \n",
       "4      £7.65m       Torino FC           Italy  £22.50m       In    2017   \n",
       "\n",
       "  Window          League                                            Profile  \n",
       "0      s  premier-league  https://www.transfermarkt.co.uk/alvaro-morata/...  \n",
       "1      s  premier-league  https://www.transfermarkt.co.uk/tiemoue-bakayo...  \n",
       "2      s  premier-league  https://www.transfermarkt.co.uk/danny-drinkwat...  \n",
       "3      s  premier-league  https://www.transfermarkt.co.uk/antonio-rudige...  \n",
       "4      s  premier-league  https://www.transfermarkt.co.uk/davide-zappaco...  "
      ]
     },
     "execution_count": 161,
     "metadata": {},
     "output_type": "execute_result"
    }
   ],
   "source": [
    "fut.head()"
   ]
  },
  {
   "cell_type": "markdown",
   "id": "accompanied-flavor",
   "metadata": {
    "slideshow": {
     "slide_type": "slide"
    }
   },
   "source": [
    "`lower()`, `upper()`, `title()`"
   ]
  },
  {
   "cell_type": "code",
   "execution_count": 162,
   "id": "coordinate-quarter",
   "metadata": {},
   "outputs": [
    {
     "data": {
      "text/plain": [
       "0        álvaro morata\n",
       "1     tiemoué bakayoko\n",
       "2     danny drinkwater\n",
       "3      antonio rüdiger\n",
       "4    davide zappacosta\n",
       "Name: Name, dtype: object"
      ]
     },
     "execution_count": 162,
     "metadata": {},
     "output_type": "execute_result"
    }
   ],
   "source": [
    "fut['Name'].str.lower().head()"
   ]
  },
  {
   "cell_type": "markdown",
   "id": "ahead-being",
   "metadata": {
    "slideshow": {
     "slide_type": "slide"
    }
   },
   "source": [
    "`strip()`"
   ]
  },
  {
   "cell_type": "code",
   "execution_count": 163,
   "id": "scientific-international",
   "metadata": {},
   "outputs": [
    {
     "data": {
      "text/plain": [
       "'espacio'"
      ]
     },
     "execution_count": 163,
     "metadata": {},
     "output_type": "execute_result"
    }
   ],
   "source": [
    "s = ' espacio              '\n",
    "s.strip()"
   ]
  },
  {
   "cell_type": "markdown",
   "id": "unknown-hollow",
   "metadata": {
    "slideshow": {
     "slide_type": "slide"
    }
   },
   "source": [
    "`split()`"
   ]
  },
  {
   "cell_type": "code",
   "execution_count": 164,
   "id": "standard-calgary",
   "metadata": {},
   "outputs": [
    {
     "data": {
      "text/plain": [
       "['ciencia', 'de', 'redes']"
      ]
     },
     "execution_count": 164,
     "metadata": {},
     "output_type": "execute_result"
    }
   ],
   "source": [
    "# Tokenización\n",
    "s = 'ciencia de redes'\n",
    "s.split()"
   ]
  },
  {
   "cell_type": "markdown",
   "id": "pending-jurisdiction",
   "metadata": {
    "slideshow": {
     "slide_type": "slide"
    }
   },
   "source": [
    "`center()`, `rjust()`, `zfill()`"
   ]
  },
  {
   "cell_type": "code",
   "execution_count": 165,
   "id": "confident-night",
   "metadata": {},
   "outputs": [
    {
     "name": "stdout",
     "output_type": "stream",
     "text": [
      "*******ciencia de redes*******\n",
      "00000000000000ciencia de redes\n",
      "              ciencia de redes\n"
     ]
    }
   ],
   "source": [
    "print(s.center(30, \"*\"))\n",
    "print(s.zfill(30))\n",
    "print(s.rjust(30))"
   ]
  },
  {
   "cell_type": "markdown",
   "id": "compact-strength",
   "metadata": {
    "slideshow": {
     "slide_type": "slide"
    }
   },
   "source": [
    "`swapcase()`, `join()`"
   ]
  },
  {
   "cell_type": "code",
   "execution_count": 166,
   "id": "posted-science",
   "metadata": {},
   "outputs": [
    {
     "data": {
      "text/plain": [
       "'cIENIA dE rEDES'"
      ]
     },
     "execution_count": 166,
     "metadata": {},
     "output_type": "execute_result"
    }
   ],
   "source": [
    "s = 'Cienia De Redes'\n",
    "s.swapcase()"
   ]
  },
  {
   "cell_type": "code",
   "execution_count": 167,
   "id": "hazardous-ontario",
   "metadata": {},
   "outputs": [
    {
     "data": {
      "text/plain": [
       "'ciencia de redes'"
      ]
     },
     "execution_count": 167,
     "metadata": {},
     "output_type": "execute_result"
    }
   ],
   "source": [
    "s = ['ciencia', 'de', 'redes']\n",
    "' '.join(s)"
   ]
  },
  {
   "cell_type": "markdown",
   "id": "consolidated-melissa",
   "metadata": {
    "slideshow": {
     "slide_type": "slide"
    }
   },
   "source": [
    "# Regular expressions\n",
    "\n",
    "- 1951: Stephen Cole Kleene invented the concept of Regular Language and Regular Expressions.\n",
    "- mid-1960: Ken Thompson implemented pattern matching using Kleen's notation.\n",
    "- Since then: Regexes (Regular expressions) are ubiquitious in programming languages, text editors, etc."
   ]
  },
  {
   "cell_type": "markdown",
   "id": "liked-perfume",
   "metadata": {
    "slideshow": {
     "slide_type": "slide"
    }
   },
   "source": [
    "## Some Regexes\n",
    "\n",
    "- `.` | Matches any character except line terminators like `\\n`\n",
    "- `A|B` | Matches expression A or B. If A is matched first, B is left untried.\n",
    "- `\\w` | Matches alphanumeric characters, which means a-z, A-Z, and 0-9. It also matches the underscore, _.\n",
    "- `\\d` | Matches digits, which means 0-9."
   ]
  },
  {
   "cell_type": "markdown",
   "id": "mediterranean-exception",
   "metadata": {
    "slideshow": {
     "slide_type": "slide"
    }
   },
   "source": [
    "### The `re` module\n",
    "\n",
    "```python\n",
    "re.search(<regex>, <string>)\n",
    "```\n",
    "\n",
    "`re.search(<regex>, <string>)` scans `<string>` looking for the first location where the pattern `<regex>` matches. If a match is found, then `re.search()` returns a match object. Otherwise, it returns `None`."
   ]
  },
  {
   "cell_type": "code",
   "execution_count": 168,
   "id": "false-maine",
   "metadata": {
    "slideshow": {
     "slide_type": "slide"
    }
   },
   "outputs": [
    {
     "data": {
      "text/plain": [
       "<re.Match object; span=(2, 3), match='3'>"
      ]
     },
     "execution_count": 168,
     "metadata": {},
     "output_type": "execute_result"
    }
   ],
   "source": [
    "# example, match a digit\n",
    "s = '$ 340USD'\n",
    "re.search('\\d', s)"
   ]
  },
  {
   "cell_type": "markdown",
   "id": "norman-vintage",
   "metadata": {
    "slideshow": {
     "slide_type": "slide"
    }
   },
   "source": [
    "- `\\d`: Digit\n",
    "- `+`: Greedily matches the expression to its left 1 or more times."
   ]
  },
  {
   "cell_type": "code",
   "execution_count": 169,
   "id": "novel-intent",
   "metadata": {},
   "outputs": [
    {
     "data": {
      "text/plain": [
       "<re.Match object; span=(0, 1), match='$'>"
      ]
     },
     "execution_count": 169,
     "metadata": {},
     "output_type": "execute_result"
    }
   ],
   "source": [
    "# Match all digits\n",
    "s = '$ 128USD'\n",
    "re.search('\\$', s)"
   ]
  },
  {
   "cell_type": "code",
   "execution_count": 170,
   "id": "confident-clerk",
   "metadata": {},
   "outputs": [
    {
     "name": "stdout",
     "output_type": "stream",
     "text": [
      "('340', 'USD')\n"
     ]
    }
   ],
   "source": [
    "# Match from the digits until the end\n",
    "s = '$ 340USD'\n",
    "r = re.search('(\\d+)(\\w+)', s)\n",
    "print(r.groups())"
   ]
  },
  {
   "cell_type": "markdown",
   "id": "comprehensive-handy",
   "metadata": {
    "slideshow": {
     "slide_type": "slide"
    }
   },
   "source": [
    "Groups\n",
    "\n",
    "- `( )` | Matches the expression inside the parentheses and groups it.\n",
    "- `.` Any character\n",
    "- `*` Greedily matches the expression to its left 0 or more times."
   ]
  },
  {
   "cell_type": "code",
   "execution_count": 171,
   "id": "outstanding-enemy",
   "metadata": {},
   "outputs": [
    {
     "name": "stdout",
     "output_type": "stream",
     "text": [
      "('340', 'USD')\n",
      "('USD', '340')\n"
     ]
    }
   ],
   "source": [
    "# groups\n",
    "print(r.groups())\n",
    "# access group by group\n",
    "print(r.group(2, 1))"
   ]
  },
  {
   "cell_type": "code",
   "execution_count": 172,
   "id": "fallen-pickup",
   "metadata": {},
   "outputs": [
    {
     "name": "stdout",
     "output_type": "stream",
     "text": [
      "('$', '340', 'USD')\n"
     ]
    }
   ],
   "source": [
    "# Group dollar sign, digits and currency\n",
    "s = '$ 340USD'\n",
    "r = re.search('(^.) (\\d+)(\\w+)', s)\n",
    "print(r.groups())"
   ]
  },
  {
   "cell_type": "markdown",
   "id": "posted-evolution",
   "metadata": {
    "slideshow": {
     "slide_type": "slide"
    }
   },
   "source": [
    "- `^`: Matches the expression to its right at the start of a string. It matches every such instance before each \\n in the string.\n",
    "- `\\s`: Matches whitespace characters, which include the \\t, \\n, \\r, and space characters.\n",
    "- `\\S` | Matches non-whitespace characters."
   ]
  },
  {
   "cell_type": "code",
   "execution_count": 173,
   "id": "excited-austin",
   "metadata": {},
   "outputs": [
    {
     "name": "stdout",
     "output_type": "stream",
     "text": [
      "('$', '340', 'USD')\n"
     ]
    }
   ],
   "source": [
    "# Instead of `.` use `\\S` to match `$`\n",
    "s = '$ 340USD'\n",
    "r = re.search('^(\\S)\\s+(\\d+)(.*)', s)\n",
    "print(r.groups())"
   ]
  },
  {
   "cell_type": "markdown",
   "id": "increasing-citizen",
   "metadata": {
    "slideshow": {
     "slide_type": "slide"
    }
   },
   "source": [
    "### LookAhead and LookBehind\n",
    "\n",
    "- `A(?=B)` | Lookahead assertion. This matches the expression A only if it is followed by B.\n",
    "- `(?<=B)A` | Positive lookbehind assertion. This matches the expression A only if B is immediately to its left. This can only matched fixed length expressions."
   ]
  },
  {
   "cell_type": "code",
   "execution_count": 174,
   "id": "endless-institute",
   "metadata": {
    "slideshow": {
     "slide_type": "slide"
    }
   },
   "outputs": [
    {
     "name": "stdout",
     "output_type": "stream",
     "text": [
      "<re.Match object; span=(0, 3), match='529'>\n",
      "None\n"
     ]
    }
   ],
   "source": [
    "# look for mxn pesos\n",
    "s1 = '529MXN'\n",
    "s2 = '10USD'\n",
    "print(re.search('\\d+(?=MXN)', s1))\n",
    "print(re.search('\\d+(?=MXN)', s2))"
   ]
  },
  {
   "cell_type": "code",
   "execution_count": 175,
   "id": "worse-happening",
   "metadata": {
    "slideshow": {
     "slide_type": "slide"
    }
   },
   "outputs": [
    {
     "name": "stdout",
     "output_type": "stream",
     "text": [
      "None\n",
      "<re.Match object; span=(1, 3), match='10'>\n"
     ]
    }
   ],
   "source": [
    "# look for cents\n",
    "s1 = '$529'\n",
    "s2 = '¢10'\n",
    "print(re.search('(?<=¢)\\d+', s1))\n",
    "print(re.search('(?<=¢)\\d+', s2))"
   ]
  },
  {
   "cell_type": "markdown",
   "id": "streaming-envelope",
   "metadata": {
    "slideshow": {
     "slide_type": "slide"
    }
   },
   "source": [
    "Negative lookAhead and lookBehind\n",
    "\n",
    "\n",
    "- `A(?!B)` | Negative lookahead assertion. This matches the expression A only if it is not followed by B.\n",
    "- `(?<!B)A` | Negative lookbehind assertion. This matches the expression A only if B is not immediately to its left. This can only matched fixed length expressions."
   ]
  },
  {
   "cell_type": "code",
   "execution_count": 176,
   "id": "searching-kuwait",
   "metadata": {
    "slideshow": {
     "slide_type": "slide"
    }
   },
   "outputs": [
    {
     "name": "stdout",
     "output_type": "stream",
     "text": [
      "None\n",
      "<re.Match object; span=(1, 3), match='10'>\n"
     ]
    }
   ],
   "source": [
    "# look for non-word pre-matches\n",
    "s1 = 'p529'\n",
    "s2 = '¢10'\n",
    "print(re.search('(?<!\\w)\\d+', s1))\n",
    "print(re.search('(?<!\\w)\\d+', s2))"
   ]
  },
  {
   "cell_type": "markdown",
   "id": "challenging-citizen",
   "metadata": {
    "slideshow": {
     "slide_type": "slide"
    }
   },
   "source": [
    "### Apply in columns\n",
    "\n",
    "- Get the market value of each player as a float.\n",
    "- Get the currency of the value."
   ]
  },
  {
   "cell_type": "code",
   "execution_count": 177,
   "id": "tender-magic",
   "metadata": {
    "slideshow": {
     "slide_type": "slide"
    }
   },
   "outputs": [
    {
     "data": {
      "text/html": [
       "<div>\n",
       "<style scoped>\n",
       "    .dataframe tbody tr th:only-of-type {\n",
       "        vertical-align: middle;\n",
       "    }\n",
       "\n",
       "    .dataframe tbody tr th {\n",
       "        vertical-align: top;\n",
       "    }\n",
       "\n",
       "    .dataframe thead th {\n",
       "        text-align: right;\n",
       "    }\n",
       "</style>\n",
       "<table border=\"1\" class=\"dataframe\">\n",
       "  <thead>\n",
       "    <tr style=\"text-align: right;\">\n",
       "      <th></th>\n",
       "      <th>club</th>\n",
       "      <th>name</th>\n",
       "      <th>age</th>\n",
       "      <th>nationality</th>\n",
       "      <th>position</th>\n",
       "      <th>pos</th>\n",
       "      <th>marketvalue</th>\n",
       "      <th>clubinvolved</th>\n",
       "      <th>countryinvolved</th>\n",
       "      <th>fee</th>\n",
       "      <th>movement</th>\n",
       "      <th>season</th>\n",
       "      <th>window</th>\n",
       "      <th>league</th>\n",
       "      <th>profile</th>\n",
       "    </tr>\n",
       "  </thead>\n",
       "  <tbody>\n",
       "    <tr>\n",
       "      <th>0</th>\n",
       "      <td>Chelsea FC</td>\n",
       "      <td>Álvaro Morata</td>\n",
       "      <td>24</td>\n",
       "      <td>Spain</td>\n",
       "      <td>Centre-Forward</td>\n",
       "      <td>CF</td>\n",
       "      <td>£36.00m</td>\n",
       "      <td>Real Madrid</td>\n",
       "      <td>Spain</td>\n",
       "      <td>£59.40m</td>\n",
       "      <td>In</td>\n",
       "      <td>2017</td>\n",
       "      <td>s</td>\n",
       "      <td>premier-league</td>\n",
       "      <td>https://www.transfermarkt.co.uk/alvaro-morata/...</td>\n",
       "    </tr>\n",
       "    <tr>\n",
       "      <th>1</th>\n",
       "      <td>Chelsea FC</td>\n",
       "      <td>Tiemoué Bakayoko</td>\n",
       "      <td>22</td>\n",
       "      <td>France</td>\n",
       "      <td>Defensive Midfield</td>\n",
       "      <td>DM</td>\n",
       "      <td>£14.40m</td>\n",
       "      <td>AS Monaco</td>\n",
       "      <td>France</td>\n",
       "      <td>£36.00m</td>\n",
       "      <td>In</td>\n",
       "      <td>2017</td>\n",
       "      <td>s</td>\n",
       "      <td>premier-league</td>\n",
       "      <td>https://www.transfermarkt.co.uk/tiemoue-bakayo...</td>\n",
       "    </tr>\n",
       "    <tr>\n",
       "      <th>2</th>\n",
       "      <td>Chelsea FC</td>\n",
       "      <td>Danny Drinkwater</td>\n",
       "      <td>27</td>\n",
       "      <td>England</td>\n",
       "      <td>Central Midfield</td>\n",
       "      <td>CM</td>\n",
       "      <td>£8.10m</td>\n",
       "      <td>Leicester City</td>\n",
       "      <td>England</td>\n",
       "      <td>£34.11m</td>\n",
       "      <td>In</td>\n",
       "      <td>2017</td>\n",
       "      <td>s</td>\n",
       "      <td>premier-league</td>\n",
       "      <td>https://www.transfermarkt.co.uk/danny-drinkwat...</td>\n",
       "    </tr>\n",
       "    <tr>\n",
       "      <th>3</th>\n",
       "      <td>Chelsea FC</td>\n",
       "      <td>Antonio Rüdiger</td>\n",
       "      <td>24</td>\n",
       "      <td>Germany</td>\n",
       "      <td>Centre-Back</td>\n",
       "      <td>CB</td>\n",
       "      <td>£22.50m</td>\n",
       "      <td>AS Roma</td>\n",
       "      <td>Italy</td>\n",
       "      <td>£31.50m</td>\n",
       "      <td>In</td>\n",
       "      <td>2017</td>\n",
       "      <td>s</td>\n",
       "      <td>premier-league</td>\n",
       "      <td>https://www.transfermarkt.co.uk/antonio-rudige...</td>\n",
       "    </tr>\n",
       "    <tr>\n",
       "      <th>4</th>\n",
       "      <td>Chelsea FC</td>\n",
       "      <td>Davide Zappacosta</td>\n",
       "      <td>25</td>\n",
       "      <td>Italy</td>\n",
       "      <td>Right-Back</td>\n",
       "      <td>RB</td>\n",
       "      <td>£7.65m</td>\n",
       "      <td>Torino FC</td>\n",
       "      <td>Italy</td>\n",
       "      <td>£22.50m</td>\n",
       "      <td>In</td>\n",
       "      <td>2017</td>\n",
       "      <td>s</td>\n",
       "      <td>premier-league</td>\n",
       "      <td>https://www.transfermarkt.co.uk/davide-zappaco...</td>\n",
       "    </tr>\n",
       "  </tbody>\n",
       "</table>\n",
       "</div>"
      ],
      "text/plain": [
       "         club               name  age nationality            position pos  \\\n",
       "0  Chelsea FC      Álvaro Morata   24       Spain      Centre-Forward  CF   \n",
       "1  Chelsea FC   Tiemoué Bakayoko   22      France  Defensive Midfield  DM   \n",
       "2  Chelsea FC   Danny Drinkwater   27     England    Central Midfield  CM   \n",
       "3  Chelsea FC    Antonio Rüdiger   24     Germany         Centre-Back  CB   \n",
       "4  Chelsea FC  Davide Zappacosta   25       Italy          Right-Back  RB   \n",
       "\n",
       "  marketvalue    clubinvolved countryinvolved      fee movement  season  \\\n",
       "0     £36.00m     Real Madrid           Spain  £59.40m       In    2017   \n",
       "1     £14.40m       AS Monaco          France  £36.00m       In    2017   \n",
       "2      £8.10m  Leicester City         England  £34.11m       In    2017   \n",
       "3     £22.50m         AS Roma           Italy  £31.50m       In    2017   \n",
       "4      £7.65m       Torino FC           Italy  £22.50m       In    2017   \n",
       "\n",
       "  window          league                                            profile  \n",
       "0      s  premier-league  https://www.transfermarkt.co.uk/alvaro-morata/...  \n",
       "1      s  premier-league  https://www.transfermarkt.co.uk/tiemoue-bakayo...  \n",
       "2      s  premier-league  https://www.transfermarkt.co.uk/danny-drinkwat...  \n",
       "3      s  premier-league  https://www.transfermarkt.co.uk/antonio-rudige...  \n",
       "4      s  premier-league  https://www.transfermarkt.co.uk/davide-zappaco...  "
      ]
     },
     "execution_count": 177,
     "metadata": {},
     "output_type": "execute_result"
    }
   ],
   "source": [
    "fut.columns = fut.columns.str.lower()\n",
    "fut.head()"
   ]
  },
  {
   "cell_type": "code",
   "execution_count": 178,
   "id": "organic-graduation",
   "metadata": {
    "slideshow": {
     "slide_type": "slide"
    }
   },
   "outputs": [
    {
     "data": {
      "text/plain": [
       "791    £450Th.\n",
       "792     £90Th.\n",
       "793    £450Th.\n",
       "794    £315Th.\n",
       "795     £1.35m\n",
       "Name: marketvalue, dtype: object"
      ]
     },
     "execution_count": 178,
     "metadata": {},
     "output_type": "execute_result"
    }
   ],
   "source": [
    "# Eliminate white space\n",
    "fut['marketvalue'] = fut['marketvalue'].str.replace('\\s', '', regex=True)\n",
    "fut['marketvalue'].tail()"
   ]
  },
  {
   "cell_type": "code",
   "execution_count": 179,
   "id": "vietnamese-offer",
   "metadata": {
    "slideshow": {
     "slide_type": "slide"
    }
   },
   "outputs": [
    {
     "name": "stdout",
     "output_type": "stream",
     "text": [
      "('£', '450', 'Th')\n",
      "('.', '35', 'm')\n"
     ]
    }
   ],
   "source": [
    "# Group currency, amount and unit\n",
    "s1 = '£450Th.'\n",
    "s2 = '$1.35m'\n",
    "print(re.search('(\\W)(\\d+)(\\w+)', s1).groups())\n",
    "print(re.search('(\\W)(\\d+)(\\w+)', s2).groups())"
   ]
  },
  {
   "cell_type": "code",
   "execution_count": 180,
   "id": "substantial-superior",
   "metadata": {
    "slideshow": {
     "slide_type": "slide"
    }
   },
   "outputs": [
    {
     "name": "stdout",
     "output_type": "stream",
     "text": [
      "('$', '1.35', 'm')\n"
     ]
    },
    {
     "ename": "AttributeError",
     "evalue": "'NoneType' object has no attribute 'groups'",
     "output_type": "error",
     "traceback": [
      "\u001b[0;31m---------------------------------------------------------------------------\u001b[0m",
      "\u001b[0;31mAttributeError\u001b[0m                            Traceback (most recent call last)",
      "\u001b[0;32m<ipython-input-180-239e46a8fa77>\u001b[0m in \u001b[0;36m<module>\u001b[0;34m\u001b[0m\n\u001b[1;32m      3\u001b[0m \u001b[0ms1\u001b[0m \u001b[0;34m=\u001b[0m \u001b[0;34m'£450Th.'\u001b[0m\u001b[0;34m\u001b[0m\u001b[0;34m\u001b[0m\u001b[0m\n\u001b[1;32m      4\u001b[0m \u001b[0mprint\u001b[0m\u001b[0;34m(\u001b[0m\u001b[0mre\u001b[0m\u001b[0;34m.\u001b[0m\u001b[0msearch\u001b[0m\u001b[0;34m(\u001b[0m\u001b[0;34m'(^\\W)(\\d+\\.\\d+)(\\w+)'\u001b[0m\u001b[0;34m,\u001b[0m \u001b[0ms2\u001b[0m\u001b[0;34m)\u001b[0m\u001b[0;34m.\u001b[0m\u001b[0mgroups\u001b[0m\u001b[0;34m(\u001b[0m\u001b[0;34m)\u001b[0m\u001b[0;34m)\u001b[0m\u001b[0;34m\u001b[0m\u001b[0;34m\u001b[0m\u001b[0m\n\u001b[0;32m----> 5\u001b[0;31m \u001b[0mprint\u001b[0m\u001b[0;34m(\u001b[0m\u001b[0mre\u001b[0m\u001b[0;34m.\u001b[0m\u001b[0msearch\u001b[0m\u001b[0;34m(\u001b[0m\u001b[0;34m'(^\\W)(\\d+\\.\\d+)(\\w+)'\u001b[0m\u001b[0;34m,\u001b[0m \u001b[0ms1\u001b[0m\u001b[0;34m)\u001b[0m\u001b[0;34m.\u001b[0m\u001b[0mgroups\u001b[0m\u001b[0;34m(\u001b[0m\u001b[0;34m)\u001b[0m\u001b[0;34m)\u001b[0m\u001b[0;34m\u001b[0m\u001b[0;34m\u001b[0m\u001b[0m\n\u001b[0m",
      "\u001b[0;31mAttributeError\u001b[0m: 'NoneType' object has no attribute 'groups'"
     ]
    }
   ],
   "source": [
    "# What about the decimal point?\n",
    "s2 = '$1.35m'\n",
    "s1 = '£450Th.'\n",
    "print(re.search('(^\\W)(\\d+\\.\\d+)(\\w+)', s2).groups())\n",
    "print(re.search('(^\\W)(\\d+\\.\\d+)(\\w+)', s1).groups())"
   ]
  },
  {
   "cell_type": "code",
   "execution_count": 181,
   "id": "corrected-coaching",
   "metadata": {},
   "outputs": [
    {
     "data": {
      "text/plain": [
       "'£450Th.'"
      ]
     },
     "execution_count": 181,
     "metadata": {},
     "output_type": "execute_result"
    }
   ],
   "source": [
    "s1"
   ]
  },
  {
   "cell_type": "code",
   "execution_count": 182,
   "id": "hawaiian-knitting",
   "metadata": {
    "slideshow": {
     "slide_type": "slide"
    }
   },
   "outputs": [
    {
     "ename": "AttributeError",
     "evalue": "'NoneType' object has no attribute 'groups'",
     "output_type": "error",
     "traceback": [
      "\u001b[0;31m---------------------------------------------------------------------------\u001b[0m",
      "\u001b[0;31mAttributeError\u001b[0m                            Traceback (most recent call last)",
      "\u001b[0;32m<ipython-input-182-d0c3c7708b78>\u001b[0m in \u001b[0;36m<module>\u001b[0;34m\u001b[0m\n\u001b[1;32m      1\u001b[0m \u001b[0;31m# Does it match non-decimal point amounts?\u001b[0m\u001b[0;34m\u001b[0m\u001b[0;34m\u001b[0m\u001b[0;34m\u001b[0m\u001b[0m\n\u001b[0;32m----> 2\u001b[0;31m \u001b[0mprint\u001b[0m\u001b[0;34m(\u001b[0m\u001b[0mre\u001b[0m\u001b[0;34m.\u001b[0m\u001b[0msearch\u001b[0m\u001b[0;34m(\u001b[0m\u001b[0;34m'(\\W)(\\d+\\.\\d+)(\\w+)'\u001b[0m\u001b[0;34m,\u001b[0m \u001b[0ms1\u001b[0m\u001b[0;34m)\u001b[0m\u001b[0;34m.\u001b[0m\u001b[0mgroups\u001b[0m\u001b[0;34m(\u001b[0m\u001b[0;34m)\u001b[0m\u001b[0;34m)\u001b[0m\u001b[0;34m\u001b[0m\u001b[0;34m\u001b[0m\u001b[0m\n\u001b[0m",
      "\u001b[0;31mAttributeError\u001b[0m: 'NoneType' object has no attribute 'groups'"
     ]
    }
   ],
   "source": [
    "# Does it match non-decimal point amounts?\n",
    "print(re.search('(\\W)(\\d+\\.\\d+)(\\w+)', s1).groups())"
   ]
  },
  {
   "cell_type": "markdown",
   "id": "increasing-british",
   "metadata": {
    "slideshow": {
     "slide_type": "slide"
    }
   },
   "source": [
    "`?` | Greedily matches the expression to its left 0 or 1 times. But if ? is added to qualifiers (+, *, and ? itself) it will perform matches in a non-greedy manner."
   ]
  },
  {
   "cell_type": "code",
   "execution_count": 183,
   "id": "european-checkout",
   "metadata": {},
   "outputs": [
    {
     "name": "stdout",
     "output_type": "stream",
     "text": [
      "('£', '450', 'Th')\n"
     ]
    }
   ],
   "source": [
    "# Use regular expression `?`\n",
    "s1 = '£450Th.'\n",
    "print(re.search('(\\W)(\\d+\\.?\\d+)(\\w+)', s1).groups())"
   ]
  },
  {
   "cell_type": "markdown",
   "id": "straight-military",
   "metadata": {
    "slideshow": {
     "slide_type": "slide"
    }
   },
   "source": [
    "### Check for real cases"
   ]
  },
  {
   "cell_type": "code",
   "execution_count": null,
   "id": "norwegian-pasta",
   "metadata": {
    "slideshow": {
     "slide_type": "-"
    }
   },
   "outputs": [],
   "source": [
    "fut['marketvalue'].unique()"
   ]
  },
  {
   "cell_type": "code",
   "execution_count": 184,
   "id": "wired-postcard",
   "metadata": {},
   "outputs": [
    {
     "data": {
      "text/plain": [
       "0      £\n",
       "1      £\n",
       "2      £\n",
       "3      £\n",
       "4      £\n",
       "      ..\n",
       "791    £\n",
       "792    £\n",
       "793    £\n",
       "794    £\n",
       "795    £\n",
       "Name: marketvalue, Length: 796, dtype: object"
      ]
     },
     "execution_count": 184,
     "metadata": {},
     "output_type": "execute_result"
    }
   ],
   "source": [
    "fut['marketvalue'].apply(get_market)"
   ]
  },
  {
   "cell_type": "code",
   "execution_count": 185,
   "id": "laden-prototype",
   "metadata": {
    "slideshow": {
     "slide_type": "slide"
    }
   },
   "outputs": [],
   "source": [
    "def get_market(x, what='currency'):\n",
    "    r = re.search('(\\W)(\\d+\\.?\\d+)(\\w+)', x)\n",
    "    if not r:\n",
    "        return np.nan\n",
    "    if what == 'currency':\n",
    "        return r.group(1)\n",
    "    elif what == 'amount':\n",
    "        return float(r.group(2))\n",
    "    elif what == 'unit':\n",
    "        return r.group(3)\n",
    "    "
   ]
  },
  {
   "cell_type": "code",
   "execution_count": 186,
   "id": "excess-release",
   "metadata": {
    "slideshow": {
     "slide_type": "slide"
    }
   },
   "outputs": [],
   "source": [
    "# Get currency, amount and unit\n",
    "fut['currency'] = fut['marketvalue'].apply(get_market, what='currency')\n",
    "fut['amount'] = fut['marketvalue'].apply(get_market, what='amount')\n",
    "fut['unit'] = fut['marketvalue'].apply(get_market, what='unit')"
   ]
  },
  {
   "cell_type": "markdown",
   "id": "catholic-architecture",
   "metadata": {
    "slideshow": {
     "slide_type": "slide"
    }
   },
   "source": [
    "### Multiply amount by unit"
   ]
  },
  {
   "cell_type": "code",
   "execution_count": 187,
   "id": "dramatic-cleaning",
   "metadata": {
    "slideshow": {
     "slide_type": "-"
    }
   },
   "outputs": [
    {
     "data": {
      "text/plain": [
       "array(['m', nan, 'Th'], dtype=object)"
      ]
     },
     "execution_count": 187,
     "metadata": {},
     "output_type": "execute_result"
    }
   ],
   "source": [
    "# What kind of units we have\n",
    "fut['unit'].unique()"
   ]
  },
  {
   "cell_type": "markdown",
   "id": "exclusive-jaguar",
   "metadata": {
    "slideshow": {
     "slide_type": "slide"
    }
   },
   "source": [
    "```\n",
    "Signature:\n",
    "pd.Series.mask(\n",
    "    self,\n",
    "    cond,\n",
    "    other=nan,\n",
    "    inplace=False,\n",
    "    axis=None,\n",
    "    level=None,\n",
    "    errors='raise',\n",
    "    try_cast=False,\n",
    ")\n",
    "Docstring:\n",
    "Replace values where the condition is True.\n",
    "```"
   ]
  },
  {
   "cell_type": "code",
   "execution_count": 188,
   "id": "prime-alpha",
   "metadata": {
    "slideshow": {
     "slide_type": "slide"
    }
   },
   "outputs": [],
   "source": [
    "# Multiply using `mask`\n",
    "fut['amount'] = fut['amount'].mask(fut['unit'] == 'm', fut['amount'] * 1000000)\n",
    "\n",
    "fut['amount'] = fut['amount'].mask(fut['unit'] == 'Th', fut['amount'] * 1000)"
   ]
  },
  {
   "cell_type": "markdown",
   "id": "authentic-venture",
   "metadata": {
    "slideshow": {
     "slide_type": "slide"
    }
   },
   "source": [
    "### Change amount to millions\n",
    "\n",
    "- Change all units to `'m'`"
   ]
  },
  {
   "cell_type": "code",
   "execution_count": 189,
   "id": "accepted-remainder",
   "metadata": {},
   "outputs": [],
   "source": [
    "fut['amount'] = fut['amount'] / 1e6"
   ]
  },
  {
   "cell_type": "code",
   "execution_count": 190,
   "id": "synthetic-infrastructure",
   "metadata": {},
   "outputs": [],
   "source": [
    "fut.loc[fut['unit'].notna(), 'unit'] = 'm'"
   ]
  },
  {
   "cell_type": "markdown",
   "id": "seeing-bahrain",
   "metadata": {
    "slideshow": {
     "slide_type": "slide"
    }
   },
   "source": [
    "## Fine grain information about players' position\n",
    "\n",
    "The position can be either:\n",
    "\n",
    " - Forward\n",
    " - Midfield\n",
    " - Back\n",
    " - Winger\n",
    " - Goalkeeper\n",
    " - Stricker"
   ]
  },
  {
   "cell_type": "markdown",
   "id": "virtual-bridge",
   "metadata": {
    "slideshow": {
     "slide_type": "slide"
    }
   },
   "source": [
    "The direction can be:\n",
    "\n",
    "- Centre\n",
    "- Left\n",
    "- Right"
   ]
  },
  {
   "cell_type": "code",
   "execution_count": null,
   "id": "laughing-despite",
   "metadata": {
    "slideshow": {
     "slide_type": "slide"
    }
   },
   "outputs": [],
   "source": [
    "# Check for unique values\n",
    "fut['position'].unique()"
   ]
  },
  {
   "cell_type": "code",
   "execution_count": null,
   "id": "athletic-waste",
   "metadata": {
    "slideshow": {
     "slide_type": "slide"
    }
   },
   "outputs": [],
   "source": [
    "fut['position'] = fut['position'].str.lower()"
   ]
  },
  {
   "cell_type": "code",
   "execution_count": null,
   "id": "prompt-glance",
   "metadata": {
    "slideshow": {
     "slide_type": "slide"
    }
   },
   "outputs": [],
   "source": [
    "fut['position'] = fut['position'].str.replace('\\s', '-', regex=True)"
   ]
  },
  {
   "cell_type": "code",
   "execution_count": null,
   "id": "bridal-shelter",
   "metadata": {
    "slideshow": {
     "slide_type": "slide"
    }
   },
   "outputs": [],
   "source": [
    "fut['position'].unique()"
   ]
  },
  {
   "cell_type": "code",
   "execution_count": null,
   "id": "featured-morgan",
   "metadata": {
    "slideshow": {
     "slide_type": "slide"
    }
   },
   "outputs": [],
   "source": [
    "def get_position(x, what='position'):\n",
    "    r = re.search('(\\w+)-(\\w+)', x)\n",
    "    if not r:\n",
    "        return x\n",
    "    if what == 'position':\n",
    "        return r.group(2)\n",
    "    else:\n",
    "        return r.group(1)"
   ]
  },
  {
   "cell_type": "code",
   "execution_count": null,
   "id": "distinguished-cleaning",
   "metadata": {
    "slideshow": {
     "slide_type": "slide"
    }
   },
   "outputs": [],
   "source": [
    "fut['hor'] = fut['position'].apply(get_position)\n",
    "fut['ver'] = fut['position'].apply(get_position, what='vertical')"
   ]
  },
  {
   "cell_type": "code",
   "execution_count": null,
   "id": "equal-cycle",
   "metadata": {
    "slideshow": {
     "slide_type": "slide"
    }
   },
   "outputs": [],
   "source": [
    "fut['hor'].value_counts()"
   ]
  },
  {
   "cell_type": "markdown",
   "id": "dying-liquid",
   "metadata": {
    "slideshow": {
     "slide_type": "slide"
    }
   },
   "source": [
    "### Get the first and lastname of each player\n",
    "\n",
    "- Get number of spaces in name.\n",
    "- Add hyphen (`'-'`) in names with more than 2 spaces\n",
    "- Get first and last name"
   ]
  },
  {
   "cell_type": "code",
   "execution_count": null,
   "id": "inclusive-despite",
   "metadata": {
    "slideshow": {
     "slide_type": "slide"
    }
   },
   "outputs": [],
   "source": [
    "fut['len'] = fut['name'].str.split().str.len()"
   ]
  },
  {
   "cell_type": "code",
   "execution_count": null,
   "id": "inappropriate-ballet",
   "metadata": {
    "slideshow": {
     "slide_type": "slide"
    }
   },
   "outputs": [],
   "source": [
    "fut[fut['len'] > 2].head()"
   ]
  },
  {
   "cell_type": "markdown",
   "id": "raised-stanford",
   "metadata": {
    "slideshow": {
     "slide_type": "slide"
    }
   },
   "source": [
    "`\\b` | Matches the boundary (or empty string) at the start and end of a word, that is, between \\w and \\W"
   ]
  },
  {
   "cell_type": "code",
   "execution_count": null,
   "id": "previous-tower",
   "metadata": {},
   "outputs": [],
   "source": [
    "fut['name'].str.replace(r'(\\bvan\\b)\\s(\\w+)', r'\\1-\\2', regex=True).loc[618]"
   ]
  },
  {
   "cell_type": "code",
   "execution_count": null,
   "id": "floppy-income",
   "metadata": {},
   "outputs": [],
   "source": [
    "fut['name'].str.replace(r'(\\bde\\b)\\s(\\w+)', r'\\1-\\2', regex=True).loc[560]"
   ]
  },
  {
   "cell_type": "markdown",
   "id": "pleased-native",
   "metadata": {
    "slideshow": {
     "slide_type": "slide"
    }
   },
   "source": [
    "Remove `'Jr.'`"
   ]
  },
  {
   "cell_type": "code",
   "execution_count": null,
   "id": "confused-satellite",
   "metadata": {},
   "outputs": [],
   "source": [
    "fut['name'].str.replace(r'\\sJr.?', r'', regex=True).loc[9]"
   ]
  },
  {
   "cell_type": "code",
   "execution_count": null,
   "id": "demanding-newcastle",
   "metadata": {
    "slideshow": {
     "slide_type": "slide"
    }
   },
   "outputs": [],
   "source": [
    "fut['name'] = fut['name'].str.replace(r'(\\bvan\\b)\\s(\\w+)', r'\\1-\\2', regex=True)\n",
    "fut['name'] = fut['name'].str.replace(r'(\\bde\\b)\\s(\\w+)', r'\\1-\\2', regex=True)\n",
    "fut['name'] = fut['name'].str.replace(r'\\sJr.?', r'', regex=True)"
   ]
  },
  {
   "cell_type": "markdown",
   "id": "complete-squad",
   "metadata": {
    "slideshow": {
     "slide_type": "slide"
    }
   },
   "source": [
    "Use `rsplit()` to get lastname"
   ]
  },
  {
   "cell_type": "code",
   "execution_count": null,
   "id": "authorized-justice",
   "metadata": {},
   "outputs": [],
   "source": [
    "fut['name'].str.rsplit(n=1).head()"
   ]
  },
  {
   "cell_type": "code",
   "execution_count": null,
   "id": "looking-repair",
   "metadata": {
    "slideshow": {
     "slide_type": "slide"
    }
   },
   "outputs": [],
   "source": [
    "fut['last'] = fut['name'].str.rsplit(n=1).str[1]\n",
    "fut['first'] = fut['name'].str.rsplit(n=1).str[0]"
   ]
  },
  {
   "cell_type": "code",
   "execution_count": null,
   "id": "fluid-potential",
   "metadata": {
    "slideshow": {
     "slide_type": "slide"
    }
   },
   "outputs": [],
   "source": [
    "fut['first'].value_counts().head()"
   ]
  },
  {
   "cell_type": "code",
   "execution_count": null,
   "id": "chronic-things",
   "metadata": {
    "slideshow": {
     "slide_type": "slide"
    }
   },
   "outputs": [],
   "source": [
    "fut['last'].value_counts().head()"
   ]
  },
  {
   "cell_type": "markdown",
   "id": "aware-strap",
   "metadata": {
    "slideshow": {
     "slide_type": "slide"
    }
   },
   "source": [
    "# References\n",
    "\n",
    "- Regular Expressions: https://realpython.com/regex-python\n",
    "- Cheat Sheet: https://www.dataquest.io/blog/regex-cheatsheet/\n",
    "- Sudoku Regex: https://regexcrossword.com/"
   ]
  }
 ],
 "metadata": {
  "celltoolbar": "Slideshow",
  "kernelspec": {
   "display_name": "Python 3",
   "language": "python",
   "name": "python3"
  },
  "language_info": {
   "codemirror_mode": {
    "name": "ipython",
    "version": 3
   },
   "file_extension": ".py",
   "mimetype": "text/x-python",
   "name": "python",
   "nbconvert_exporter": "python",
   "pygments_lexer": "ipython3",
   "version": "3.9.1"
  }
 },
 "nbformat": 4,
 "nbformat_minor": 5
}
