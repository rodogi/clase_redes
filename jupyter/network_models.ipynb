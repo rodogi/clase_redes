{
 "cells": [
  {
   "cell_type": "code",
   "execution_count": 64,
   "id": "technical-reach",
   "metadata": {
    "slideshow": {
     "slide_type": "skip"
    }
   },
   "outputs": [],
   "source": [
    "import networkx as nx\n",
    "import seaborn as sns"
   ]
  },
  {
   "cell_type": "markdown",
   "id": "plain-convert",
   "metadata": {
    "slideshow": {
     "slide_type": "slide"
    }
   },
   "source": [
    "# Random models\n",
    "\n",
    "## Overview\n",
    "\n",
    "- Erdős-Rényi model\n",
    "- Albert-Barabási model\n",
    "- Configuration model"
   ]
  },
  {
   "cell_type": "markdown",
   "id": "manufactured-citizen",
   "metadata": {
    "slideshow": {
     "slide_type": "slide"
    }
   },
   "source": [
    "# Erdős-Rényi\n",
    "\n",
    "1) $G(n, m)$ Fixed $n$ nodes and $m$ edges.\n",
    " \n",
    "   - From the set of networks with n nodes and m edges, take one uniformly at random.\n",
    " \n",
    "2) $G(n, p)$ Fixed $n$ nodes and probability $p$ for each edge.\n",
    "   - From the set of networks with n nodes and m edges, take one with probability $p^m(1-p)^{{n \\choose 2}-m}$."
   ]
  },
  {
   "cell_type": "markdown",
   "id": "later-uncle",
   "metadata": {
    "slideshow": {
     "slide_type": "slide"
    }
   },
   "source": [
    "# Implement in Python $G(n, m)$\n",
    "\n",
    "For a non-directed graph $G$.\n",
    "\n",
    "Input:\n",
    " A number of nodes $n$ and a number of edges $m$.\n",
    " \n",
    "Output:\n",
    " A random simple network $G$ (no parallel edges or self loops) with $n$ nodes and $m$ edges."
   ]
  },
  {
   "cell_type": "markdown",
   "id": "interpreted-colorado",
   "metadata": {},
   "source": [
    "```python\n",
    "def G_nm(n, m):\n",
    "    return G\n",
    "    \n",
    "```"
   ]
  },
  {
   "cell_type": "markdown",
   "id": "behavioral-dimension",
   "metadata": {
    "slideshow": {
     "slide_type": "slide"
    }
   },
   "source": [
    "# First code block\n",
    "\n",
    "1) $m$ too large. Return complete network with $n$ nodes.\n",
    "\n",
    "2) $n=1$. Return graph with single node."
   ]
  },
  {
   "cell_type": "code",
   "execution_count": 1,
   "id": "final-bridal",
   "metadata": {
    "slideshow": {
     "slide_type": "slide"
    }
   },
   "outputs": [
    {
     "data": {
      "text/plain": [
       "[(0, 1), (0, 2), (0, 3), (1, 2), (1, 3), (2, 3)]"
      ]
     },
     "execution_count": 1,
     "metadata": {},
     "output_type": "execute_result"
    }
   ],
   "source": [
    "from itertools import combinations\n",
    "list(combinations(range(4), 2))"
   ]
  },
  {
   "cell_type": "markdown",
   "id": "mysterious-denmark",
   "metadata": {
    "slideshow": {
     "slide_type": "slide"
    }
   },
   "source": [
    "Input: n nodes and m edges.\n",
    "```python\n",
    "def G_nm(n, m):\n",
    "    G = nx.Graph()\n",
    "    nodes = range(n)\n",
    "    max_edges = n * (n - 1) / 2\n",
    "    if m >= max_edges:\n",
    "        edges = list(combinations(nodes, 2))\n",
    "        G.add_edges_from(edges)\n",
    "        return G\n",
    "    if n == 1:\n",
    "        G.add_node(0)\n",
    "        return G\n",
    "```"
   ]
  },
  {
   "cell_type": "markdown",
   "id": "extraordinary-telling",
   "metadata": {
    "slideshow": {
     "slide_type": "slide"
    }
   },
   "source": [
    "## Second block\n",
    "\n",
    "`while` number of edges $< m$: add edges uniformly.\n",
    "\n",
    "Select node $u$ and $v$ at random from $n$ and add edge $(u, v)$"
   ]
  },
  {
   "cell_type": "code",
   "execution_count": 13,
   "id": "rational-coordination",
   "metadata": {
    "slideshow": {
     "slide_type": "slide"
    }
   },
   "outputs": [
    {
     "data": {
      "text/plain": [
       "3"
      ]
     },
     "execution_count": 13,
     "metadata": {},
     "output_type": "execute_result"
    }
   ],
   "source": [
    "import random\n",
    "random.choice(range(4))"
   ]
  },
  {
   "cell_type": "code",
   "execution_count": null,
   "id": "several-dimension",
   "metadata": {
    "slideshow": {
     "slide_type": "slide"
    }
   },
   "outputs": [],
   "source": [
    "```python\n",
    "    G = nx.Graph()\n",
    "    nodes = range(n)\n",
    "    max_edges = n * (n - 1) / 2\n",
    "    n_edges = 0\n",
    "    while n_edges < m:\n",
    "        u = random.choice(nodes)\n",
    "        v = random.choice(nodes)\n",
    "        while u == v:\n",
    "            v = random.choice(nodes)\n",
    "        e = (u, v)\n",
    "        if e in G.edges:\n",
    "            continue\n",
    "        G.add_edge(u, v)\n",
    "        n_edges += 1\n",
    "```"
   ]
  },
  {
   "cell_type": "code",
   "execution_count": 39,
   "id": "virtual-safety",
   "metadata": {
    "slideshow": {
     "slide_type": "slide"
    }
   },
   "outputs": [],
   "source": [
    "def G_nm(n, m):\n",
    "    # First block\n",
    "    G = nx.Graph()\n",
    "    nodes = range(n)\n",
    "    G.add_nodes_from(nodes)\n",
    "    max_edges = n * (n - 1) / 2\n",
    "    if m >= max_edges:\n",
    "        edges = list(combinations(nodes, 2))\n",
    "        G.add_edges_from(edges)\n",
    "        return G\n",
    "    # Second Block\n",
    "    n_edges = 0\n",
    "    while n_edges < m:\n",
    "        u = random.choice(nodes)\n",
    "        v = random.choice(nodes)\n",
    "        if u != v and (u, v) not in G:\n",
    "            G.add_edge(u, v)\n",
    "            n_edges += 1\n",
    "    \n",
    "    return G"
   ]
  },
  {
   "cell_type": "markdown",
   "id": "handled-trial",
   "metadata": {
    "slideshow": {
     "slide_type": "slide"
    }
   },
   "source": [
    "# G(n, p) model\n",
    "\n",
    "**Input**: $n$ nodes and probability $p$ for each edge.\n",
    "\n",
    "**Output**: A random network $G$ with $n$ nodes."
   ]
  },
  {
   "cell_type": "markdown",
   "id": "separate-bibliography",
   "metadata": {
    "slideshow": {
     "slide_type": "slide"
    }
   },
   "source": [
    "# First Block\n",
    "\n",
    "If $p=0$ return network with $n$ nodes and zero edges. If $p>=1$ return complete network. "
   ]
  },
  {
   "cell_type": "markdown",
   "id": "tropical-tourism",
   "metadata": {
    "slideshow": {
     "slide_type": "slide"
    }
   },
   "source": [
    "```python\n",
    "def G_np(n, p):\n",
    "    nodes = range(n)\n",
    "    all_edges\n",
    "```"
   ]
  },
  {
   "cell_type": "markdown",
   "id": "reduced-plumbing",
   "metadata": {
    "slideshow": {
     "slide_type": "slide"
    }
   },
   "source": [
    "# Second Block\n",
    "\n",
    "Iterate over all possible edges and add each one if a random number is larger than $p$."
   ]
  },
  {
   "cell_type": "code",
   "execution_count": 42,
   "id": "equivalent-disability",
   "metadata": {
    "slideshow": {
     "slide_type": "slide"
    }
   },
   "outputs": [
    {
     "data": {
      "text/plain": [
       "0.13118798954943067"
      ]
     },
     "execution_count": 42,
     "metadata": {},
     "output_type": "execute_result"
    }
   ],
   "source": [
    "import random\n",
    "\n",
    "random.random()"
   ]
  },
  {
   "cell_type": "markdown",
   "id": "still-estate",
   "metadata": {
    "slideshow": {
     "slide_type": "slide"
    }
   },
   "source": [
    "```python\n",
    "    for e in all_edges:\n",
    "```"
   ]
  },
  {
   "cell_type": "code",
   "execution_count": null,
   "id": "packed-cemetery",
   "metadata": {
    "slideshow": {
     "slide_type": "slide"
    }
   },
   "outputs": [],
   "source": [
    "def G_np(n, p):\n",
    "    nodes = range(n)\n",
    "    all_edges = list(combinations(nodes, 2))\n",
    "    G = nx.Graph()\n",
    "    G.add_nodes_from(nodes)\n",
    "    # First Block\n",
    "    if p == 0:\n",
    "        return G\n",
    "    if p >= 1:\n",
    "        G.add_edges_from(all_edges)\n",
    "        return G\n",
    "    # Second Block\n",
    "    for e in all_edges:\n",
    "        r = random.random()\n",
    "        if r <= p:\n",
    "            G.add_edge(e[0], e[1])\n",
    "            \n",
    "    return G"
   ]
  },
  {
   "cell_type": "markdown",
   "id": "sapphire-group",
   "metadata": {
    "slideshow": {
     "slide_type": "slide"
    }
   },
   "source": [
    "# Valor esperado del número de aristas\n",
    "\n",
    "Cuando $X$ es una variable aleatória,\n",
    "$$E[X] = \\sum_{x \\in X} xp_x$$\n",
    "\n",
    "Valor esperado de $m$ cuando la probabilidad es $p$?\n",
    "\n",
    "$$E[m] = \\sum_{e \\in E}p = {n \\choose 2}p$$"
   ]
  },
  {
   "cell_type": "code",
   "execution_count": 62,
   "id": "mechanical-friendship",
   "metadata": {
    "slideshow": {
     "slide_type": "slide"
    }
   },
   "outputs": [
    {
     "name": "stdout",
     "output_type": "stream",
     "text": [
      "558.75\n"
     ]
    }
   ],
   "source": [
    "p = 0.05\n",
    "n = 150\n",
    "exp = n * (n - 1) / 2 * p\n",
    "print(exp)"
   ]
  },
  {
   "cell_type": "code",
   "execution_count": 65,
   "id": "invisible-island",
   "metadata": {
    "slideshow": {
     "slide_type": "slide"
    }
   },
   "outputs": [
    {
     "data": {
      "text/plain": [
       "<seaborn.axisgrid.FacetGrid at 0x7fce0b2c3730>"
      ]
     },
     "execution_count": 65,
     "metadata": {},
     "output_type": "execute_result"
    },
    {
     "data": {
      "image/png": "[encoded data removed]",
      "text/plain": [
       "<Figure size 360x360 with 1 Axes>"
      ]
     },
     "metadata": {
      "needs_background": "light"
     },
     "output_type": "display_data"
    }
   ],
   "source": [
    "import seaborn as sns\n",
    "\n",
    "graphs_m = []\n",
    "for i in range(500):\n",
    "    G = G_np(n, p)\n",
    "    graphs_m.append(len(G.edges))\n",
    "sns.displot(graphs_m)"
   ]
  },
  {
   "cell_type": "markdown",
   "id": "female-average",
   "metadata": {
    "slideshow": {
     "slide_type": "slide"
    }
   },
   "source": [
    "# Expected Mean degree\n",
    "\n",
    "Mean degree $\\Delta$ of a network with m edges is $2m/n$.\n",
    "\n",
    "Expected mean degree of a random network with $m$ edges:\n",
    "\n",
    "$$E[\\Delta] = E[2m/n] = 2/n E[m] = 2/n {n \\choose 2} p = (n-1)p $$"
   ]
  },
  {
   "cell_type": "code",
   "execution_count": 67,
   "id": "cubic-blood",
   "metadata": {
    "slideshow": {
     "slide_type": "slide"
    }
   },
   "outputs": [
    {
     "name": "stdout",
     "output_type": "stream",
     "text": [
      "7.45\n"
     ]
    },
    {
     "data": {
      "text/plain": [
       "<seaborn.axisgrid.FacetGrid at 0x7fce0a35df40>"
      ]
     },
     "execution_count": 67,
     "metadata": {},
     "output_type": "execute_result"
    },
    {
     "data": {
      "image/png": "[encoded data removed]",
      "text/plain": [
       "<Figure size 360x360 with 1 Axes>"
      ]
     },
     "metadata": {
      "needs_background": "light"
     },
     "output_type": "display_data"
    }
   ],
   "source": [
    "print((n - 1) * p)\n",
    "mean_degs = []\n",
    "for i in range(500):\n",
    "    G = G_np(n, p)\n",
    "    delta = 2 * len(G.edges) / len(G)\n",
    "    mean_degs.append(delta)\n",
    "sns.displot(mean_degs)"
   ]
  }
 ],
 "metadata": {
  "celltoolbar": "Slideshow",
  "kernelspec": {
   "display_name": "Python 3",
   "language": "python",
   "name": "python3"
  },
  "language_info": {
   "codemirror_mode": {
    "name": "ipython",
    "version": 3
   },
   "file_extension": ".py",
   "mimetype": "text/x-python",
   "name": "python",
   "nbconvert_exporter": "python",
   "pygments_lexer": "ipython3",
   "version": "3.9.1"
  }
 },
 "nbformat": 4,
 "nbformat_minor": 5
}
