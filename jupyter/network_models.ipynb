{
 "cells": [
  {
   "cell_type": "code",
   "execution_count": 1,
   "id": "technical-reach",
   "metadata": {
    "slideshow": {
     "slide_type": "skip"
    }
   },
   "outputs": [],
   "source": [
    "import random\n",
    "import networkx as nx\n",
    "import seaborn as sns"
   ]
  },
  {
   "cell_type": "markdown",
   "id": "plain-convert",
   "metadata": {
    "slideshow": {
     "slide_type": "slide"
    }
   },
   "source": [
    "# Random models\n",
    "\n",
    "## Overview\n",
    "\n",
    "- Erdős-Rényi model\n",
    "- Albert-Barabási model\n",
    "- Configuration model"
   ]
  },
  {
   "cell_type": "markdown",
   "id": "manufactured-citizen",
   "metadata": {
    "slideshow": {
     "slide_type": "slide"
    }
   },
   "source": [
    "# Erdős-Rényi\n",
    "\n",
    "1) $G(n, m)$ Fixed $n$ nodes and $m$ edges.\n",
    " \n",
    "   - From the set of networks with n nodes and m edges, take one uniformly at random.\n",
    " \n",
    "2) $G(n, p)$ Fixed $n$ nodes and probability $p$ for each edge.\n",
    "   - From the set of networks with n nodes and m edges, take one with probability $p^m(1-p)^{{n \\choose 2}-m}$."
   ]
  },
  {
   "cell_type": "markdown",
   "id": "later-uncle",
   "metadata": {
    "slideshow": {
     "slide_type": "slide"
    }
   },
   "source": [
    "# Implement in Python $G(n, m)$\n",
    "\n",
    "For a non-directed graph $G$.\n",
    "\n",
    "Input:\n",
    " A number of nodes $n$ and a number of edges $m$.\n",
    " \n",
    "Output:\n",
    " A random simple network $G$ (no parallel edges or self loops) with $n$ nodes and $m$ edges."
   ]
  },
  {
   "cell_type": "markdown",
   "id": "interpreted-colorado",
   "metadata": {},
   "source": [
    "```python\n",
    "def G_nm(n, m):\n",
    "    return G\n",
    "    \n",
    "```"
   ]
  },
  {
   "cell_type": "markdown",
   "id": "behavioral-dimension",
   "metadata": {
    "slideshow": {
     "slide_type": "slide"
    }
   },
   "source": [
    "# First code block\n",
    "\n",
    "1) $m$ too large. Return complete network with $n$ nodes.\n",
    "\n",
    "2) $n=1$. Return graph with single node."
   ]
  },
  {
   "cell_type": "code",
   "execution_count": 2,
   "id": "final-bridal",
   "metadata": {
    "slideshow": {
     "slide_type": "slide"
    }
   },
   "outputs": [
    {
     "data": {
      "text/plain": [
       "[(0, 1), (0, 2), (0, 3), (1, 2), (1, 3), (2, 3)]"
      ]
     },
     "execution_count": 2,
     "metadata": {},
     "output_type": "execute_result"
    }
   ],
   "source": [
    "from itertools import combinations\n",
    "list(combinations(range(4), 2))"
   ]
  },
  {
   "cell_type": "markdown",
   "id": "mysterious-denmark",
   "metadata": {
    "slideshow": {
     "slide_type": "slide"
    }
   },
   "source": [
    "Input: n nodes and m edges.\n",
    "```python\n",
    "def G_nm(n, m):\n",
    "    G = nx.Graph()\n",
    "    nodes = range(n)\n",
    "    max_edges = n * (n - 1) / 2\n",
    "    if m >= max_edges:\n",
    "        edges = list(combinations(nodes, 2))\n",
    "        G.add_edges_from(edges)\n",
    "        return G\n",
    "    if n == 1:\n",
    "        G.add_node(0)\n",
    "        return G\n",
    "```"
   ]
  },
  {
   "cell_type": "markdown",
   "id": "extraordinary-telling",
   "metadata": {
    "slideshow": {
     "slide_type": "slide"
    }
   },
   "source": [
    "## Second block\n",
    "\n",
    "`while` number of edges $< m$: add edges uniformly.\n",
    "\n",
    "Select node $u$ and $v$ at random from $n$ and add edge $(u, v)$"
   ]
  },
  {
   "cell_type": "code",
   "execution_count": 3,
   "id": "rational-coordination",
   "metadata": {
    "slideshow": {
     "slide_type": "slide"
    }
   },
   "outputs": [
    {
     "data": {
      "text/plain": [
       "2"
      ]
     },
     "execution_count": 3,
     "metadata": {},
     "output_type": "execute_result"
    }
   ],
   "source": [
    "import random\n",
    "random.choice(range(4))"
   ]
  },
  {
   "cell_type": "markdown",
   "id": "graphic-legislature",
   "metadata": {
    "slideshow": {
     "slide_type": "slide"
    }
   },
   "source": [
    "```python\n",
    "    G = nx.Graph()\n",
    "    nodes = range(n)\n",
    "    max_edges = n * (n - 1) / 2\n",
    "    n_edges = 0\n",
    "    while n_edges < m:\n",
    "        u = random.choice(nodes)\n",
    "        v = random.choice(nodes)\n",
    "        while u == v:\n",
    "            v = random.choice(nodes)\n",
    "        e = (u, v)\n",
    "        if e in G.edges:\n",
    "            continue\n",
    "        G.add_edge(u, v)\n",
    "        n_edges += 1\n",
    "```"
   ]
  },
  {
   "cell_type": "code",
   "execution_count": 5,
   "id": "virtual-safety",
   "metadata": {
    "slideshow": {
     "slide_type": "slide"
    }
   },
   "outputs": [],
   "source": [
    "def G_nm(n, m):\n",
    "    # First block\n",
    "    G = nx.Graph()\n",
    "    nodes = range(n)\n",
    "    G.add_nodes_from(nodes)\n",
    "    max_edges = n * (n - 1) / 2\n",
    "    if m >= max_edges:\n",
    "        edges = list(combinations(nodes, 2))\n",
    "        G.add_edges_from(edges)\n",
    "        return G\n",
    "    # Second Block\n",
    "    n_edges = 0\n",
    "    while n_edges < m:\n",
    "        u = random.choice(nodes)\n",
    "        v = random.choice(nodes)\n",
    "        if u != v and (u, v) not in G:\n",
    "            G.add_edge(u, v)\n",
    "            n_edges += 1\n",
    "    \n",
    "    return G"
   ]
  },
  {
   "cell_type": "markdown",
   "id": "handled-trial",
   "metadata": {
    "slideshow": {
     "slide_type": "slide"
    }
   },
   "source": [
    "# G(n, p) model\n",
    "\n",
    "**Input**: $n$ nodes and probability $p$ for each edge.\n",
    "\n",
    "**Output**: A random network $G$ with $n$ nodes."
   ]
  },
  {
   "cell_type": "markdown",
   "id": "fundamental-state",
   "metadata": {
    "slideshow": {
     "slide_type": "slide"
    }
   },
   "source": [
    "1. Label nodes $0, \\dots, n-1$.\n",
    "2. Initiate an empty graph `nx.Graph` $G$ and add nodes to $G$.\n",
    "3. Create a variable with all possible edges in $G$.\n",
    "4. Iterate over all edges and for each edge, add it to $G$ if $r < p$, where $r$ is random number from $[0,1)$."
   ]
  },
  {
   "cell_type": "markdown",
   "id": "suffering-attraction",
   "metadata": {
    "slideshow": {
     "slide_type": "slide"
    }
   },
   "source": [
    "### The function\n",
    "\n",
    "```python\n",
    "def G_np(n, p):\n",
    "    pass\n",
    "```"
   ]
  },
  {
   "cell_type": "markdown",
   "id": "separate-bibliography",
   "metadata": {
    "slideshow": {
     "slide_type": "slide"
    }
   },
   "source": [
    "Label nodes $0, \\dots, n-1$ in variable `V`. Initiate an empty graph `nx.Graph` $G$ and add nodes to $G$."
   ]
  },
  {
   "cell_type": "code",
   "execution_count": 8,
   "id": "reserved-seven",
   "metadata": {},
   "outputs": [],
   "source": [
    "def G_np(n, p):\n",
    "    # Start here\n",
    "    G = nx.Graph()\n",
    "    V = range(n)\n",
    "    pass"
   ]
  },
  {
   "cell_type": "markdown",
   "id": "derived-judge",
   "metadata": {
    "slideshow": {
     "slide_type": "slide"
    }
   },
   "source": [
    "Create a list `all_edges` with all possible edges in $G$ using `itertools.combinations`."
   ]
  },
  {
   "cell_type": "code",
   "execution_count": 10,
   "id": "worse-roman",
   "metadata": {},
   "outputs": [],
   "source": [
    "from itertools import combinations\n",
    "\n",
    "def G_np(n, p):\n",
    "    V = range(n)\n",
    "    G = nx.Graph()\n",
    "    G.add_nodes_from(V)\n",
    "    # Start here\n",
    "    all_edges = list(combinations(V, 2))\n",
    "    \n",
    "    pass"
   ]
  },
  {
   "cell_type": "markdown",
   "id": "twelve-discretion",
   "metadata": {
    "slideshow": {
     "slide_type": "slide"
    }
   },
   "source": [
    "If $p = 0$ or $p=1$ return the empty graph or the complete graph $G$."
   ]
  },
  {
   "cell_type": "code",
   "execution_count": 12,
   "id": "regional-linux",
   "metadata": {},
   "outputs": [],
   "source": [
    "from itertools import combinations\n",
    "\n",
    "def G_np(n, p):\n",
    "    V = range(n)\n",
    "    G = nx.Graph()\n",
    "    G.add_nodes_from(V)\n",
    "    all_edges = list(combinations(V, 2))\n",
    "    # Start here\n",
    "    if p == 0:\n",
    "        return G\n",
    "    if p == 1:\n",
    "        G.add_edges_from(all_edges)\n",
    "        return G\n",
    "    \n",
    "    pass"
   ]
  },
  {
   "cell_type": "markdown",
   "id": "interracial-choir",
   "metadata": {
    "slideshow": {
     "slide_type": "slide"
    }
   },
   "source": [
    "Iterate over `all_edges` with dummy variable `e`. In each iteration create a random number $r$ with `random.random` and add `e` to $G$ if $r < p$. Finally, return $G$."
   ]
  },
  {
   "cell_type": "code",
   "execution_count": 15,
   "id": "serious-atlas",
   "metadata": {},
   "outputs": [],
   "source": [
    "def G_np(n, p):\n",
    "    V = range(n)\n",
    "    G = nx.Graph()\n",
    "    G.add_nodes_from(V)\n",
    "    all_edges = list(combinations(V, 2))\n",
    "    if p == 0:\n",
    "        return G\n",
    "    if p >= 1:\n",
    "        G.add_edges_from(all_edges)\n",
    "        return G\n",
    "    # Start here\n",
    "    for e in all_edges:\n",
    "        r = random.random()\n",
    "        if r < p:\n",
    "            G.add_edge(e[0], e[1])\n",
    "    \n",
    "    return G"
   ]
  },
  {
   "cell_type": "code",
   "execution_count": 18,
   "id": "built-ebony",
   "metadata": {
    "slideshow": {
     "slide_type": "slide"
    }
   },
   "outputs": [],
   "source": [
    "def G_np(n, p):\n",
    "    V = range(n)\n",
    "    G = nx.Graph()\n",
    "    G.add_nodes_from(V)\n",
    "    all_edges = list(combinations(V, 2))\n",
    "    if p == 0:\n",
    "        return G\n",
    "    if p >= 1:\n",
    "        G.add_edges_from(all_edges)\n",
    "        return G\n",
    "    for e in all_edges:\n",
    "        r = random.random()\n",
    "        if r < p:\n",
    "            G.add_edge(e[0], e[1])\n",
    "    return G"
   ]
  },
  {
   "cell_type": "markdown",
   "id": "sapphire-group",
   "metadata": {
    "slideshow": {
     "slide_type": "slide"
    }
   },
   "source": [
    "# Valor esperado del número de aristas\n",
    "\n",
    "Cuando $X$ es una variable aleatória,\n",
    "$$E[X] = \\sum_{x \\in X} xp_x$$\n",
    "\n",
    "Valor esperado de $m$ cuando la probabilidad es $p$?\n",
    "\n",
    "$$E[m] = \\sum_{e \\in E}p = {n \\choose 2}p$$"
   ]
  },
  {
   "cell_type": "code",
   "execution_count": 24,
   "id": "mechanical-friendship",
   "metadata": {
    "slideshow": {
     "slide_type": "slide"
    }
   },
   "outputs": [
    {
     "name": "stdout",
     "output_type": "stream",
     "text": [
      "1676.25\n"
     ]
    }
   ],
   "source": [
    "p = 0.15\n",
    "n = 150\n",
    "expected_m = n * (n - 1) / 2 * p\n",
    "print(expected_m)"
   ]
  },
  {
   "cell_type": "markdown",
   "id": "heard-spread",
   "metadata": {
    "cell_style": "split",
    "slideshow": {
     "slide_type": "slide"
    }
   },
   "source": [
    "Plot the distribution of number of edges of 500 random networks using `G_np`.\n",
    "\n",
    "1. Create an empty list `number_of_edges`.\n",
    "2. Iterate 500 times and in each iteration create a random graph and add its number of edges to `number_of_edges`.\n",
    "3. Plot using `number_of_edges` and `sns.displot`."
   ]
  },
  {
   "cell_type": "code",
   "execution_count": 25,
   "id": "invisible-island",
   "metadata": {
    "cell_style": "split",
    "slideshow": {
     "slide_type": "-"
    }
   },
   "outputs": [
    {
     "name": "stdout",
     "output_type": "stream",
     "text": [
      "1676.25\n"
     ]
    },
    {
     "data": {
      "text/plain": [
       "<seaborn.axisgrid.FacetGrid at 0x7f9e41a590a0>"
      ]
     },
     "execution_count": 25,
     "metadata": {},
     "output_type": "execute_result"
    },
    {
     "data": {
      "image/png": "[encoded data removed]",
      "text/plain": [
       "<Figure size 360x360 with 1 Axes>"
      ]
     },
     "metadata": {
      "needs_background": "light"
     },
     "output_type": "display_data"
    }
   ],
   "source": [
    "import seaborn as sns\n",
    "print(expected_m)\n",
    "number_of_edges = []\n",
    "for x in range(500):\n",
    "    G = G_np(n, p)\n",
    "    num_aristas = len(G.edges)\n",
    "    number_of_edges.append(num_aristas)\n",
    "sns.displot(number_of_edges)"
   ]
  },
  {
   "cell_type": "markdown",
   "id": "female-average",
   "metadata": {
    "slideshow": {
     "slide_type": "slide"
    }
   },
   "source": [
    "# Expected Mean degree\n",
    "\n",
    "Mean degree $\\Delta$ of a network with m edges is $2m/n$.\n",
    "\n",
    "Expected mean degree of a random network with $m$ edges:\n",
    "\n",
    "$$E[\\Delta] = E[2m/n] = 2/n E[m] = 2/n {n \\choose 2} p = (n-1)p $$"
   ]
  },
  {
   "cell_type": "markdown",
   "id": "appointed-sitting",
   "metadata": {
    "cell_style": "split",
    "slideshow": {
     "slide_type": "slide"
    }
   },
   "source": [
    "Plot the distribution of the mean degree of 500 random networks constructed with `G_np`.\n",
    "\n",
    "1. Create an empty list `mean_degs`.\n",
    "2. Iterate 500 times and in each iteration create a random graph and add its mean degree to `mean_degs`.\n",
    "3. Plot using `mean_degs` and `sns.displot`."
   ]
  },
  {
   "cell_type": "code",
   "execution_count": 26,
   "id": "cubic-blood",
   "metadata": {
    "cell_style": "split",
    "slideshow": {
     "slide_type": "-"
    }
   },
   "outputs": [
    {
     "name": "stdout",
     "output_type": "stream",
     "text": [
      "22.349999999999998\n"
     ]
    },
    {
     "data": {
      "text/plain": [
       "<seaborn.axisgrid.FacetGrid at 0x7f9e42079970>"
      ]
     },
     "execution_count": 26,
     "metadata": {},
     "output_type": "execute_result"
    },
    {
     "data": {
      "image/png": "[encoded data removed]",
      "text/plain": [
       "<Figure size 360x360 with 1 Axes>"
      ]
     },
     "metadata": {
      "needs_background": "light"
     },
     "output_type": "display_data"
    }
   ],
   "source": [
    "print((n - 1) * p)\n",
    "mean_degs = []\n",
    "for i in range(500):\n",
    "    G = G_np(n, p)\n",
    "    delta = 2 * len(G.edges) / len(G)\n",
    "    mean_degs.append(delta)\n",
    "sns.displot(mean_degs)"
   ]
  }
 ],
 "metadata": {
  "celltoolbar": "Slideshow",
  "kernelspec": {
   "display_name": "Python 3",
   "language": "python",
   "name": "python3"
  },
  "language_info": {
   "codemirror_mode": {
    "name": "ipython",
    "version": 3
   },
   "file_extension": ".py",
   "mimetype": "text/x-python",
   "name": "python",
   "nbconvert_exporter": "python",
   "pygments_lexer": "ipython3",
   "version": "3.9.1"
  }
 },
 "nbformat": 4,
 "nbformat_minor": 5
}
