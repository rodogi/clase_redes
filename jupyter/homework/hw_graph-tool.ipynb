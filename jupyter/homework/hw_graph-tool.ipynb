{
 "cells": [
  {
   "cell_type": "markdown",
   "id": "vanilla-transcript",
   "metadata": {},
   "source": [
    "# Graph-tool\n",
    "\n",
    "Graph-tool is a python library written in python and C++, making it faster than the other more popular libraries, inlcuding networkx.\n",
    "\n",
    "In this homework we are going to learn the basics of graph-tool. For reference, please go to the official website of graph-tool to get you started:\n",
    "\n",
    "https://graph-tool.skewed.de/static/doc/index.html\n",
    "\n",
    "In order to install graph-tool I recommend using `python3.8` or lower as it seems to have problems with `python3.9` unfortunately. Install using `conda` is preffered using the following command in the terminal (Mac and Linux) or the conda terminal (windows):\n",
    "\n",
    "`conda install -c conda-forge graph-tool`\n",
    "\n",
    "Más instrucciones de instalación aquí:\n",
    "\n",
    "https://git.skewed.de/count0/graph-tool/-/wikis/installation-instructions"
   ]
  },
  {
   "cell_type": "markdown",
   "id": "valuable-reward",
   "metadata": {},
   "source": [
    "## Making a simple network\n",
    "\n",
    "Graph and network will be used intercheangably.\n",
    "\n",
    "Please do the following:\n",
    "\n",
    "0. Import graph-tool with the statement `import graph_tool.all as gt`\n",
    "1. Create an empy directed graph `g`.\n",
    "2. Add nodes `u`, `v`, and `w` to `g`.\n",
    "3. Add an arc (directed edge) `e` from `u` to `v` and `f` from `v` to `u`.\n",
    "4. Draw the graph using `graph_tool.graph_draw`"
   ]
  },
  {
   "cell_type": "code",
   "execution_count": null,
   "id": "convertible-johnston",
   "metadata": {},
   "outputs": [],
   "source": []
  },
  {
   "cell_type": "markdown",
   "id": "wound-siemens",
   "metadata": {},
   "source": [
    "What is the output of the function `gt.graph_draw`?"
   ]
  },
  {
   "cell_type": "markdown",
   "id": "compact-antarctica",
   "metadata": {},
   "source": [
    "Run the cell which draws the graph again, only this time get the positions of the draw in a variable `pos`."
   ]
  },
  {
   "cell_type": "markdown",
   "id": "infrared-timeline",
   "metadata": {},
   "source": [
    "Now, draw again the graph but use a non-positional argument called `vertex_text` equal to `g.degree_property_map('in')`, what happens?\n",
    "\n",
    "Use the same positions using the non-positional argument `pos` equal to `pos`."
   ]
  },
  {
   "cell_type": "code",
   "execution_count": null,
   "id": "alpha-engineering",
   "metadata": {},
   "outputs": [],
   "source": []
  },
  {
   "cell_type": "markdown",
   "id": "photographic-warehouse",
   "metadata": {},
   "source": [
    "## Import graph from collections\n",
    "\n",
    "Let's work with some preprocessed graphs. The information of graphs in the [Netzschleuder](https://networks.skewed.de/) repository can be printed with `gt.collection.ns_info`.\n",
    "\n",
    "1. Call the function `gt.collection.ns_info` to obtain info about the options. This can take a while to load. We are going to work with the `dolphins` graph so call the function as `gt.collection.ns_info['dolphins']`.\n",
    "2. Create a graph `g` with the `dolphins` graph using `gt.collection.ns['dolphins']`.\n",
    "3. Create a variable `pos` with the positions of the nodes using spring-block layout `gt.sfdp_layout`.\n",
    "4. Draw the graph using the non-positional arguments `vertex_text=g.vertex_index` and `pos=pos`.\n",
    "5. Create a variable `deg` with the degrees of the nodes using `gt.degree_property_map('out')`.\n",
    "6. The attribute `deg.a` contains the values (in this case the degrees) of the vertex property `deg`. Transform this array to `deg.a = deg.a * 4` so that values can be used better to draw.\n",
    "7. Draw the graph again using also the non-position argument `vertex_size=deg`. Get the node with the largest degree just by looking at the graph drawing."
   ]
  },
  {
   "cell_type": "code",
   "execution_count": null,
   "id": "solved-commercial",
   "metadata": {},
   "outputs": [],
   "source": []
  },
  {
   "cell_type": "markdown",
   "id": "marked-salad",
   "metadata": {},
   "source": [
    "## Graph filtering\n",
    "\n",
    "Sometimes it's practical tu work with a subnetwork. In this case, we will take the main core of the dolphins graph and make a filter to ignore all other vertices. To read on what is the k-core of a graph here is [a link](https://en.wikipedia.org/wiki/Degeneracy_(graph_theory)).\n",
    "\n",
    "1. Get the kcore decomposition of our graph `g` in a variable `kcore` using `gt.kcore_decomposition`.\n",
    "2. Now `kcore` is a variable containing a `gt.VertexPropertyMap`, use it to draw the graph with `vertex_text=kcore`. Use the same other parameters as in the previous drawing.\n",
    "3. For a better visualization add the non-positional parameter `vertex_fill_color=kcore`.\n",
    "4. Create a new vertex property of `g` called `main_core` of type `bool` with `g.new_vp('bool')`.\n",
    "5. Let's transform the array of `main_core` (accessible with `main_core.a`) to be True if that particular node has `kcore=max(k)` and False otherwise with `main_core.a = kcore.a == max(kcore.a)`. Print `main_core.a` to see the changes.\n",
    "6. Let's filter the graph `g` to contain only the main core with `g.set_vertex_filter(main_core)`. Draw `g` with the same parameters to see the filtered graph.\n",
    "7. To go back to the original graph `g` set the vertex filter to `None` with `g.set_vertex_filter(None)`."
   ]
  },
  {
   "cell_type": "code",
   "execution_count": null,
   "id": "signed-steam",
   "metadata": {},
   "outputs": [],
   "source": []
  }
 ],
 "metadata": {
  "kernelspec": {
   "display_name": "Python 3",
   "language": "python",
   "name": "python3"
  },
  "language_info": {
   "codemirror_mode": {
    "name": "ipython",
    "version": 3
   },
   "file_extension": ".py",
   "mimetype": "text/x-python",
   "name": "python",
   "nbconvert_exporter": "python",
   "pygments_lexer": "ipython3",
   "version": "3.9.1"
  }
 },
 "nbformat": 4,
 "nbformat_minor": 5
}
