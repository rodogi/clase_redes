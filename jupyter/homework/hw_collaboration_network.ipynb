{
 "cells": [
  {
   "cell_type": "markdown",
   "id": "fluid-january",
   "metadata": {},
   "source": [
    "# Collaboration network\n",
    "\n",
    "Using the library graph-tool we'll contruct the collaboration network of scientists of computer science from 2014. This is a non-directed bipartite graph connecting authors to the papers they have published. We want to get instead a graph were nodes are authors and an edge between two nodes exists only if they have collaborated in at least **5 different papers** together.\n",
    "\n",
    "In order to work with a smaller graph (~7 Million nodes is too much for now), let's just take authors with at least 50 published papers.\n",
    "\n",
    "0. Import graph-tool with `import graph_tool.all as gt`.\n",
    "1. Get info about the graph to be used with `gt.collection.ns_info['dblp_author_paper']`.\n",
    "2. Create a graph `g` with `gt.collection.ns['dblp_author_paper']`.\n",
    "3. Let's get the two sets of nodes in our bipartite graph with `is_bi, part = gt.is_bipartite(g, partition=True`).\n",
    "4. Get the degrees in a variable `deg` with `g.degree_property_map('out')`.\n"
   ]
  },
  {
   "cell_type": "code",
   "execution_count": null,
   "id": "acquired-novel",
   "metadata": {},
   "outputs": [],
   "source": []
  },
  {
   "cell_type": "markdown",
   "id": "demographic-cradle",
   "metadata": {},
   "source": [
    "### Filter nodes\n",
    "\n",
    "Create a new function that takes a node as an argument and returns `True` if the node partition `part[node]` is equal to 0 **and** its degree is greater or equal to 50 with `deg[node] >= 20`. The same function should return `True` everytime `part[node]==1` as well. Call the function `first_filter`."
   ]
  },
  {
   "cell_type": "code",
   "execution_count": null,
   "id": "naval-invite",
   "metadata": {},
   "outputs": [],
   "source": []
  },
  {
   "cell_type": "markdown",
   "id": "departmental-nelson",
   "metadata": {},
   "source": [
    "Create a new `gt.GraphView` (a subgraph) of `g` in a variable `h` using the function `first_filter` as `h = gt.GraphView(g, vfilt=first_filter)`."
   ]
  },
  {
   "cell_type": "code",
   "execution_count": null,
   "id": "satisfied-syracuse",
   "metadata": {},
   "outputs": [],
   "source": []
  },
  {
   "cell_type": "markdown",
   "id": "otherwise-jumping",
   "metadata": {},
   "source": [
    "Get the degrees of `h` in `deg_h` using `h.degree_property_map('out')`."
   ]
  },
  {
   "cell_type": "code",
   "execution_count": null,
   "id": "initial-drink",
   "metadata": {},
   "outputs": [],
   "source": []
  },
  {
   "cell_type": "markdown",
   "id": "split-samba",
   "metadata": {},
   "source": [
    "Filter the graph again to get only the nodes of `h` with a degree greater or equal to 1 with `gt.GraphView(h, vfilt=lambda v: deg_h[v] >= 1)`."
   ]
  },
  {
   "cell_type": "code",
   "execution_count": null,
   "id": "after-toronto",
   "metadata": {},
   "outputs": [],
   "source": []
  },
  {
   "cell_type": "markdown",
   "id": "alpha-psychiatry",
   "metadata": {},
   "source": [
    "Now we only have people with at least 20 articles. Now let's create a new graph `p` with the _projection_ of our bipartite graph `h`. This graph will contain only nodes with `part[node] == 0` and there will be an edge connecting two nodes if they shared a neighbor in the graph `h`.\n",
    "\n",
    "Understand and use the code bellow to get that graph `p`."
   ]
  },
  {
   "cell_type": "code",
   "execution_count": 83,
   "id": "angry-passing",
   "metadata": {},
   "outputs": [],
   "source": [
    "edges = []\n",
    "for u in h.iter_vertices():\n",
    "    node_u = p.add_vertex()\n",
    "    if part[u] == 0:\n",
    "        for paper in h.get_all_neighbors(u):\n",
    "            for v in h.get_all_neighbors(paper):\n",
    "                e = tuple(sorted((u, v)))\n",
    "                if u != v and e not in edges:\n",
    "                    edges.append(e)"
   ]
  },
  {
   "cell_type": "markdown",
   "id": "intense-messaging",
   "metadata": {},
   "source": [
    "Convert the list `edges` to a `numpy.array` import numpy as np and using `np.array(edges)`."
   ]
  },
  {
   "cell_type": "code",
   "execution_count": null,
   "id": "common-oakland",
   "metadata": {},
   "outputs": [],
   "source": []
  },
  {
   "cell_type": "markdown",
   "id": "latter-corrections",
   "metadata": {},
   "source": [
    "Create an empty graph `p` and add edges from `edges` with `p.add_edge_list(edges, hashed=True, hash_type=int)`."
   ]
  },
  {
   "cell_type": "code",
   "execution_count": null,
   "id": "informal-hospital",
   "metadata": {},
   "outputs": [],
   "source": []
  },
  {
   "cell_type": "markdown",
   "id": "national-earthquake",
   "metadata": {},
   "source": [
    "You can draw the graph to see that it has more than one connected component (CC). Filter `p` to get the largest CC with `cc = gt.GraphView(p, gt.label_largest_component(p))`."
   ]
  },
  {
   "cell_type": "code",
   "execution_count": null,
   "id": "supposed-length",
   "metadata": {},
   "outputs": [],
   "source": []
  },
  {
   "cell_type": "markdown",
   "id": "lucky-dylan",
   "metadata": {},
   "source": [
    "Now draw `cc` according to core number. First set `kcore` to be equal to `gt.kcore_decomposition(p)`. Then use `gt.graph_draw(cc, vertex_fill_color=kcore, vertex_size=kcore)`."
   ]
  },
  {
   "cell_type": "code",
   "execution_count": null,
   "id": "great-finder",
   "metadata": {},
   "outputs": [],
   "source": []
  }
 ],
 "metadata": {
  "kernelspec": {
   "display_name": "Python 3",
   "language": "python",
   "name": "python3"
  },
  "language_info": {
   "codemirror_mode": {
    "name": "ipython",
    "version": 3
   },
   "file_extension": ".py",
   "mimetype": "text/x-python",
   "name": "python",
   "nbconvert_exporter": "python",
   "pygments_lexer": "ipython3",
   "version": "3.9.1"
  }
 },
 "nbformat": 4,
 "nbformat_minor": 5
}
