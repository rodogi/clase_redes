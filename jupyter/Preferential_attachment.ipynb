{
 "cells": [
  {
   "cell_type": "code",
   "execution_count": null,
   "id": "royal-stanford",
   "metadata": {
    "slideshow": {
     "slide_type": "skip"
    }
   },
   "outputs": [],
   "source": [
    "import random\n",
    "import numpy as np\n",
    "import networkx as nx\n",
    "import seaborn as sns"
   ]
  },
  {
   "cell_type": "code",
   "execution_count": null,
   "id": "fallen-confidence",
   "metadata": {
    "slideshow": {
     "slide_type": "skip"
    }
   },
   "outputs": [],
   "source": [
    "import pandas as pd"
   ]
  },
  {
   "cell_type": "code",
   "execution_count": null,
   "id": "corporate-monthly",
   "metadata": {
    "slideshow": {
     "slide_type": "skip"
    }
   },
   "outputs": [],
   "source": [
    "import matplotlib.pyplot as plt"
   ]
  },
  {
   "cell_type": "markdown",
   "id": "passive-kitchen",
   "metadata": {
    "cell_style": "center",
    "slideshow": {
     "slide_type": "slide"
    }
   },
   "source": [
    "# Preferential attachment\n",
    "\n",
    "\"Rich get richer\". Model by Barabási and Albert.\n",
    "\n",
    "Start from a connected component of size $m_0$. At each time $t$, add $m$ nodes."
   ]
  },
  {
   "cell_type": "markdown",
   "id": "advised-customer",
   "metadata": {
    "cell_style": "center",
    "slideshow": {
     "slide_type": "slide"
    }
   },
   "source": [
    "## Grow the network\n",
    "\n",
    "At each time $t$, add a new node with $m \\leq m_0$ links.\n",
    "\n",
    "## Preferential attachement\n",
    "\n",
    "At each time-step, the probability $P(i)$ of a new node to connect with node $i$ is\n",
    "\n",
    "$$\n",
    "P(i) = \\frac{k_i}{\\sum_j k_j} = \\frac{k_i}{2|E|},\n",
    "$$\n",
    "\n",
    "where $k_i$ is the degree of $i$."
   ]
  },
  {
   "cell_type": "markdown",
   "id": "spread-capitol",
   "metadata": {
    "slideshow": {
     "slide_type": "slide"
    }
   },
   "source": [
    "# Algorithm\n",
    "\n",
    "**Input**: A `nx.Graph` $G_0$ with labeled nodes $0, \\dots, m_0-1$ and an integer $T$ (number of iterations).\n",
    "\n",
    "**Output**: A `nx.Graph` $G$."
   ]
  },
  {
   "cell_type": "markdown",
   "id": "smaller-movement",
   "metadata": {
    "slideshow": {
     "slide_type": "slide"
    }
   },
   "source": [
    "1. Label nodes $0, \\dots, m_0 + T - 1$.\n",
    "\n",
    "2. Produce $m$ uniformily at random from $\\{1, \\dots, m_0\\}$.\n",
    "\n",
    "3. Copy $G_0$ in new graph $G$.\n",
    "\n",
    "4. Starting with $G_0$ iterate $T$ times and at each time $t$ add $m$ edges at random such that:\n",
    "\n",
    "  - There are not multiedges or selfloops.\n",
    "  - Add $m$ edges to $G$.\n",
    "  \n",
    "5. Return $G$."
   ]
  },
  {
   "cell_type": "markdown",
   "id": "subject-portable",
   "metadata": {
    "slideshow": {
     "slide_type": "slide"
    }
   },
   "source": [
    "### The function\n",
    "\n",
    "```python\n",
    "def barabasi_albert(G_0, T=100):\n",
    "    pass\n",
    "```"
   ]
  },
  {
   "cell_type": "markdown",
   "id": "dental-danger",
   "metadata": {
    "slideshow": {
     "slide_type": "slide"
    }
   },
   "source": [
    "Add $G, m_0$, and $m$ (using the function `random.randint`) to the body of the function"
   ]
  },
  {
   "cell_type": "code",
   "execution_count": null,
   "id": "diagnostic-casting",
   "metadata": {},
   "outputs": [],
   "source": [
    "def barabasi_albert(G_0, T=100):\n",
    "    # Start here\n",
    "    pass"
   ]
  },
  {
   "cell_type": "markdown",
   "id": "agricultural-screening",
   "metadata": {
    "slideshow": {
     "slide_type": "slide"
    }
   },
   "source": [
    "Iterate $T$ times where each iteration has the list of vertices `V` of $G$ and an empty list of soon-to-added edges `new_edges`."
   ]
  },
  {
   "cell_type": "code",
   "execution_count": null,
   "id": "competent-approach",
   "metadata": {},
   "outputs": [],
   "source": [
    "def barabasi_albert(G_0, T=100):\n",
    "    G = G_0.copy()\n",
    "    m_0 = len(G)\n",
    "    m = random.randint(1, m_0)\n",
    "    # Start here\n",
    "    pass"
   ]
  },
  {
   "cell_type": "markdown",
   "id": "inappropriate-midwest",
   "metadata": {
    "slideshow": {
     "slide_type": "slide"
    }
   },
   "source": [
    "While the number of new edges in `new_edges` is smaller than $m$, keep adding edges at random with `random.choice`."
   ]
  },
  {
   "cell_type": "code",
   "execution_count": null,
   "id": "lucky-influence",
   "metadata": {},
   "outputs": [],
   "source": [
    "def barabasi_albert(G_0, T=100):\n",
    "    G = G_0.copy()\n",
    "    m_0 = len(G)\n",
    "    m = random.randint(1, m_0)\n",
    "    for t in range(T):\n",
    "        V = list(G)\n",
    "        new_edges = []\n",
    "        # Start here\n",
    "    pass"
   ]
  },
  {
   "cell_type": "markdown",
   "id": "devoted-disease",
   "metadata": {
    "slideshow": {
     "slide_type": "slide"
    }
   },
   "source": [
    "While the number of new edges in `new_edges` is smaller than $m$, select an existing node from $V$ with `random.choice`."
   ]
  },
  {
   "cell_type": "code",
   "execution_count": null,
   "id": "experienced-industry",
   "metadata": {},
   "outputs": [],
   "source": [
    "def barabasi_albert(G_0, T=100):\n",
    "    G = G_0.copy()\n",
    "    m_0 = len(G)\n",
    "    m = random.randint(1, m_0)\n",
    "    for t in range(T):\n",
    "        V = list(G)\n",
    "        new_edges = []\n",
    "        # Start here\n",
    "    pass"
   ]
  },
  {
   "cell_type": "markdown",
   "id": "square-runner",
   "metadata": {
    "slideshow": {
     "slide_type": "slide"
    }
   },
   "source": [
    "Compute the probability of adding the edge between $v$ and the new node as $P(v) = \\frac{k_v}{2|E|}$. Create a random number with `random.random` $r$ and if $r > P(v)$ continue to the next iteration."
   ]
  },
  {
   "cell_type": "code",
   "execution_count": null,
   "id": "after-emerald",
   "metadata": {},
   "outputs": [],
   "source": [
    "def barabasi_albert(G_0, T=100):\n",
    "    G = G_0.copy()\n",
    "    m_0 = len(G)\n",
    "    m = random.randint(1, m_0)\n",
    "    for t in range(T):\n",
    "        V = list(G)\n",
    "        new_edges = []\n",
    "        while len(new_edges) < m:\n",
    "            v = random.choice(V)\n",
    "        # Start here\n",
    "    pass"
   ]
  },
  {
   "cell_type": "markdown",
   "id": "ceramic-state",
   "metadata": {
    "slideshow": {
     "slide_type": "slide"
    }
   },
   "source": [
    "If the edge between the new node and $v$ does not exist add it to `new_edges` and to $G$. Finally, return $G$."
   ]
  },
  {
   "cell_type": "code",
   "execution_count": null,
   "id": "existing-greeting",
   "metadata": {},
   "outputs": [],
   "source": [
    "def barabasi_albert(G_0, T=100):\n",
    "    G = G_0.copy()\n",
    "    m_0 = len(G)\n",
    "    m = random.randint(1, m_0)\n",
    "    for t in range(T):\n",
    "        V = list(G)\n",
    "        new_edges = []\n",
    "        while len(new_edges) < m:\n",
    "            v = random.choice(V)\n",
    "            p_v = G.degree(v) / (2 * len(G.edges))\n",
    "            r = random.random()\n",
    "            if r > p_v:\n",
    "                continue\n",
    "            # Start here\n",
    "    pass"
   ]
  },
  {
   "cell_type": "code",
   "execution_count": null,
   "id": "chief-aberdeen",
   "metadata": {
    "slideshow": {
     "slide_type": "slide"
    }
   },
   "outputs": [],
   "source": [
    "def barabasi_albert(G_0, T=100):\n",
    "    \"\"\"Given a connected graph G, build a PA model.\"\"\"\n",
    "    G = G_0.copy()\n",
    "    m_0 = len(G)\n",
    "    m = random.randint(1, m_0)\n",
    "    for t in range(T):\n",
    "        V = list(G)\n",
    "        new_edges = []\n",
    "        while len(new_edges) < m:\n",
    "            v = random.choice(V)\n",
    "            p_v = G.degree(v) / (2 * len(G.edges))\n",
    "            r = random.random()\n",
    "            if r > p_v:\n",
    "                continue\n",
    "            if v not in new_edges:\n",
    "                new_edges.append(v)\n",
    "                G.add_edge(t + m_0, v)\n",
    "    \n",
    "    return G"
   ]
  },
  {
   "cell_type": "code",
   "execution_count": null,
   "id": "oriented-miller",
   "metadata": {
    "slideshow": {
     "slide_type": "slide"
    }
   },
   "outputs": [],
   "source": [
    "G_0 = nx.Graph()\n",
    "G_0.add_edge(0, 1)\n",
    "G_0.add_edge(0, 2)\n",
    "G_0.add_edge(2, 3)"
   ]
  },
  {
   "cell_type": "code",
   "execution_count": null,
   "id": "attractive-castle",
   "metadata": {
    "slideshow": {
     "slide_type": "slide"
    }
   },
   "outputs": [],
   "source": [
    "G = barabasi_albert(G_0, T=200)"
   ]
  },
  {
   "cell_type": "code",
   "execution_count": null,
   "id": "federal-messenger",
   "metadata": {
    "slideshow": {
     "slide_type": "slide"
    }
   },
   "outputs": [],
   "source": [
    "deg = pd.DataFrame(G.degree, columns=['node', 'degree'])\n",
    "deg['degree'].describe()"
   ]
  },
  {
   "cell_type": "markdown",
   "id": "forced-radical",
   "metadata": {
    "slideshow": {
     "slide_type": "slide"
    }
   },
   "source": [
    "## The barabasi albert graph in networkx\n",
    "```\n",
    "Signature: nx.barabasi_albert_graph(n, m, seed=None)\n",
    "Docstring:\n",
    "Returns a random graph according to the Barabási–Albert preferential\n",
    "attachment model.\n",
    "\n",
    "A graph of $n$ nodes is grown by attaching new nodes each with $m$\n",
    "edges that are preferentially attached to existing nodes with high degree.\n",
    "```"
   ]
  },
  {
   "cell_type": "code",
   "execution_count": null,
   "id": "provincial-estate",
   "metadata": {
    "slideshow": {
     "slide_type": "slide"
    }
   },
   "outputs": [],
   "source": [
    "N = 100000\n",
    "m = 3\n",
    "G = nx.barabasi_albert_graph(N, m)"
   ]
  },
  {
   "cell_type": "code",
   "execution_count": null,
   "id": "olympic-finder",
   "metadata": {},
   "outputs": [],
   "source": [
    "deg = pd.DataFrame(G.degree, columns=['node', 'degree'])\n",
    "deg['degree'].describe()"
   ]
  },
  {
   "cell_type": "markdown",
   "id": "tamil-recruitment",
   "metadata": {
    "slideshow": {
     "slide_type": "slide"
    }
   },
   "source": [
    "## Plot the degree distribution in log-log\n",
    "\n",
    "It is useful to plot log-log distribution to look for scale-free networks."
   ]
  },
  {
   "cell_type": "code",
   "execution_count": null,
   "id": "handmade-rainbow",
   "metadata": {
    "slideshow": {
     "slide_type": "slide"
    }
   },
   "outputs": [],
   "source": [
    "# Count number of occurrences per degree,\n",
    "# rename Series to `frequency`, reset index.\n",
    "freq = deg.groupby()"
   ]
  },
  {
   "cell_type": "markdown",
   "id": "dressed-reward",
   "metadata": {
    "slideshow": {
     "slide_type": "slide"
    }
   },
   "source": [
    "### Plotting libraries in python\n",
    "\n",
    "- matplotlib\n",
    "- seaborn"
   ]
  },
  {
   "cell_type": "code",
   "execution_count": null,
   "id": "global-mouse",
   "metadata": {
    "slideshow": {
     "slide_type": "-"
    }
   },
   "outputs": [],
   "source": [
    "import matplotlib.pyplot as plt\n",
    "import seaborn as sns"
   ]
  },
  {
   "cell_type": "code",
   "execution_count": null,
   "id": "complimentary-peace",
   "metadata": {
    "slideshow": {
     "slide_type": "slide"
    }
   },
   "outputs": [],
   "source": [
    "# create Figure and add axes\n",
    "fig = plt.figure()\n",
    "ax = fig.add_subplot()"
   ]
  },
  {
   "cell_type": "code",
   "execution_count": null,
   "id": "racial-signature",
   "metadata": {
    "slideshow": {
     "slide_type": "slide"
    }
   },
   "outputs": [],
   "source": [
    "fig = plt.figure()\n",
    "ax = fig.add_subplot()\n",
    "# Add log scale for both x and y axis\n",
    "ax.set(xscale=\"log\", yscale=\"log\")"
   ]
  },
  {
   "cell_type": "code",
   "execution_count": null,
   "id": "documented-dimension",
   "metadata": {
    "slideshow": {
     "slide_type": "slide"
    }
   },
   "outputs": [],
   "source": [
    "fig = plt.figure()\n",
    "ax = fig.add_subplot()\n",
    "ax.set(xscale=\"log\", yscale=\"log\")\n",
    "# Plot using `sns.scatterplot` in axes `ax`\n",
    "sns.scatterplot(data=freq, x='degree', y='Frequency', ax=ax)"
   ]
  }
 ],
 "metadata": {
  "celltoolbar": "Slideshow",
  "kernelspec": {
   "display_name": "Python 3",
   "language": "python",
   "name": "python3"
  },
  "language_info": {
   "codemirror_mode": {
    "name": "ipython",
    "version": 3
   },
   "file_extension": ".py",
   "mimetype": "text/x-python",
   "name": "python",
   "nbconvert_exporter": "python",
   "pygments_lexer": "ipython3",
   "version": "3.9.1"
  }
 },
 "nbformat": 4,
 "nbformat_minor": 5
}
