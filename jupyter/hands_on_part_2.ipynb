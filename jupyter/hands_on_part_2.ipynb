{
 "cells": [
  {
   "cell_type": "code",
   "execution_count": 1,
   "id": "fleet-syndicate",
   "metadata": {
    "slideshow": {
     "slide_type": "skip"
    }
   },
   "outputs": [],
   "source": [
    "import pandas as pd\n",
    "import numpy as np\n",
    "import seaborn as sns\n",
    "import graph_tool.all as gt\n",
    "import networkx as nx\n",
    "from imdb import IMDb\n",
    "import json\n",
    "import pickle"
   ]
  },
  {
   "cell_type": "markdown",
   "id": "normal-single",
   "metadata": {
    "slideshow": {
     "slide_type": "slide"
    }
   },
   "source": [
    "# GoT co-star network\n",
    "\n",
    " - nodes: actors/characters of GoT\n",
    " - edges: movies"
   ]
  },
  {
   "cell_type": "markdown",
   "id": "entertaining-muslim",
   "metadata": {
    "slideshow": {
     "slide_type": "slide"
    }
   },
   "source": [
    "# Previously\n",
    "\n",
    "```python\n",
    "edgelist = thrones.groupby('imdb_id')['id'].apply(\n",
    "    lambda x: tuple(sorted(combinations(x, 2)))).explode()\n",
    "\n",
    "edgelist.to_csv('../data/edgelist_got.csv', index=False)\n",
    "thrones.to_csv('../data/got.csv', index=False)\n",
    "```"
   ]
  },
  {
   "cell_type": "code",
   "execution_count": 2,
   "id": "cross-protection",
   "metadata": {},
   "outputs": [],
   "source": [
    "import pandas as pd"
   ]
  },
  {
   "cell_type": "code",
   "execution_count": 3,
   "id": "circular-split",
   "metadata": {
    "cell_style": "split",
    "slideshow": {
     "slide_type": "slide"
    }
   },
   "outputs": [
    {
     "data": {
      "text/html": [
       "<div>\n",
       "<style scoped>\n",
       "    .dataframe tbody tr th:only-of-type {\n",
       "        vertical-align: middle;\n",
       "    }\n",
       "\n",
       "    .dataframe tbody tr th {\n",
       "        vertical-align: top;\n",
       "    }\n",
       "\n",
       "    .dataframe thead th {\n",
       "        text-align: right;\n",
       "    }\n",
       "</style>\n",
       "<table border=\"1\" class=\"dataframe\">\n",
       "  <thead>\n",
       "    <tr style=\"text-align: right;\">\n",
       "      <th></th>\n",
       "      <th>id</th>\n",
       "    </tr>\n",
       "  </thead>\n",
       "  <tbody>\n",
       "    <tr>\n",
       "      <th>0</th>\n",
       "      <td>('nm0574534', 'nm0822062')</td>\n",
       "    </tr>\n",
       "    <tr>\n",
       "      <th>1</th>\n",
       "      <td>('nm0234541', 'nm0891092')</td>\n",
       "    </tr>\n",
       "    <tr>\n",
       "      <th>2</th>\n",
       "      <td>('nm0002103', 'nm0891092')</td>\n",
       "    </tr>\n",
       "    <tr>\n",
       "      <th>3</th>\n",
       "      <td>('nm0574534', 'nm0181920')</td>\n",
       "    </tr>\n",
       "    <tr>\n",
       "      <th>4</th>\n",
       "      <td>('nm0822062', 'nm0838910')</td>\n",
       "    </tr>\n",
       "  </tbody>\n",
       "</table>\n",
       "</div>"
      ],
      "text/plain": [
       "                           id\n",
       "0  ('nm0574534', 'nm0822062')\n",
       "1  ('nm0234541', 'nm0891092')\n",
       "2  ('nm0002103', 'nm0891092')\n",
       "3  ('nm0574534', 'nm0181920')\n",
       "4  ('nm0822062', 'nm0838910')"
      ]
     },
     "execution_count": 3,
     "metadata": {},
     "output_type": "execute_result"
    }
   ],
   "source": [
    "edgelist = pd.read_csv(\n",
    "    '../data/edgelist_got.csv')\n",
    "edgelist.head()"
   ]
  },
  {
   "cell_type": "code",
   "execution_count": 4,
   "id": "distributed-presentation",
   "metadata": {
    "cell_style": "split",
    "slideshow": {
     "slide_type": "-"
    }
   },
   "outputs": [
    {
     "data": {
      "text/html": [
       "<div>\n",
       "<style scoped>\n",
       "    .dataframe tbody tr th:only-of-type {\n",
       "        vertical-align: middle;\n",
       "    }\n",
       "\n",
       "    .dataframe tbody tr th {\n",
       "        vertical-align: top;\n",
       "    }\n",
       "\n",
       "    .dataframe thead th {\n",
       "        text-align: right;\n",
       "    }\n",
       "</style>\n",
       "<table border=\"1\" class=\"dataframe\">\n",
       "  <thead>\n",
       "    <tr style=\"text-align: right;\">\n",
       "      <th></th>\n",
       "      <th>imdb_id</th>\n",
       "      <th>title</th>\n",
       "      <th>year</th>\n",
       "      <th>id</th>\n",
       "      <th>name</th>\n",
       "      <th>character</th>\n",
       "    </tr>\n",
       "  </thead>\n",
       "  <tbody>\n",
       "    <tr>\n",
       "      <th>0</th>\n",
       "      <td>tt4699982</td>\n",
       "      <td>Rebellion</td>\n",
       "      <td>2016.0</td>\n",
       "      <td>nm0269923</td>\n",
       "      <td>Michael Feast</td>\n",
       "      <td>Aeron Greyjoy</td>\n",
       "    </tr>\n",
       "    <tr>\n",
       "      <th>1</th>\n",
       "      <td>tt4699982</td>\n",
       "      <td>Rebellion</td>\n",
       "      <td>2016.0</td>\n",
       "      <td>nm0568400</td>\n",
       "      <td>Ian McElhinney</td>\n",
       "      <td>Barristan Selmy</td>\n",
       "    </tr>\n",
       "    <tr>\n",
       "      <th>2</th>\n",
       "      <td>tt4699982</td>\n",
       "      <td>Rebellion</td>\n",
       "      <td>2016.0</td>\n",
       "      <td>nm0265610</td>\n",
       "      <td>Michelle Fairley</td>\n",
       "      <td>Catelyn Stark</td>\n",
       "    </tr>\n",
       "    <tr>\n",
       "      <th>3</th>\n",
       "      <td>tt4699982</td>\n",
       "      <td>Rebellion</td>\n",
       "      <td>2016.0</td>\n",
       "      <td>nm0734498</td>\n",
       "      <td>Lalor Roddy</td>\n",
       "      <td>Catspaw Assassin</td>\n",
       "    </tr>\n",
       "    <tr>\n",
       "      <th>4</th>\n",
       "      <td>tt4699982</td>\n",
       "      <td>Rebellion</td>\n",
       "      <td>2016.0</td>\n",
       "      <td>nm5697839</td>\n",
       "      <td>Jed Murray</td>\n",
       "      <td>Northman Rioter</td>\n",
       "    </tr>\n",
       "  </tbody>\n",
       "</table>\n",
       "</div>"
      ],
      "text/plain": [
       "     imdb_id      title    year         id              name         character\n",
       "0  tt4699982  Rebellion  2016.0  nm0269923     Michael Feast     Aeron Greyjoy\n",
       "1  tt4699982  Rebellion  2016.0  nm0568400    Ian McElhinney   Barristan Selmy\n",
       "2  tt4699982  Rebellion  2016.0  nm0265610  Michelle Fairley     Catelyn Stark\n",
       "3  tt4699982  Rebellion  2016.0  nm0734498       Lalor Roddy  Catspaw Assassin\n",
       "4  tt4699982  Rebellion  2016.0  nm5697839        Jed Murray   Northman Rioter"
      ]
     },
     "execution_count": 4,
     "metadata": {},
     "output_type": "execute_result"
    }
   ],
   "source": [
    "thrones = pd.read_csv('../data/got.csv')\n",
    "thrones.head()"
   ]
  },
  {
   "cell_type": "code",
   "execution_count": 5,
   "id": "preceding-ethernet",
   "metadata": {
    "cell_style": "split",
    "slideshow": {
     "slide_type": "slide"
    }
   },
   "outputs": [
    {
     "name": "stdout",
     "output_type": "stream",
     "text": [
      "<class 'str'>\n",
      "<class 'tuple'>\n"
     ]
    }
   ],
   "source": [
    "print(type(edgelist['id'].iloc[0]))\n",
    "print(type(eval(edgelist['id'].iloc[0])))"
   ]
  },
  {
   "cell_type": "code",
   "execution_count": 6,
   "id": "suffering-notification",
   "metadata": {
    "cell_style": "split",
    "slideshow": {
     "slide_type": "-"
    }
   },
   "outputs": [
    {
     "name": "stdout",
     "output_type": "stream",
     "text": [
      "<class 'tuple'>\n"
     ]
    }
   ],
   "source": [
    "edgelist['id'] = edgelist['id'].apply(\n",
    "    eval)\n",
    "print(type(edgelist['id'].iloc[0]))"
   ]
  },
  {
   "cell_type": "code",
   "execution_count": 7,
   "id": "reverse-morning",
   "metadata": {
    "slideshow": {
     "slide_type": "slide"
    }
   },
   "outputs": [],
   "source": [
    "def get_tuple_item(x, which='smaller'):\n",
    "    order = sorted(x)\n",
    "    if which == 'smaller':\n",
    "        return order[0]\n",
    "    else:\n",
    "        return order[1]"
   ]
  },
  {
   "cell_type": "code",
   "execution_count": 8,
   "id": "broke-invite",
   "metadata": {
    "cell_style": "split",
    "slideshow": {
     "slide_type": "slide"
    }
   },
   "outputs": [],
   "source": [
    "# Make an adjacency DataFrame\n",
    "adj_df = pd.DataFrame()\n",
    "\n",
    "adj_df['source'] = edgelist['id'].apply(\n",
    "    get_tuple_item)\n",
    "adj_df['target'] = edgelist['id'].apply(\n",
    "    get_tuple_item, which='greater')"
   ]
  },
  {
   "cell_type": "code",
   "execution_count": 9,
   "id": "unauthorized-meditation",
   "metadata": {
    "cell_style": "split",
    "slideshow": {
     "slide_type": "-"
    }
   },
   "outputs": [
    {
     "data": {
      "text/html": [
       "<div>\n",
       "<style scoped>\n",
       "    .dataframe tbody tr th:only-of-type {\n",
       "        vertical-align: middle;\n",
       "    }\n",
       "\n",
       "    .dataframe tbody tr th {\n",
       "        vertical-align: top;\n",
       "    }\n",
       "\n",
       "    .dataframe thead th {\n",
       "        text-align: right;\n",
       "    }\n",
       "</style>\n",
       "<table border=\"1\" class=\"dataframe\">\n",
       "  <thead>\n",
       "    <tr style=\"text-align: right;\">\n",
       "      <th></th>\n",
       "      <th>source</th>\n",
       "      <th>target</th>\n",
       "    </tr>\n",
       "  </thead>\n",
       "  <tbody>\n",
       "    <tr>\n",
       "      <th>0</th>\n",
       "      <td>nm0574534</td>\n",
       "      <td>nm0822062</td>\n",
       "    </tr>\n",
       "    <tr>\n",
       "      <th>1</th>\n",
       "      <td>nm0234541</td>\n",
       "      <td>nm0891092</td>\n",
       "    </tr>\n",
       "    <tr>\n",
       "      <th>2</th>\n",
       "      <td>nm0002103</td>\n",
       "      <td>nm0891092</td>\n",
       "    </tr>\n",
       "    <tr>\n",
       "      <th>3</th>\n",
       "      <td>nm0181920</td>\n",
       "      <td>nm0574534</td>\n",
       "    </tr>\n",
       "    <tr>\n",
       "      <th>4</th>\n",
       "      <td>nm0822062</td>\n",
       "      <td>nm0838910</td>\n",
       "    </tr>\n",
       "  </tbody>\n",
       "</table>\n",
       "</div>"
      ],
      "text/plain": [
       "      source     target\n",
       "0  nm0574534  nm0822062\n",
       "1  nm0234541  nm0891092\n",
       "2  nm0002103  nm0891092\n",
       "3  nm0181920  nm0574534\n",
       "4  nm0822062  nm0838910"
      ]
     },
     "execution_count": 9,
     "metadata": {},
     "output_type": "execute_result"
    }
   ],
   "source": [
    "adj_df.head()"
   ]
  },
  {
   "cell_type": "code",
   "execution_count": 10,
   "id": "respiratory-shepherd",
   "metadata": {
    "slideshow": {
     "slide_type": "slide"
    }
   },
   "outputs": [
    {
     "data": {
      "text/html": [
       "<div>\n",
       "<style scoped>\n",
       "    .dataframe tbody tr th:only-of-type {\n",
       "        vertical-align: middle;\n",
       "    }\n",
       "\n",
       "    .dataframe tbody tr th {\n",
       "        vertical-align: top;\n",
       "    }\n",
       "\n",
       "    .dataframe thead th {\n",
       "        text-align: right;\n",
       "    }\n",
       "</style>\n",
       "<table border=\"1\" class=\"dataframe\">\n",
       "  <thead>\n",
       "    <tr style=\"text-align: right;\">\n",
       "      <th></th>\n",
       "      <th>source</th>\n",
       "      <th>target</th>\n",
       "      <th>weight</th>\n",
       "    </tr>\n",
       "  </thead>\n",
       "  <tbody>\n",
       "    <tr>\n",
       "      <th>0</th>\n",
       "      <td>nm0000293</td>\n",
       "      <td>nm0000596</td>\n",
       "      <td>2</td>\n",
       "    </tr>\n",
       "    <tr>\n",
       "      <th>1</th>\n",
       "      <td>nm0000293</td>\n",
       "      <td>nm0000980</td>\n",
       "      <td>1</td>\n",
       "    </tr>\n",
       "    <tr>\n",
       "      <th>2</th>\n",
       "      <td>nm0000293</td>\n",
       "      <td>nm0001097</td>\n",
       "      <td>2</td>\n",
       "    </tr>\n",
       "    <tr>\n",
       "      <th>3</th>\n",
       "      <td>nm0000293</td>\n",
       "      <td>nm0001290</td>\n",
       "      <td>1</td>\n",
       "    </tr>\n",
       "    <tr>\n",
       "      <th>4</th>\n",
       "      <td>nm0000293</td>\n",
       "      <td>nm0002103</td>\n",
       "      <td>1</td>\n",
       "    </tr>\n",
       "  </tbody>\n",
       "</table>\n",
       "</div>"
      ],
      "text/plain": [
       "      source     target  weight\n",
       "0  nm0000293  nm0000596       2\n",
       "1  nm0000293  nm0000980       1\n",
       "2  nm0000293  nm0001097       2\n",
       "3  nm0000293  nm0001290       1\n",
       "4  nm0000293  nm0002103       1"
      ]
     },
     "execution_count": 10,
     "metadata": {},
     "output_type": "execute_result"
    }
   ],
   "source": [
    "adj_df = adj_df.groupby(['source', 'target']).size().rename('weight').reset_index()\n",
    "adj_df.head()"
   ]
  },
  {
   "cell_type": "markdown",
   "id": "infectious-humidity",
   "metadata": {
    "slideshow": {
     "slide_type": "slide"
    }
   },
   "source": [
    "## NetworkX\n",
    "\n",
    "Format files to read a network:\n",
    "\n",
    " 1. Adjacency List: `u, v_1, v_2, v_3`\n",
    " 2. Edgelist: `u, v_1, w_1, w_2`\n",
    " 3. GEXF\n",
    " 4. GML\n",
    " 5. GraphML\n",
    " 6. GIS Shapefile"
   ]
  },
  {
   "cell_type": "markdown",
   "id": "liquid-baghdad",
   "metadata": {
    "cell_style": "split",
    "slideshow": {
     "slide_type": "slide"
    }
   },
   "source": [
    "```python\n",
    "Signature:\n",
    "nx.from_pandas_edgelist(\n",
    "    df,\n",
    "    source='source',\n",
    "    target='target',\n",
    "    edge_attr=None,\n",
    "    create_using=None,\n",
    "    edge_key=None,\n",
    ")\n",
    "```"
   ]
  },
  {
   "cell_type": "code",
   "execution_count": 11,
   "id": "classified-findings",
   "metadata": {
    "cell_style": "split"
   },
   "outputs": [],
   "source": [
    "G = nx.from_pandas_edgelist(\n",
    "    adj_df,\n",
    "    edge_attr='weight')"
   ]
  },
  {
   "cell_type": "code",
   "execution_count": 12,
   "id": "chronic-accounting",
   "metadata": {
    "slideshow": {
     "slide_type": "slide"
    }
   },
   "outputs": [
    {
     "name": "stdout",
     "output_type": "stream",
     "text": [
      "Number of nodes 304\n",
      "Number of edges 2255\n"
     ]
    }
   ],
   "source": [
    "print(\"Number of nodes\", len(G))\n",
    "print(\"Number of edges\", len(G.edges))"
   ]
  },
  {
   "cell_type": "code",
   "execution_count": 13,
   "id": "sonic-riverside",
   "metadata": {
    "slideshow": {
     "slide_type": "slide"
    }
   },
   "outputs": [
    {
     "name": "stdout",
     "output_type": "stream",
     "text": [
      "Número de CC 2\n",
      "Tamaño en nodos [302, 2]\n"
     ]
    }
   ],
   "source": [
    "print(\"Número de CC\",\n",
    "      nx.number_connected_components(G))\n",
    "print(\"Tamaño en nodos\",\n",
    "      [len(cc) for cc in nx.connected_components(G)])"
   ]
  },
  {
   "cell_type": "code",
   "execution_count": 14,
   "id": "scenic-portrait",
   "metadata": {
    "slideshow": {
     "slide_type": "slide"
    }
   },
   "outputs": [],
   "source": [
    "nodes = next(nx.connected_components(G))\n",
    "H = G.subgraph(nodes)"
   ]
  },
  {
   "cell_type": "code",
   "execution_count": 15,
   "id": "future-fairy",
   "metadata": {
    "slideshow": {
     "slide_type": "slide"
    }
   },
   "outputs": [
    {
     "name": "stdout",
     "output_type": "stream",
     "text": [
      "nodes 302\n",
      "edges 2254\n"
     ]
    }
   ],
   "source": [
    "print(\"nodes\", len(H))\n",
    "print(\"edges\", len(H.edges))"
   ]
  },
  {
   "cell_type": "code",
   "execution_count": 16,
   "id": "needed-seeker",
   "metadata": {
    "slideshow": {
     "slide_type": "slide"
    }
   },
   "outputs": [
    {
     "data": {
      "image/png": "[encoded data removed]",
      "text/plain": [
       "<Figure size 432x288 with 1 Axes>"
      ]
     },
     "metadata": {},
     "output_type": "display_data"
    }
   ],
   "source": [
    "nx.draw_networkx(H)"
   ]
  },
  {
   "cell_type": "markdown",
   "id": "novel-settlement",
   "metadata": {
    "slideshow": {
     "slide_type": "slide"
    }
   },
   "source": [
    "# Degree distribution"
   ]
  },
  {
   "cell_type": "code",
   "execution_count": 17,
   "id": "retained-success",
   "metadata": {
    "slideshow": {
     "slide_type": "slide"
    }
   },
   "outputs": [
    {
     "data": {
      "text/plain": [
       "<seaborn.axisgrid.FacetGrid at 0x7fb366272fa0>"
      ]
     },
     "execution_count": 17,
     "metadata": {},
     "output_type": "execute_result"
    },
    {
     "data": {
      "image/png": "[encoded data removed]",
      "text/plain": [
       "<Figure size 360x360 with 1 Axes>"
      ]
     },
     "metadata": {
      "needs_background": "light"
     },
     "output_type": "display_data"
    }
   ],
   "source": [
    "degree = pd.DataFrame(H.degree, columns=['id', 'degree']).sort_values('degree', ascending=False)\n",
    "sns.displot(degree['degree'])"
   ]
  },
  {
   "cell_type": "code",
   "execution_count": 18,
   "id": "polished-lighting",
   "metadata": {
    "slideshow": {
     "slide_type": "slide"
    }
   },
   "outputs": [
    {
     "data": {
      "text/html": [
       "<div>\n",
       "<style scoped>\n",
       "    .dataframe tbody tr th:only-of-type {\n",
       "        vertical-align: middle;\n",
       "    }\n",
       "\n",
       "    .dataframe tbody tr th {\n",
       "        vertical-align: top;\n",
       "    }\n",
       "\n",
       "    .dataframe thead th {\n",
       "        text-align: right;\n",
       "    }\n",
       "</style>\n",
       "<table border=\"1\" class=\"dataframe\">\n",
       "  <thead>\n",
       "    <tr style=\"text-align: right;\">\n",
       "      <th></th>\n",
       "      <th>imdb_id</th>\n",
       "      <th>title</th>\n",
       "      <th>year</th>\n",
       "      <th>id</th>\n",
       "      <th>name</th>\n",
       "      <th>character</th>\n",
       "    </tr>\n",
       "  </thead>\n",
       "  <tbody>\n",
       "    <tr>\n",
       "      <th>0</th>\n",
       "      <td>tt4699982</td>\n",
       "      <td>Rebellion</td>\n",
       "      <td>2016.0</td>\n",
       "      <td>nm0269923</td>\n",
       "      <td>Michael Feast</td>\n",
       "      <td>Aeron Greyjoy</td>\n",
       "    </tr>\n",
       "    <tr>\n",
       "      <th>1</th>\n",
       "      <td>tt4699982</td>\n",
       "      <td>Rebellion</td>\n",
       "      <td>2016.0</td>\n",
       "      <td>nm0568400</td>\n",
       "      <td>Ian McElhinney</td>\n",
       "      <td>Barristan Selmy</td>\n",
       "    </tr>\n",
       "    <tr>\n",
       "      <th>2</th>\n",
       "      <td>tt4699982</td>\n",
       "      <td>Rebellion</td>\n",
       "      <td>2016.0</td>\n",
       "      <td>nm0265610</td>\n",
       "      <td>Michelle Fairley</td>\n",
       "      <td>Catelyn Stark</td>\n",
       "    </tr>\n",
       "    <tr>\n",
       "      <th>3</th>\n",
       "      <td>tt4699982</td>\n",
       "      <td>Rebellion</td>\n",
       "      <td>2016.0</td>\n",
       "      <td>nm0734498</td>\n",
       "      <td>Lalor Roddy</td>\n",
       "      <td>Catspaw Assassin</td>\n",
       "    </tr>\n",
       "    <tr>\n",
       "      <th>4</th>\n",
       "      <td>tt4699982</td>\n",
       "      <td>Rebellion</td>\n",
       "      <td>2016.0</td>\n",
       "      <td>nm5697839</td>\n",
       "      <td>Jed Murray</td>\n",
       "      <td>Northman Rioter</td>\n",
       "    </tr>\n",
       "  </tbody>\n",
       "</table>\n",
       "</div>"
      ],
      "text/plain": [
       "     imdb_id      title    year         id              name         character\n",
       "0  tt4699982  Rebellion  2016.0  nm0269923     Michael Feast     Aeron Greyjoy\n",
       "1  tt4699982  Rebellion  2016.0  nm0568400    Ian McElhinney   Barristan Selmy\n",
       "2  tt4699982  Rebellion  2016.0  nm0265610  Michelle Fairley     Catelyn Stark\n",
       "3  tt4699982  Rebellion  2016.0  nm0734498       Lalor Roddy  Catspaw Assassin\n",
       "4  tt4699982  Rebellion  2016.0  nm5697839        Jed Murray   Northman Rioter"
      ]
     },
     "execution_count": 18,
     "metadata": {},
     "output_type": "execute_result"
    }
   ],
   "source": [
    "thrones.head()"
   ]
  },
  {
   "cell_type": "code",
   "execution_count": 19,
   "id": "chemical-heart",
   "metadata": {
    "slideshow": {
     "slide_type": "slide"
    }
   },
   "outputs": [
    {
     "data": {
      "text/html": [
       "<div>\n",
       "<style scoped>\n",
       "    .dataframe tbody tr th:only-of-type {\n",
       "        vertical-align: middle;\n",
       "    }\n",
       "\n",
       "    .dataframe tbody tr th {\n",
       "        vertical-align: top;\n",
       "    }\n",
       "\n",
       "    .dataframe thead th {\n",
       "        text-align: right;\n",
       "    }\n",
       "</style>\n",
       "<table border=\"1\" class=\"dataframe\">\n",
       "  <thead>\n",
       "    <tr style=\"text-align: right;\">\n",
       "      <th></th>\n",
       "      <th>id</th>\n",
       "      <th>character</th>\n",
       "      <th>number_movies</th>\n",
       "    </tr>\n",
       "  </thead>\n",
       "  <tbody>\n",
       "    <tr>\n",
       "      <th>0</th>\n",
       "      <td>nm0000293</td>\n",
       "      <td>Eddard Stark</td>\n",
       "      <td>90</td>\n",
       "    </tr>\n",
       "    <tr>\n",
       "      <th>1</th>\n",
       "      <td>nm0000596</td>\n",
       "      <td>High Sparrow</td>\n",
       "      <td>91</td>\n",
       "    </tr>\n",
       "    <tr>\n",
       "      <th>2</th>\n",
       "      <td>nm0000980</td>\n",
       "      <td>Archmaester Marwyn</td>\n",
       "      <td>120</td>\n",
       "    </tr>\n",
       "    <tr>\n",
       "      <th>3</th>\n",
       "      <td>nm0001097</td>\n",
       "      <td>Tywin Lannister</td>\n",
       "      <td>105</td>\n",
       "    </tr>\n",
       "    <tr>\n",
       "      <th>4</th>\n",
       "      <td>nm0001216</td>\n",
       "      <td>Selyse Baratheon</td>\n",
       "      <td>41</td>\n",
       "    </tr>\n",
       "  </tbody>\n",
       "</table>\n",
       "</div>"
      ],
      "text/plain": [
       "          id           character  number_movies\n",
       "0  nm0000293        Eddard Stark             90\n",
       "1  nm0000596        High Sparrow             91\n",
       "2  nm0000980  Archmaester Marwyn            120\n",
       "3  nm0001097     Tywin Lannister            105\n",
       "4  nm0001216    Selyse Baratheon             41"
      ]
     },
     "execution_count": 19,
     "metadata": {},
     "output_type": "execute_result"
    }
   ],
   "source": [
    "actors = thrones.groupby(['id', 'character'])[['imdb_id']].size().rename(\n",
    "    'number_movies').reset_index()\n",
    "actors.head()"
   ]
  },
  {
   "cell_type": "code",
   "execution_count": 20,
   "id": "smart-weight",
   "metadata": {
    "slideshow": {
     "slide_type": "slide"
    }
   },
   "outputs": [
    {
     "data": {
      "text/html": [
       "<div>\n",
       "<style scoped>\n",
       "    .dataframe tbody tr th:only-of-type {\n",
       "        vertical-align: middle;\n",
       "    }\n",
       "\n",
       "    .dataframe tbody tr th {\n",
       "        vertical-align: top;\n",
       "    }\n",
       "\n",
       "    .dataframe thead th {\n",
       "        text-align: right;\n",
       "    }\n",
       "</style>\n",
       "<table border=\"1\" class=\"dataframe\">\n",
       "  <thead>\n",
       "    <tr style=\"text-align: right;\">\n",
       "      <th></th>\n",
       "      <th>id</th>\n",
       "      <th>degree</th>\n",
       "      <th>character</th>\n",
       "      <th>number_movies</th>\n",
       "    </tr>\n",
       "  </thead>\n",
       "  <tbody>\n",
       "    <tr>\n",
       "      <th>0</th>\n",
       "      <td>nm0000980</td>\n",
       "      <td>68</td>\n",
       "      <td>Archmaester Marwyn</td>\n",
       "      <td>120</td>\n",
       "    </tr>\n",
       "    <tr>\n",
       "      <th>1</th>\n",
       "      <td>nm0001097</td>\n",
       "      <td>63</td>\n",
       "      <td>Tywin Lannister</td>\n",
       "      <td>105</td>\n",
       "    </tr>\n",
       "    <tr>\n",
       "      <th>2</th>\n",
       "      <td>nm0568400</td>\n",
       "      <td>62</td>\n",
       "      <td>Barristan Selmy</td>\n",
       "      <td>76</td>\n",
       "    </tr>\n",
       "    <tr>\n",
       "      <th>3</th>\n",
       "      <td>nm0181920</td>\n",
       "      <td>57</td>\n",
       "      <td>Jeor Mormont</td>\n",
       "      <td>106</td>\n",
       "    </tr>\n",
       "    <tr>\n",
       "      <th>4</th>\n",
       "      <td>nm0700059</td>\n",
       "      <td>53</td>\n",
       "      <td>Craster</td>\n",
       "      <td>78</td>\n",
       "    </tr>\n",
       "    <tr>\n",
       "      <th>5</th>\n",
       "      <td>nm0504320</td>\n",
       "      <td>53</td>\n",
       "      <td>Qyburn</td>\n",
       "      <td>73</td>\n",
       "    </tr>\n",
       "    <tr>\n",
       "      <th>6</th>\n",
       "      <td>nm0538869</td>\n",
       "      <td>52</td>\n",
       "      <td>Balon Greyjoy</td>\n",
       "      <td>61</td>\n",
       "    </tr>\n",
       "    <tr>\n",
       "      <th>7</th>\n",
       "      <td>nm0408591</td>\n",
       "      <td>51</td>\n",
       "      <td>Dagmer Cleftjaw</td>\n",
       "      <td>54</td>\n",
       "    </tr>\n",
       "    <tr>\n",
       "      <th>8</th>\n",
       "      <td>nm0838910</td>\n",
       "      <td>51</td>\n",
       "      <td>Maester Luwin</td>\n",
       "      <td>59</td>\n",
       "    </tr>\n",
       "    <tr>\n",
       "      <th>9</th>\n",
       "      <td>nm0103195</td>\n",
       "      <td>51</td>\n",
       "      <td>Walder Frey</td>\n",
       "      <td>68</td>\n",
       "    </tr>\n",
       "  </tbody>\n",
       "</table>\n",
       "</div>"
      ],
      "text/plain": [
       "          id  degree           character  number_movies\n",
       "0  nm0000980      68  Archmaester Marwyn            120\n",
       "1  nm0001097      63     Tywin Lannister            105\n",
       "2  nm0568400      62     Barristan Selmy             76\n",
       "3  nm0181920      57        Jeor Mormont            106\n",
       "4  nm0700059      53             Craster             78\n",
       "5  nm0504320      53              Qyburn             73\n",
       "6  nm0538869      52       Balon Greyjoy             61\n",
       "7  nm0408591      51     Dagmer Cleftjaw             54\n",
       "8  nm0838910      51       Maester Luwin             59\n",
       "9  nm0103195      51         Walder Frey             68"
      ]
     },
     "execution_count": 20,
     "metadata": {},
     "output_type": "execute_result"
    }
   ],
   "source": [
    "# Merge DataFrames `degree` and `thrones`\n",
    "degree = pd.merge(degree, actors, how='left', on=\"id\")\n",
    "degree.head(10)"
   ]
  },
  {
   "cell_type": "code",
   "execution_count": 21,
   "id": "governing-ancient",
   "metadata": {
    "slideshow": {
     "slide_type": "slide"
    }
   },
   "outputs": [
    {
     "data": {
      "text/html": [
       "<div>\n",
       "<style scoped>\n",
       "    .dataframe tbody tr th:only-of-type {\n",
       "        vertical-align: middle;\n",
       "    }\n",
       "\n",
       "    .dataframe tbody tr th {\n",
       "        vertical-align: top;\n",
       "    }\n",
       "\n",
       "    .dataframe thead th {\n",
       "        text-align: right;\n",
       "    }\n",
       "</style>\n",
       "<table border=\"1\" class=\"dataframe\">\n",
       "  <thead>\n",
       "    <tr style=\"text-align: right;\">\n",
       "      <th></th>\n",
       "      <th>id</th>\n",
       "      <th>degree</th>\n",
       "      <th>character</th>\n",
       "      <th>number_movies</th>\n",
       "      <th>ratio_deg_nmovies</th>\n",
       "    </tr>\n",
       "  </thead>\n",
       "  <tbody>\n",
       "    <tr>\n",
       "      <th>132</th>\n",
       "      <td>nm4789912</td>\n",
       "      <td>12</td>\n",
       "      <td>Ornela</td>\n",
       "      <td>5</td>\n",
       "      <td>2.400000</td>\n",
       "    </tr>\n",
       "    <tr>\n",
       "      <th>206</th>\n",
       "      <td>nm3122423</td>\n",
       "      <td>5</td>\n",
       "      <td>Knight of House Frey</td>\n",
       "      <td>2</td>\n",
       "      <td>2.500000</td>\n",
       "    </tr>\n",
       "    <tr>\n",
       "      <th>120</th>\n",
       "      <td>nm1638006</td>\n",
       "      <td>13</td>\n",
       "      <td>Bowen Marsh</td>\n",
       "      <td>5</td>\n",
       "      <td>2.600000</td>\n",
       "    </tr>\n",
       "    <tr>\n",
       "      <th>74</th>\n",
       "      <td>nm4335246</td>\n",
       "      <td>22</td>\n",
       "      <td>Stark Guard</td>\n",
       "      <td>8</td>\n",
       "      <td>2.750000</td>\n",
       "    </tr>\n",
       "    <tr>\n",
       "      <th>249</th>\n",
       "      <td>nm5223922</td>\n",
       "      <td>3</td>\n",
       "      <td>Selyse Baratheon</td>\n",
       "      <td>1</td>\n",
       "      <td>3.000000</td>\n",
       "    </tr>\n",
       "    <tr>\n",
       "      <th>153</th>\n",
       "      <td>nm5390029</td>\n",
       "      <td>10</td>\n",
       "      <td>Warlock</td>\n",
       "      <td>3</td>\n",
       "      <td>3.333333</td>\n",
       "    </tr>\n",
       "    <tr>\n",
       "      <th>234</th>\n",
       "      <td>nm4385245</td>\n",
       "      <td>4</td>\n",
       "      <td>Timett</td>\n",
       "      <td>1</td>\n",
       "      <td>4.000000</td>\n",
       "    </tr>\n",
       "    <tr>\n",
       "      <th>222</th>\n",
       "      <td>nm4475335</td>\n",
       "      <td>5</td>\n",
       "      <td>Jaremy Rykker</td>\n",
       "      <td>1</td>\n",
       "      <td>5.000000</td>\n",
       "    </tr>\n",
       "    <tr>\n",
       "      <th>223</th>\n",
       "      <td>nm5981376</td>\n",
       "      <td>5</td>\n",
       "      <td>Stark Guard</td>\n",
       "      <td>1</td>\n",
       "      <td>5.000000</td>\n",
       "    </tr>\n",
       "    <tr>\n",
       "      <th>80</th>\n",
       "      <td>nm5081192</td>\n",
       "      <td>21</td>\n",
       "      <td>Shireen Baratheon</td>\n",
       "      <td>4</td>\n",
       "      <td>5.250000</td>\n",
       "    </tr>\n",
       "  </tbody>\n",
       "</table>\n",
       "</div>"
      ],
      "text/plain": [
       "            id  degree             character  number_movies  ratio_deg_nmovies\n",
       "132  nm4789912      12                Ornela              5           2.400000\n",
       "206  nm3122423       5  Knight of House Frey              2           2.500000\n",
       "120  nm1638006      13           Bowen Marsh              5           2.600000\n",
       "74   nm4335246      22           Stark Guard              8           2.750000\n",
       "249  nm5223922       3      Selyse Baratheon              1           3.000000\n",
       "153  nm5390029      10               Warlock              3           3.333333\n",
       "234  nm4385245       4                Timett              1           4.000000\n",
       "222  nm4475335       5         Jaremy Rykker              1           5.000000\n",
       "223  nm5981376       5           Stark Guard              1           5.000000\n",
       "80   nm5081192      21     Shireen Baratheon              4           5.250000"
      ]
     },
     "execution_count": 21,
     "metadata": {},
     "output_type": "execute_result"
    }
   ],
   "source": [
    "degree['ratio_deg_nmovies'] = degree['degree'] / degree['number_movies']\n",
    "degree.sort_values('ratio_deg_nmovies').tail(10)"
   ]
  },
  {
   "cell_type": "markdown",
   "id": "british-sending",
   "metadata": {
    "slideshow": {
     "slide_type": "slide"
    }
   },
   "source": [
    "# Game of Thrones\n",
    "\n",
    "Graph $H$\n",
    "\n",
    "Nodes: Actors\n",
    "\n",
    "Edges: Movies\n",
    "\n",
    "Is there a segregation based on any factor between the actors?"
   ]
  },
  {
   "cell_type": "code",
   "execution_count": 22,
   "id": "intended-primary",
   "metadata": {
    "slideshow": {
     "slide_type": "slide"
    }
   },
   "outputs": [
    {
     "data": {
      "text/html": [
       "<div>\n",
       "<style scoped>\n",
       "    .dataframe tbody tr th:only-of-type {\n",
       "        vertical-align: middle;\n",
       "    }\n",
       "\n",
       "    .dataframe tbody tr th {\n",
       "        vertical-align: top;\n",
       "    }\n",
       "\n",
       "    .dataframe thead th {\n",
       "        text-align: right;\n",
       "    }\n",
       "</style>\n",
       "<table border=\"1\" class=\"dataframe\">\n",
       "  <thead>\n",
       "    <tr style=\"text-align: right;\">\n",
       "      <th></th>\n",
       "      <th>id</th>\n",
       "      <th>degree</th>\n",
       "      <th>character</th>\n",
       "      <th>number_movies</th>\n",
       "      <th>ratio_deg_nmovies</th>\n",
       "    </tr>\n",
       "  </thead>\n",
       "  <tbody>\n",
       "    <tr>\n",
       "      <th>0</th>\n",
       "      <td>nm0000980</td>\n",
       "      <td>68</td>\n",
       "      <td>Archmaester Marwyn</td>\n",
       "      <td>120</td>\n",
       "      <td>0.566667</td>\n",
       "    </tr>\n",
       "    <tr>\n",
       "      <th>1</th>\n",
       "      <td>nm0001097</td>\n",
       "      <td>63</td>\n",
       "      <td>Tywin Lannister</td>\n",
       "      <td>105</td>\n",
       "      <td>0.600000</td>\n",
       "    </tr>\n",
       "    <tr>\n",
       "      <th>2</th>\n",
       "      <td>nm0568400</td>\n",
       "      <td>62</td>\n",
       "      <td>Barristan Selmy</td>\n",
       "      <td>76</td>\n",
       "      <td>0.815789</td>\n",
       "    </tr>\n",
       "    <tr>\n",
       "      <th>3</th>\n",
       "      <td>nm0181920</td>\n",
       "      <td>57</td>\n",
       "      <td>Jeor Mormont</td>\n",
       "      <td>106</td>\n",
       "      <td>0.537736</td>\n",
       "    </tr>\n",
       "    <tr>\n",
       "      <th>4</th>\n",
       "      <td>nm0700059</td>\n",
       "      <td>53</td>\n",
       "      <td>Craster</td>\n",
       "      <td>78</td>\n",
       "      <td>0.679487</td>\n",
       "    </tr>\n",
       "  </tbody>\n",
       "</table>\n",
       "</div>"
      ],
      "text/plain": [
       "          id  degree           character  number_movies  ratio_deg_nmovies\n",
       "0  nm0000980      68  Archmaester Marwyn            120           0.566667\n",
       "1  nm0001097      63     Tywin Lannister            105           0.600000\n",
       "2  nm0568400      62     Barristan Selmy             76           0.815789\n",
       "3  nm0181920      57        Jeor Mormont            106           0.537736\n",
       "4  nm0700059      53             Craster             78           0.679487"
      ]
     },
     "execution_count": 22,
     "metadata": {},
     "output_type": "execute_result"
    }
   ],
   "source": [
    "degree.head()"
   ]
  },
  {
   "cell_type": "code",
   "execution_count": 23,
   "id": "incorporated-collar",
   "metadata": {
    "slideshow": {
     "slide_type": "slide"
    }
   },
   "outputs": [
    {
     "data": {
      "text/html": [
       "<div>\n",
       "<style scoped>\n",
       "    .dataframe tbody tr th:only-of-type {\n",
       "        vertical-align: middle;\n",
       "    }\n",
       "\n",
       "    .dataframe tbody tr th {\n",
       "        vertical-align: top;\n",
       "    }\n",
       "\n",
       "    .dataframe thead th {\n",
       "        text-align: right;\n",
       "    }\n",
       "</style>\n",
       "<table border=\"1\" class=\"dataframe\">\n",
       "  <thead>\n",
       "    <tr style=\"text-align: right;\">\n",
       "      <th></th>\n",
       "      <th>DoB</th>\n",
       "      <th>PoB</th>\n",
       "      <th>height</th>\n",
       "      <th>id</th>\n",
       "      <th>country</th>\n",
       "      <th>age</th>\n",
       "    </tr>\n",
       "  </thead>\n",
       "  <tbody>\n",
       "    <tr>\n",
       "      <th>0</th>\n",
       "      <td>1959-04-17</td>\n",
       "      <td>Sheffield, South Yorkshire, England, UK</td>\n",
       "      <td>1.79</td>\n",
       "      <td>nm0000293</td>\n",
       "      <td>England</td>\n",
       "      <td>61.0</td>\n",
       "    </tr>\n",
       "    <tr>\n",
       "      <th>1</th>\n",
       "      <td>1947-06-01</td>\n",
       "      <td>Holywell, Flintshire, Wales, UK</td>\n",
       "      <td>1.83</td>\n",
       "      <td>nm0000596</td>\n",
       "      <td>Wales</td>\n",
       "      <td>73.0</td>\n",
       "    </tr>\n",
       "    <tr>\n",
       "      <th>2</th>\n",
       "      <td>1949-05-24</td>\n",
       "      <td>Lincoln, Lincolnshire, England, UK</td>\n",
       "      <td>1.88</td>\n",
       "      <td>nm0000980</td>\n",
       "      <td>England</td>\n",
       "      <td>71.0</td>\n",
       "    </tr>\n",
       "    <tr>\n",
       "      <th>3</th>\n",
       "      <td>1946-10-10</td>\n",
       "      <td>Redditch, Worcestershire, England, UK</td>\n",
       "      <td>1.91</td>\n",
       "      <td>nm0001097</td>\n",
       "      <td>England</td>\n",
       "      <td>74.0</td>\n",
       "    </tr>\n",
       "    <tr>\n",
       "      <th>4</th>\n",
       "      <td>1967-09-18</td>\n",
       "      <td>Cuckfield, Sussex, England, UK</td>\n",
       "      <td>1.65</td>\n",
       "      <td>nm0001216</td>\n",
       "      <td>England</td>\n",
       "      <td>53.0</td>\n",
       "    </tr>\n",
       "  </tbody>\n",
       "</table>\n",
       "</div>"
      ],
      "text/plain": [
       "          DoB                                      PoB  height         id  \\\n",
       "0  1959-04-17  Sheffield, South Yorkshire, England, UK    1.79  nm0000293   \n",
       "1  1947-06-01          Holywell, Flintshire, Wales, UK    1.83  nm0000596   \n",
       "2  1949-05-24       Lincoln, Lincolnshire, England, UK    1.88  nm0000980   \n",
       "3  1946-10-10    Redditch, Worcestershire, England, UK    1.91  nm0001097   \n",
       "4  1967-09-18           Cuckfield, Sussex, England, UK    1.65  nm0001216   \n",
       "\n",
       "   country   age  \n",
       "0  England  61.0  \n",
       "1    Wales  73.0  \n",
       "2  England  71.0  \n",
       "3  England  74.0  \n",
       "4  England  53.0  "
      ]
     },
     "execution_count": 23,
     "metadata": {},
     "output_type": "execute_result"
    }
   ],
   "source": [
    "add = pd.read_csv('../data/got_add.csv')\n",
    "add.head()"
   ]
  },
  {
   "cell_type": "code",
   "execution_count": 31,
   "id": "italian-debut",
   "metadata": {
    "slideshow": {
     "slide_type": "slide"
    }
   },
   "outputs": [
    {
     "data": {
      "text/html": [
       "<div>\n",
       "<style scoped>\n",
       "    .dataframe tbody tr th:only-of-type {\n",
       "        vertical-align: middle;\n",
       "    }\n",
       "\n",
       "    .dataframe tbody tr th {\n",
       "        vertical-align: top;\n",
       "    }\n",
       "\n",
       "    .dataframe thead th {\n",
       "        text-align: right;\n",
       "    }\n",
       "</style>\n",
       "<table border=\"1\" class=\"dataframe\">\n",
       "  <thead>\n",
       "    <tr style=\"text-align: right;\">\n",
       "      <th></th>\n",
       "      <th>id</th>\n",
       "      <th>degree</th>\n",
       "      <th>character</th>\n",
       "      <th>number_movies</th>\n",
       "      <th>ratio_deg_nmovies</th>\n",
       "      <th>DoB</th>\n",
       "      <th>PoB</th>\n",
       "      <th>height</th>\n",
       "      <th>country</th>\n",
       "      <th>age</th>\n",
       "    </tr>\n",
       "  </thead>\n",
       "  <tbody>\n",
       "    <tr>\n",
       "      <th>0</th>\n",
       "      <td>nm0000980</td>\n",
       "      <td>68</td>\n",
       "      <td>Archmaester Marwyn</td>\n",
       "      <td>120</td>\n",
       "      <td>0.566667</td>\n",
       "      <td>1949-05-24</td>\n",
       "      <td>Lincoln, Lincolnshire, England, UK</td>\n",
       "      <td>1.88</td>\n",
       "      <td>England</td>\n",
       "      <td>71.0</td>\n",
       "    </tr>\n",
       "    <tr>\n",
       "      <th>1</th>\n",
       "      <td>nm0001097</td>\n",
       "      <td>63</td>\n",
       "      <td>Tywin Lannister</td>\n",
       "      <td>105</td>\n",
       "      <td>0.600000</td>\n",
       "      <td>1946-10-10</td>\n",
       "      <td>Redditch, Worcestershire, England, UK</td>\n",
       "      <td>1.91</td>\n",
       "      <td>England</td>\n",
       "      <td>74.0</td>\n",
       "    </tr>\n",
       "    <tr>\n",
       "      <th>2</th>\n",
       "      <td>nm0568400</td>\n",
       "      <td>62</td>\n",
       "      <td>Barristan Selmy</td>\n",
       "      <td>76</td>\n",
       "      <td>0.815789</td>\n",
       "      <td>1948-08-19</td>\n",
       "      <td>Belfast, Northern Ireland, UK</td>\n",
       "      <td>1.81</td>\n",
       "      <td>Northern Ireland</td>\n",
       "      <td>72.0</td>\n",
       "    </tr>\n",
       "    <tr>\n",
       "      <th>3</th>\n",
       "      <td>nm0181920</td>\n",
       "      <td>57</td>\n",
       "      <td>Jeor Mormont</td>\n",
       "      <td>106</td>\n",
       "      <td>0.537736</td>\n",
       "      <td>1948-05-24</td>\n",
       "      <td>Clydebank, Dunbartonshire, Scotland, UK</td>\n",
       "      <td>1.88</td>\n",
       "      <td>Scotland</td>\n",
       "      <td>72.0</td>\n",
       "    </tr>\n",
       "    <tr>\n",
       "      <th>4</th>\n",
       "      <td>nm0700059</td>\n",
       "      <td>53</td>\n",
       "      <td>Craster</td>\n",
       "      <td>78</td>\n",
       "      <td>0.679487</td>\n",
       "      <td>1950-00-00</td>\n",
       "      <td>Aberdare, Glamorgan, Wales, UK</td>\n",
       "      <td>NaN</td>\n",
       "      <td>Wales</td>\n",
       "      <td>71.0</td>\n",
       "    </tr>\n",
       "  </tbody>\n",
       "</table>\n",
       "</div>"
      ],
      "text/plain": [
       "          id  degree           character  number_movies  ratio_deg_nmovies  \\\n",
       "0  nm0000980      68  Archmaester Marwyn            120           0.566667   \n",
       "1  nm0001097      63     Tywin Lannister            105           0.600000   \n",
       "2  nm0568400      62     Barristan Selmy             76           0.815789   \n",
       "3  nm0181920      57        Jeor Mormont            106           0.537736   \n",
       "4  nm0700059      53             Craster             78           0.679487   \n",
       "\n",
       "          DoB                                      PoB  height  \\\n",
       "0  1949-05-24       Lincoln, Lincolnshire, England, UK    1.88   \n",
       "1  1946-10-10    Redditch, Worcestershire, England, UK    1.91   \n",
       "2  1948-08-19            Belfast, Northern Ireland, UK    1.81   \n",
       "3  1948-05-24  Clydebank, Dunbartonshire, Scotland, UK    1.88   \n",
       "4  1950-00-00           Aberdare, Glamorgan, Wales, UK     NaN   \n",
       "\n",
       "            country   age  \n",
       "0           England  71.0  \n",
       "1           England  74.0  \n",
       "2  Northern Ireland  72.0  \n",
       "3          Scotland  72.0  \n",
       "4             Wales  71.0  "
      ]
     },
     "execution_count": 31,
     "metadata": {},
     "output_type": "execute_result"
    }
   ],
   "source": [
    "nodes = pd.merge(degree, add, how='left')\n",
    "nodes.head()"
   ]
  },
  {
   "cell_type": "code",
   "execution_count": 32,
   "id": "related-length",
   "metadata": {
    "slideshow": {
     "slide_type": "slide"
    }
   },
   "outputs": [
    {
     "name": "stdout",
     "output_type": "stream",
     "text": [
      "<class 'pandas.core.frame.DataFrame'>\n",
      "Int64Index: 302 entries, 0 to 301\n",
      "Data columns (total 10 columns):\n",
      " #   Column             Non-Null Count  Dtype  \n",
      "---  ------             --------------  -----  \n",
      " 0   id                 302 non-null    object \n",
      " 1   degree             302 non-null    int64  \n",
      " 2   character          302 non-null    object \n",
      " 3   number_movies      302 non-null    int64  \n",
      " 4   ratio_deg_nmovies  302 non-null    float64\n",
      " 5   DoB                173 non-null    object \n",
      " 6   PoB                171 non-null    object \n",
      " 7   height             233 non-null    float64\n",
      " 8   country            171 non-null    object \n",
      " 9   age                173 non-null    float64\n",
      "dtypes: float64(3), int64(2), object(5)\n",
      "memory usage: 26.0+ KB\n"
     ]
    }
   ],
   "source": [
    "nodes.info()"
   ]
  },
  {
   "cell_type": "code",
   "execution_count": 33,
   "id": "cardiovascular-exception",
   "metadata": {
    "slideshow": {
     "slide_type": "slide"
    }
   },
   "outputs": [],
   "source": [
    "nodes = nodes.dropna()"
   ]
  },
  {
   "cell_type": "code",
   "execution_count": 35,
   "id": "republican-fiction",
   "metadata": {
    "slideshow": {
     "slide_type": "slide"
    }
   },
   "outputs": [],
   "source": [
    "I = H.subgraph(nodes['id'])"
   ]
  },
  {
   "cell_type": "markdown",
   "id": "fitting-gates",
   "metadata": {
    "slideshow": {
     "slide_type": "slide"
    }
   },
   "source": [
    "# Assortativity\n",
    "\n",
    " Preference for a network's nodes to attach to others that are similar in some way.\n",
    " \n",
    "  - A value close to 1: low mixing.\n",
    "  - A value close to -1: high mixing.\n",
    "  - A value close to 0: random mixing."
   ]
  },
  {
   "cell_type": "markdown",
   "id": "reported-alarm",
   "metadata": {
    "slideshow": {
     "slide_type": "slide"
    }
   },
   "source": [
    "```\n",
    "Signature: nx.numeric_assortativity_coefficient(G, attribute, nodes=None)\n",
    "Docstring:\n",
    "Compute assortativity for numerical node attributes.\n",
    "\n",
    "Assortativity measures the similarity of connections\n",
    "in the graph with respect to the given numeric attribute.\n",
    "The numeric attribute must be an integer.\n",
    "```"
   ]
  },
  {
   "cell_type": "code",
   "execution_count": 44,
   "id": "tamil-wellington",
   "metadata": {
    "slideshow": {
     "slide_type": "slide"
    }
   },
   "outputs": [],
   "source": [
    "# Change columns from float to int\n",
    "nodes['height'] = (nodes['height'] * 100).astype(int)\n",
    "nodes['age'] = nodes['age'].astype(int)"
   ]
  },
  {
   "cell_type": "markdown",
   "id": "scheduled-poison",
   "metadata": {
    "slideshow": {
     "slide_type": "slide"
    }
   },
   "source": [
    "```\n",
    "Signature: nx.attribute_assortativity_coefficient(G, attribute, nodes=None)\n",
    "Docstring:\n",
    "Compute assortativity for node attributes.\n",
    "\n",
    "Assortativity measures the similarity of connections\n",
    "in the graph with respect to the given attribute.\n",
    "```"
   ]
  },
  {
   "cell_type": "markdown",
   "id": "municipal-bradley",
   "metadata": {
    "cell_style": "center",
    "slideshow": {
     "slide_type": "slide"
    }
   },
   "source": [
    "```\n",
    "Signature: nx.set_node_attributes(G, values, name=None)\n",
    "Docstring:\n",
    "Sets node attributes from a given value or dictionary of values.\n",
    "```"
   ]
  },
  {
   "cell_type": "code",
   "execution_count": 48,
   "id": "stuffed-yacht",
   "metadata": {
    "slideshow": {
     "slide_type": "slide"
    }
   },
   "outputs": [
    {
     "data": {
      "text/plain": [
       "[(1, 'a', 8.0)]"
      ]
     },
     "execution_count": 48,
     "metadata": {},
     "output_type": "execute_result"
    }
   ],
   "source": [
    "list(zip([1, 2, 3], ['a', 'b'], [8.]))"
   ]
  },
  {
   "cell_type": "code",
   "execution_count": 52,
   "id": "rational-tourism",
   "metadata": {
    "slideshow": {
     "slide_type": "slide"
    }
   },
   "outputs": [],
   "source": [
    "att_country = dict(zip(nodes['id'], nodes['country']))\n",
    "att_height = dict(zip(nodes['id'], nodes['height']))\n",
    "att_age = dict(zip(nodes['id'], nodes['age']))"
   ]
  },
  {
   "cell_type": "code",
   "execution_count": 53,
   "id": "substantial-tribune",
   "metadata": {
    "slideshow": {
     "slide_type": "slide"
    }
   },
   "outputs": [],
   "source": [
    "nx.set_node_attributes(I, att_country, 'country')\n",
    "nx.set_node_attributes(I, att_height, 'height')\n",
    "nx.set_node_attributes(I, att_age, 'age')"
   ]
  },
  {
   "cell_type": "code",
   "execution_count": 55,
   "id": "desperate-sunrise",
   "metadata": {
    "slideshow": {
     "slide_type": "slide"
    }
   },
   "outputs": [
    {
     "data": {
      "text/plain": [
       "0.023530013263512405"
      ]
     },
     "execution_count": 55,
     "metadata": {},
     "output_type": "execute_result"
    }
   ],
   "source": [
    "nx.numeric_assortativity_coefficient(I, 'height')"
   ]
  },
  {
   "cell_type": "code",
   "execution_count": 56,
   "id": "homeless-ethiopia",
   "metadata": {
    "slideshow": {
     "slide_type": "slide"
    }
   },
   "outputs": [
    {
     "data": {
      "text/plain": [
       "0.08915080693563078"
      ]
     },
     "execution_count": 56,
     "metadata": {},
     "output_type": "execute_result"
    }
   ],
   "source": [
    "nx.attribute_assortativity_coefficient(I, 'country')"
   ]
  },
  {
   "cell_type": "code",
   "execution_count": 57,
   "id": "stainless-anatomy",
   "metadata": {
    "slideshow": {
     "slide_type": "slide"
    }
   },
   "outputs": [
    {
     "data": {
      "text/plain": [
       "0.15824926388401794"
      ]
     },
     "execution_count": 57,
     "metadata": {},
     "output_type": "execute_result"
    }
   ],
   "source": [
    "nx.numeric_assortativity_coefficient(I, 'age')"
   ]
  }
 ],
 "metadata": {
  "celltoolbar": "Slideshow",
  "kernelspec": {
   "display_name": "Python 3",
   "language": "python",
   "name": "python3"
  },
  "language_info": {
   "codemirror_mode": {
    "name": "ipython",
    "version": 3
   },
   "file_extension": ".py",
   "mimetype": "text/x-python",
   "name": "python",
   "nbconvert_exporter": "python",
   "pygments_lexer": "ipython3",
   "version": "3.9.1"
  }
 },
 "nbformat": 4,
 "nbformat_minor": 5
}
