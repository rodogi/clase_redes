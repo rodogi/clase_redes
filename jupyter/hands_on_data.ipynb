{
 "cells": [
  {
   "cell_type": "code",
   "execution_count": 1,
   "id": "helpful-intention",
   "metadata": {
    "slideshow": {
     "slide_type": "skip"
    }
   },
   "outputs": [],
   "source": [
    "import requests\n",
    "import seaborn as sns\n",
    "import pandas as pd\n",
    "import graph_tool.all as gt\n",
    "import networkx as nx\n",
    "import zipfile"
   ]
  },
  {
   "cell_type": "markdown",
   "id": "lightweight-basic",
   "metadata": {
    "slideshow": {
     "slide_type": "slide"
    }
   },
   "source": [
    "# Hands-on Three python libraries\n",
    "\n",
    "- Pandas: Main python library dealing with tables.\n",
    "- Networkx: Complete python library dealing with networks.\n",
    "- Graph-tool: Python library dealing with networks **fast**."
   ]
  },
  {
   "cell_type": "markdown",
   "id": "pending-appointment",
   "metadata": {
    "cell_style": "split",
    "slideshow": {
     "slide_type": "slide"
    }
   },
   "source": [
    "<center><img\n",
    "src=\"https://upload.wikimedia.org/wikipedia/commons/thumb/e/ed/Pandas_logo.svg/1200px-Pandas_logo.svg.png\" alt=\"Drawing\" style=\"width: 350px;\"/></center>"
   ]
  },
  {
   "cell_type": "markdown",
   "id": "soviet-bangladesh",
   "metadata": {
    "cell_style": "split",
    "slideshow": {
     "slide_type": "-"
    }
   },
   "source": [
    "<center><img\n",
    "src=\"https://upload.wikimedia.org/wikipedia/commons/thumb/3/31/NumPy_logo_2020.svg/1920px-NumPy_logo_2020.svg.png\" alt=\"Drawing\" style=\"width: 350px;\"/></center>"
   ]
  },
  {
   "cell_type": "code",
   "execution_count": 2,
   "id": "spanish-judgment",
   "metadata": {
    "cell_style": "split",
    "slideshow": {
     "slide_type": "slide"
    }
   },
   "outputs": [],
   "source": [
    "import numpy as np\n",
    "# Main class of numpy -> the array\n",
    "\n",
    "int_array = np.array([1, 2, 3, 4])\n",
    "float_array = np.array([1., 2., 3., 4.])\n",
    "string_array = np.array(['ad', 'sb',\n",
    "                         'sac', 'a'])"
   ]
  },
  {
   "cell_type": "code",
   "execution_count": 3,
   "id": "reduced-quantity",
   "metadata": {
    "cell_style": "split",
    "slideshow": {
     "slide_type": "-"
    }
   },
   "outputs": [
    {
     "name": "stdout",
     "output_type": "stream",
     "text": [
      "[[ 4  8]\n",
      " [12 16]]\n"
     ]
    }
   ],
   "source": [
    "A = np.array([[1, 2], [3, 4]])\n",
    "print(A * 4)"
   ]
  },
  {
   "cell_type": "code",
   "execution_count": 4,
   "id": "ranking-lawsuit",
   "metadata": {
    "cell_style": "split",
    "slideshow": {
     "slide_type": "slide"
    }
   },
   "outputs": [
    {
     "name": "stdout",
     "output_type": "stream",
     "text": [
      "   col_a  col_b colb_c\n",
      "0      1    1.0     ad\n",
      "1      2    2.0     sb\n",
      "2      3    3.0    sac\n",
      "3      4    4.0      a\n"
     ]
    }
   ],
   "source": [
    "import pandas as pd\n",
    "# Create a pandas dataframe\n",
    "\n",
    "df = pd.DataFrame({'col_a': int_array,\n",
    "                   'col_b': float_array,\n",
    "                   'colb_c': string_array})\n",
    "print(df)"
   ]
  },
  {
   "cell_type": "code",
   "execution_count": 5,
   "id": "lyric-personality",
   "metadata": {
    "cell_style": "split",
    "slideshow": {
     "slide_type": "-"
    }
   },
   "outputs": [
    {
     "data": {
      "text/plain": [
       "0     4\n",
       "1     8\n",
       "2    12\n",
       "3    16\n",
       "Name: col_a, dtype: int64"
      ]
     },
     "execution_count": 5,
     "metadata": {},
     "output_type": "execute_result"
    }
   ],
   "source": [
    "# Two types of objects in pandas:\n",
    "# Series and DataFrame\n",
    "df['col_a'] * 4"
   ]
  },
  {
   "cell_type": "code",
   "execution_count": null,
   "id": "religious-philadelphia",
   "metadata": {
    "slideshow": {
     "slide_type": "skip"
    }
   },
   "outputs": [],
   "source": []
  },
  {
   "cell_type": "code",
   "execution_count": 6,
   "id": "laughing-western",
   "metadata": {
    "cell_style": "split",
    "slideshow": {
     "slide_type": "slide"
    }
   },
   "outputs": [
    {
     "name": "stdout",
     "output_type": "stream",
     "text": [
      "   col_a  col_b colb_c  new_col\n",
      "0      1    1.0     ad        9\n",
      "1      2    2.0     sb        8\n",
      "2      3    3.0    sac        7\n",
      "3      4    4.0      a        6\n"
     ]
    }
   ],
   "source": [
    "# Creating new columns\n",
    "df['new_col'] = [9, 8, 7, 6]\n",
    "print(df)"
   ]
  },
  {
   "cell_type": "code",
   "execution_count": 7,
   "id": "adolescent-accordance",
   "metadata": {
    "cell_style": "split",
    "slideshow": {
     "slide_type": "-"
    }
   },
   "outputs": [
    {
     "data": {
      "text/plain": [
       "0     1.0\n",
       "1     8.0\n",
       "2    27.0\n",
       "3    64.0\n",
       "Name: col_b, dtype: float64"
      ]
     },
     "execution_count": 7,
     "metadata": {},
     "output_type": "execute_result"
    }
   ],
   "source": [
    "# The apply method\n",
    "def potencia(x):\n",
    "    return x**3\n",
    "\n",
    "df['col_b'].apply(potencia)"
   ]
  },
  {
   "cell_type": "code",
   "execution_count": 8,
   "id": "english-animation",
   "metadata": {
    "slideshow": {
     "slide_type": "slide"
    }
   },
   "outputs": [
    {
     "data": {
      "text/html": [
       "<div>\n",
       "<style scoped>\n",
       "    .dataframe tbody tr th:only-of-type {\n",
       "        vertical-align: middle;\n",
       "    }\n",
       "\n",
       "    .dataframe tbody tr th {\n",
       "        vertical-align: top;\n",
       "    }\n",
       "\n",
       "    .dataframe thead th {\n",
       "        text-align: right;\n",
       "    }\n",
       "</style>\n",
       "<table border=\"1\" class=\"dataframe\">\n",
       "  <thead>\n",
       "    <tr style=\"text-align: right;\">\n",
       "      <th></th>\n",
       "      <th>tt4699982</th>\n",
       "      <th>tt5539140</th>\n",
       "      <th>tt2006040</th>\n",
       "      <th>tt1316616</th>\n",
       "      <th>tt0810823</th>\n",
       "      <th>tt1043496</th>\n",
       "      <th>tt0472160</th>\n",
       "      <th>tt0481459</th>\n",
       "      <th>tt0338806</th>\n",
       "      <th>tt0362192</th>\n",
       "      <th>...</th>\n",
       "      <th>tt0181712</th>\n",
       "      <th>tt0095320</th>\n",
       "      <th>tt0121757</th>\n",
       "      <th>tt0095022</th>\n",
       "      <th>tt0124035</th>\n",
       "      <th>tt1611815</th>\n",
       "      <th>tt0092153</th>\n",
       "      <th>tt0088970</th>\n",
       "      <th>tt0085922</th>\n",
       "      <th>tt0367119</th>\n",
       "    </tr>\n",
       "  </thead>\n",
       "  <tbody>\n",
       "    <tr>\n",
       "      <th>imdb_id</th>\n",
       "      <td>tt4699982</td>\n",
       "      <td>tt5539140</td>\n",
       "      <td>tt2006040</td>\n",
       "      <td>tt1316616</td>\n",
       "      <td>tt0810823</td>\n",
       "      <td>tt1043496</td>\n",
       "      <td>tt0472160</td>\n",
       "      <td>tt0481459</td>\n",
       "      <td>tt0338806</td>\n",
       "      <td>tt0362192</td>\n",
       "      <td>...</td>\n",
       "      <td>tt0181712</td>\n",
       "      <td>tt0095320</td>\n",
       "      <td>tt0121757</td>\n",
       "      <td>tt0095022</td>\n",
       "      <td>tt0124035</td>\n",
       "      <td>tt1611815</td>\n",
       "      <td>tt0092153</td>\n",
       "      <td>tt0088970</td>\n",
       "      <td>tt0085922</td>\n",
       "      <td>tt0367119</td>\n",
       "    </tr>\n",
       "    <tr>\n",
       "      <th>title</th>\n",
       "      <td>Rebellion</td>\n",
       "      <td>Joan of Arc: God's Warrior</td>\n",
       "      <td>A Fantastic Fear of Everything</td>\n",
       "      <td>There Be Dragons</td>\n",
       "      <td>The Deaths of Ian Stone</td>\n",
       "      <td>Sinking of the Lusitania: Terror at Sea</td>\n",
       "      <td>Penelope</td>\n",
       "      <td>The Virgin Queen</td>\n",
       "      <td>Warrior Queen</td>\n",
       "      <td>State of Play</td>\n",
       "      <td>...</td>\n",
       "      <td>Najbolji</td>\n",
       "      <td>Honor Bound</td>\n",
       "      <td>Sokol ga nije volio</td>\n",
       "      <td>The Dirty Dozen: The Fatal Mission</td>\n",
       "      <td>Oficir s ruzom</td>\n",
       "      <td>Bunda</td>\n",
       "      <td>Vecernja zvona</td>\n",
       "      <td>Crveni i crni</td>\n",
       "      <td>Medeni mjesec</td>\n",
       "      <td>Tamburasi</td>\n",
       "    </tr>\n",
       "    <tr>\n",
       "      <th>year</th>\n",
       "      <td>2016</td>\n",
       "      <td>2015</td>\n",
       "      <td>2012</td>\n",
       "      <td>2011</td>\n",
       "      <td>2007</td>\n",
       "      <td>2007</td>\n",
       "      <td>2006</td>\n",
       "      <td>2006</td>\n",
       "      <td>2003</td>\n",
       "      <td>2003</td>\n",
       "      <td>...</td>\n",
       "      <td>1989</td>\n",
       "      <td>1988</td>\n",
       "      <td>1988</td>\n",
       "      <td>1988</td>\n",
       "      <td>1987</td>\n",
       "      <td>1987</td>\n",
       "      <td>1986</td>\n",
       "      <td>1985</td>\n",
       "      <td>1983</td>\n",
       "      <td>1982</td>\n",
       "    </tr>\n",
       "    <tr>\n",
       "      <th>actors</th>\n",
       "      <td>[{'personID': 'nm0269923', 'actorName': 'Micha...</td>\n",
       "      <td>[{'personID': 'nm0269923', 'actorName': 'Micha...</td>\n",
       "      <td>[{'personID': 'nm0269923', 'actorName': 'Micha...</td>\n",
       "      <td>[{'personID': 'nm0269923', 'actorName': 'Micha...</td>\n",
       "      <td>[{'personID': 'nm0269923', 'actorName': 'Micha...</td>\n",
       "      <td>[{'personID': 'nm0269923', 'actorName': 'Micha...</td>\n",
       "      <td>[{'personID': 'nm0269923', 'actorName': 'Micha...</td>\n",
       "      <td>[{'personID': 'nm0269923', 'actorName': 'Micha...</td>\n",
       "      <td>[{'personID': 'nm0269923', 'actorName': 'Micha...</td>\n",
       "      <td>[{'personID': 'nm0269923', 'actorName': 'Micha...</td>\n",
       "      <td>...</td>\n",
       "      <td>[{'personID': 'nm0432838', 'actorName': 'Slavk...</td>\n",
       "      <td>[{'personID': 'nm0432838', 'actorName': 'Slavk...</td>\n",
       "      <td>[{'personID': 'nm0432838', 'actorName': 'Slavk...</td>\n",
       "      <td>[{'personID': 'nm0432838', 'actorName': 'Slavk...</td>\n",
       "      <td>[{'personID': 'nm0432838', 'actorName': 'Slavk...</td>\n",
       "      <td>[{'personID': 'nm0432838', 'actorName': 'Slavk...</td>\n",
       "      <td>[{'personID': 'nm0432838', 'actorName': 'Slavk...</td>\n",
       "      <td>[{'personID': 'nm0432838', 'actorName': 'Slavk...</td>\n",
       "      <td>[{'personID': 'nm0432838', 'actorName': 'Slavk...</td>\n",
       "      <td>[{'personID': 'nm0432838', 'actorName': 'Slavk...</td>\n",
       "    </tr>\n",
       "  </tbody>\n",
       "</table>\n",
       "<p>4 rows × 5649 columns</p>\n",
       "</div>"
      ],
      "text/plain": [
       "                                                 tt4699982  \\\n",
       "imdb_id                                          tt4699982   \n",
       "title                                            Rebellion   \n",
       "year                                                  2016   \n",
       "actors   [{'personID': 'nm0269923', 'actorName': 'Micha...   \n",
       "\n",
       "                                                 tt5539140  \\\n",
       "imdb_id                                          tt5539140   \n",
       "title                           Joan of Arc: God's Warrior   \n",
       "year                                                  2015   \n",
       "actors   [{'personID': 'nm0269923', 'actorName': 'Micha...   \n",
       "\n",
       "                                                 tt2006040  \\\n",
       "imdb_id                                          tt2006040   \n",
       "title                       A Fantastic Fear of Everything   \n",
       "year                                                  2012   \n",
       "actors   [{'personID': 'nm0269923', 'actorName': 'Micha...   \n",
       "\n",
       "                                                 tt1316616  \\\n",
       "imdb_id                                          tt1316616   \n",
       "title                                     There Be Dragons   \n",
       "year                                                  2011   \n",
       "actors   [{'personID': 'nm0269923', 'actorName': 'Micha...   \n",
       "\n",
       "                                                 tt0810823  \\\n",
       "imdb_id                                          tt0810823   \n",
       "title                              The Deaths of Ian Stone   \n",
       "year                                                  2007   \n",
       "actors   [{'personID': 'nm0269923', 'actorName': 'Micha...   \n",
       "\n",
       "                                                 tt1043496  \\\n",
       "imdb_id                                          tt1043496   \n",
       "title              Sinking of the Lusitania: Terror at Sea   \n",
       "year                                                  2007   \n",
       "actors   [{'personID': 'nm0269923', 'actorName': 'Micha...   \n",
       "\n",
       "                                                 tt0472160  \\\n",
       "imdb_id                                          tt0472160   \n",
       "title                                             Penelope   \n",
       "year                                                  2006   \n",
       "actors   [{'personID': 'nm0269923', 'actorName': 'Micha...   \n",
       "\n",
       "                                                 tt0481459  \\\n",
       "imdb_id                                          tt0481459   \n",
       "title                                     The Virgin Queen   \n",
       "year                                                  2006   \n",
       "actors   [{'personID': 'nm0269923', 'actorName': 'Micha...   \n",
       "\n",
       "                                                 tt0338806  \\\n",
       "imdb_id                                          tt0338806   \n",
       "title                                        Warrior Queen   \n",
       "year                                                  2003   \n",
       "actors   [{'personID': 'nm0269923', 'actorName': 'Micha...   \n",
       "\n",
       "                                                 tt0362192  ...  \\\n",
       "imdb_id                                          tt0362192  ...   \n",
       "title                                        State of Play  ...   \n",
       "year                                                  2003  ...   \n",
       "actors   [{'personID': 'nm0269923', 'actorName': 'Micha...  ...   \n",
       "\n",
       "                                                 tt0181712  \\\n",
       "imdb_id                                          tt0181712   \n",
       "title                                             Najbolji   \n",
       "year                                                  1989   \n",
       "actors   [{'personID': 'nm0432838', 'actorName': 'Slavk...   \n",
       "\n",
       "                                                 tt0095320  \\\n",
       "imdb_id                                          tt0095320   \n",
       "title                                          Honor Bound   \n",
       "year                                                  1988   \n",
       "actors   [{'personID': 'nm0432838', 'actorName': 'Slavk...   \n",
       "\n",
       "                                                 tt0121757  \\\n",
       "imdb_id                                          tt0121757   \n",
       "title                                  Sokol ga nije volio   \n",
       "year                                                  1988   \n",
       "actors   [{'personID': 'nm0432838', 'actorName': 'Slavk...   \n",
       "\n",
       "                                                 tt0095022  \\\n",
       "imdb_id                                          tt0095022   \n",
       "title                   The Dirty Dozen: The Fatal Mission   \n",
       "year                                                  1988   \n",
       "actors   [{'personID': 'nm0432838', 'actorName': 'Slavk...   \n",
       "\n",
       "                                                 tt0124035  \\\n",
       "imdb_id                                          tt0124035   \n",
       "title                                       Oficir s ruzom   \n",
       "year                                                  1987   \n",
       "actors   [{'personID': 'nm0432838', 'actorName': 'Slavk...   \n",
       "\n",
       "                                                 tt1611815  \\\n",
       "imdb_id                                          tt1611815   \n",
       "title                                                Bunda   \n",
       "year                                                  1987   \n",
       "actors   [{'personID': 'nm0432838', 'actorName': 'Slavk...   \n",
       "\n",
       "                                                 tt0092153  \\\n",
       "imdb_id                                          tt0092153   \n",
       "title                                       Vecernja zvona   \n",
       "year                                                  1986   \n",
       "actors   [{'personID': 'nm0432838', 'actorName': 'Slavk...   \n",
       "\n",
       "                                                 tt0088970  \\\n",
       "imdb_id                                          tt0088970   \n",
       "title                                        Crveni i crni   \n",
       "year                                                  1985   \n",
       "actors   [{'personID': 'nm0432838', 'actorName': 'Slavk...   \n",
       "\n",
       "                                                 tt0085922  \\\n",
       "imdb_id                                          tt0085922   \n",
       "title                                        Medeni mjesec   \n",
       "year                                                  1983   \n",
       "actors   [{'personID': 'nm0432838', 'actorName': 'Slavk...   \n",
       "\n",
       "                                                 tt0367119  \n",
       "imdb_id                                          tt0367119  \n",
       "title                                            Tamburasi  \n",
       "year                                                  1982  \n",
       "actors   [{'personID': 'nm0432838', 'actorName': 'Slavk...  \n",
       "\n",
       "[4 rows x 5649 columns]"
      ]
     },
     "execution_count": 8,
     "metadata": {},
     "output_type": "execute_result"
    }
   ],
   "source": [
    "thrones = pd.read_json(\n",
    "    \"https://raw.githubusercontent.com/jeffreylancaster/game-of-thrones/master/data/costars.json\")\n",
    "thrones.head()"
   ]
  },
  {
   "cell_type": "code",
   "execution_count": 9,
   "id": "known-charlotte",
   "metadata": {
    "cell_style": "split",
    "slideshow": {
     "slide_type": "slide"
    }
   },
   "outputs": [
    {
     "data": {
      "text/html": [
       "<div>\n",
       "<style scoped>\n",
       "    .dataframe tbody tr th:only-of-type {\n",
       "        vertical-align: middle;\n",
       "    }\n",
       "\n",
       "    .dataframe tbody tr th {\n",
       "        vertical-align: top;\n",
       "    }\n",
       "\n",
       "    .dataframe thead th {\n",
       "        text-align: right;\n",
       "    }\n",
       "</style>\n",
       "<table border=\"1\" class=\"dataframe\">\n",
       "  <thead>\n",
       "    <tr style=\"text-align: right;\">\n",
       "      <th></th>\n",
       "      <th>imdb_id</th>\n",
       "      <th>title</th>\n",
       "      <th>year</th>\n",
       "      <th>actors</th>\n",
       "    </tr>\n",
       "  </thead>\n",
       "  <tbody>\n",
       "    <tr>\n",
       "      <th>tt4699982</th>\n",
       "      <td>tt4699982</td>\n",
       "      <td>Rebellion</td>\n",
       "      <td>2016</td>\n",
       "      <td>[{'personID': 'nm0269923', 'actorName': 'Micha...</td>\n",
       "    </tr>\n",
       "    <tr>\n",
       "      <th>tt5539140</th>\n",
       "      <td>tt5539140</td>\n",
       "      <td>Joan of Arc: God's Warrior</td>\n",
       "      <td>2015</td>\n",
       "      <td>[{'personID': 'nm0269923', 'actorName': 'Micha...</td>\n",
       "    </tr>\n",
       "    <tr>\n",
       "      <th>tt2006040</th>\n",
       "      <td>tt2006040</td>\n",
       "      <td>A Fantastic Fear of Everything</td>\n",
       "      <td>2012</td>\n",
       "      <td>[{'personID': 'nm0269923', 'actorName': 'Micha...</td>\n",
       "    </tr>\n",
       "    <tr>\n",
       "      <th>tt1316616</th>\n",
       "      <td>tt1316616</td>\n",
       "      <td>There Be Dragons</td>\n",
       "      <td>2011</td>\n",
       "      <td>[{'personID': 'nm0269923', 'actorName': 'Micha...</td>\n",
       "    </tr>\n",
       "    <tr>\n",
       "      <th>tt0810823</th>\n",
       "      <td>tt0810823</td>\n",
       "      <td>The Deaths of Ian Stone</td>\n",
       "      <td>2007</td>\n",
       "      <td>[{'personID': 'nm0269923', 'actorName': 'Micha...</td>\n",
       "    </tr>\n",
       "  </tbody>\n",
       "</table>\n",
       "</div>"
      ],
      "text/plain": [
       "             imdb_id                           title  year  \\\n",
       "tt4699982  tt4699982                       Rebellion  2016   \n",
       "tt5539140  tt5539140      Joan of Arc: God's Warrior  2015   \n",
       "tt2006040  tt2006040  A Fantastic Fear of Everything  2012   \n",
       "tt1316616  tt1316616                There Be Dragons  2011   \n",
       "tt0810823  tt0810823         The Deaths of Ian Stone  2007   \n",
       "\n",
       "                                                      actors  \n",
       "tt4699982  [{'personID': 'nm0269923', 'actorName': 'Micha...  \n",
       "tt5539140  [{'personID': 'nm0269923', 'actorName': 'Micha...  \n",
       "tt2006040  [{'personID': 'nm0269923', 'actorName': 'Micha...  \n",
       "tt1316616  [{'personID': 'nm0269923', 'actorName': 'Micha...  \n",
       "tt0810823  [{'personID': 'nm0269923', 'actorName': 'Micha...  "
      ]
     },
     "execution_count": 9,
     "metadata": {},
     "output_type": "execute_result"
    }
   ],
   "source": [
    "thrones = thrones.T\n",
    "thrones.head()"
   ]
  },
  {
   "cell_type": "code",
   "execution_count": 10,
   "id": "remarkable-supervision",
   "metadata": {
    "cell_style": "split"
   },
   "outputs": [
    {
     "name": "stdout",
     "output_type": "stream",
     "text": [
      "- first method\n",
      " [{'personID': 'nm0269923', 'actorName': 'Michael Feast', 'characterName': 'Aeron Greyjoy'}, {'personID': 'nm0568400', 'actorName': 'Ian McElhinney', 'characterName': 'Barristan Selmy'}, {'personID': 'nm0265610', 'actorName': 'Michelle Fairley', 'characterName': 'Catelyn Stark'}, {'personID': 'nm0734498', 'actorName': 'Lalor Roddy', 'characterName': 'Catspaw Assassin'}, {'personID': 'nm5697839', 'actorName': 'Jed Murray', 'characterName': 'Northman Rioter'}, {'personID': 'nm6316115', 'actorName': 'Ruairí Heading', 'characterName': \"Night's Watchman #2\"}, {'personID': 'nm4335246', 'actorName': 'Faolan Morga', 'characterName': 'Stark Guard'}, {'personID': 'nm1788152', 'actorName': 'Brendan McCormack', 'characterName': 'Vardis Egen'}, {'personID': 'nm2228622', 'actorName': 'Marcus Lam', 'characterName': \"Night's Watchman\"}]\n",
      "- second method\n",
      " [{'personID': 'nm0269923', 'actorName': 'Michael Feast', 'characterName': 'Aeron Greyjoy'}]\n"
     ]
    }
   ],
   "source": [
    "# Lets look into row 1 column 3\n",
    "print(\"- first method\\n\",\n",
    "      thrones.iloc[0,3])\n",
    "# Or row 'tt5539140' columns 'actors'\n",
    "print(\"- second method\\n\",\n",
    "      thrones.loc['tt5539140', 'actors'])"
   ]
  },
  {
   "cell_type": "code",
   "execution_count": null,
   "id": "immune-frame",
   "metadata": {
    "slideshow": {
     "slide_type": "skip"
    }
   },
   "outputs": [],
   "source": []
  },
  {
   "cell_type": "code",
   "execution_count": 11,
   "id": "olive-slovenia",
   "metadata": {
    "cell_style": "split",
    "slideshow": {
     "slide_type": "slide"
    }
   },
   "outputs": [
    {
     "data": {
      "text/html": [
       "<div>\n",
       "<style scoped>\n",
       "    .dataframe tbody tr th:only-of-type {\n",
       "        vertical-align: middle;\n",
       "    }\n",
       "\n",
       "    .dataframe tbody tr th {\n",
       "        vertical-align: top;\n",
       "    }\n",
       "\n",
       "    .dataframe thead th {\n",
       "        text-align: right;\n",
       "    }\n",
       "</style>\n",
       "<table border=\"1\" class=\"dataframe\">\n",
       "  <thead>\n",
       "    <tr style=\"text-align: right;\">\n",
       "      <th></th>\n",
       "      <th>imdb_id</th>\n",
       "      <th>title</th>\n",
       "      <th>year</th>\n",
       "      <th>actors</th>\n",
       "    </tr>\n",
       "  </thead>\n",
       "  <tbody>\n",
       "    <tr>\n",
       "      <th>tt4699982</th>\n",
       "      <td>tt4699982</td>\n",
       "      <td>Rebellion</td>\n",
       "      <td>2016</td>\n",
       "      <td>{'personID': 'nm0269923', 'actorName': 'Michae...</td>\n",
       "    </tr>\n",
       "    <tr>\n",
       "      <th>tt4699982</th>\n",
       "      <td>tt4699982</td>\n",
       "      <td>Rebellion</td>\n",
       "      <td>2016</td>\n",
       "      <td>{'personID': 'nm0568400', 'actorName': 'Ian Mc...</td>\n",
       "    </tr>\n",
       "    <tr>\n",
       "      <th>tt4699982</th>\n",
       "      <td>tt4699982</td>\n",
       "      <td>Rebellion</td>\n",
       "      <td>2016</td>\n",
       "      <td>{'personID': 'nm0265610', 'actorName': 'Michel...</td>\n",
       "    </tr>\n",
       "    <tr>\n",
       "      <th>tt4699982</th>\n",
       "      <td>tt4699982</td>\n",
       "      <td>Rebellion</td>\n",
       "      <td>2016</td>\n",
       "      <td>{'personID': 'nm0734498', 'actorName': 'Lalor ...</td>\n",
       "    </tr>\n",
       "    <tr>\n",
       "      <th>tt4699982</th>\n",
       "      <td>tt4699982</td>\n",
       "      <td>Rebellion</td>\n",
       "      <td>2016</td>\n",
       "      <td>{'personID': 'nm5697839', 'actorName': 'Jed Mu...</td>\n",
       "    </tr>\n",
       "  </tbody>\n",
       "</table>\n",
       "</div>"
      ],
      "text/plain": [
       "             imdb_id      title  year  \\\n",
       "tt4699982  tt4699982  Rebellion  2016   \n",
       "tt4699982  tt4699982  Rebellion  2016   \n",
       "tt4699982  tt4699982  Rebellion  2016   \n",
       "tt4699982  tt4699982  Rebellion  2016   \n",
       "tt4699982  tt4699982  Rebellion  2016   \n",
       "\n",
       "                                                      actors  \n",
       "tt4699982  {'personID': 'nm0269923', 'actorName': 'Michae...  \n",
       "tt4699982  {'personID': 'nm0568400', 'actorName': 'Ian Mc...  \n",
       "tt4699982  {'personID': 'nm0265610', 'actorName': 'Michel...  \n",
       "tt4699982  {'personID': 'nm0734498', 'actorName': 'Lalor ...  \n",
       "tt4699982  {'personID': 'nm5697839', 'actorName': 'Jed Mu...  "
      ]
     },
     "execution_count": 11,
     "metadata": {},
     "output_type": "execute_result"
    }
   ],
   "source": [
    "# Get one row for each actor\n",
    "thrones = thrones.explode('actors')\n",
    "thrones.head()"
   ]
  },
  {
   "cell_type": "code",
   "execution_count": 12,
   "id": "collected-victory",
   "metadata": {
    "cell_style": "split",
    "slideshow": {
     "slide_type": "-"
    }
   },
   "outputs": [
    {
     "data": {
      "text/plain": [
       "Index(['imdb_id', 'title', 'year', 'actors', 'id', 'name', 'character'], dtype='object')"
      ]
     },
     "execution_count": 12,
     "metadata": {},
     "output_type": "execute_result"
    }
   ],
   "source": [
    "def get_actor_id(x):\n",
    "    return x['personID']\n",
    "\n",
    "def get_actor_name(x):\n",
    "    return x['actorName']\n",
    "\n",
    "thrones['id'] = thrones['actors'].apply(\n",
    "    get_actor_id)\n",
    "thrones['name'] = thrones['actors'].apply(\n",
    "    get_actor_name)\n",
    "# get characterName using lambda?\n",
    "thrones['character'] = (thrones['actors']\n",
    "                        .apply(\n",
    "                            lambda x: x['characterName']))\n",
    "thrones.columns"
   ]
  },
  {
   "cell_type": "code",
   "execution_count": null,
   "id": "bored-pottery",
   "metadata": {
    "slideshow": {
     "slide_type": "skip"
    }
   },
   "outputs": [],
   "source": []
  },
  {
   "cell_type": "code",
   "execution_count": 13,
   "id": "statewide-hostel",
   "metadata": {
    "cell_style": "center",
    "slideshow": {
     "slide_type": "slide"
    }
   },
   "outputs": [
    {
     "name": "stdout",
     "output_type": "stream",
     "text": [
      "<class 'pandas.core.frame.DataFrame'>\n",
      "Index: 7363 entries, tt4699982 to tt0367119\n",
      "Data columns (total 6 columns):\n",
      " #   Column     Non-Null Count  Dtype \n",
      "---  ------     --------------  ----- \n",
      " 0   imdb_id    7363 non-null   object\n",
      " 1   title      7363 non-null   object\n",
      " 2   year       6320 non-null   object\n",
      " 3   id         7363 non-null   object\n",
      " 4   name       7363 non-null   object\n",
      " 5   character  7363 non-null   object\n",
      "dtypes: object(6)\n",
      "memory usage: 402.7+ KB\n"
     ]
    }
   ],
   "source": [
    "thrones = thrones.drop('actors', axis=1)\n",
    "thrones.info()"
   ]
  },
  {
   "cell_type": "code",
   "execution_count": 14,
   "id": "homeless-porcelain",
   "metadata": {
    "slideshow": {
     "slide_type": "slide"
    }
   },
   "outputs": [
    {
     "data": {
      "text/plain": [
       "array(['2016', '2015', '2012', '2011', '2007', '2006', '2003', '2002',\n",
       "       '2001', '2000', '1999', '1998', '1993', '1990', '1989', '1988',\n",
       "       '1986', '1983', '1982', '1980', '1979', '1977', '1974', '1972',\n",
       "       '1971', '1970', '', '2008', '2005', '2004', '1997', '1996', '1995',\n",
       "       '1987', '1985', '1984', '2016/I', '2015/II', '2014', '2014/II',\n",
       "       '2009', '2016/IV', '2013', '1991', nan, '2000/I', '1994', '2010',\n",
       "       '1981', '1978', '1976', '1975', '2019', '2015/I', '2010/I',\n",
       "       '2009/I', '1992', '2017', '2018', '2001/I', '2010/II', '2015-2016',\n",
       "       '2013/I', '2010/IV', '2008/II', '2005/II', '2017/III', '2012/I',\n",
       "       '2016/II', '2017/II', '2014/I', '2012/II', '2011/III', '2008/III',\n",
       "       '2008/I', '2013/III', '2005/I', '1965', '2013/II', '2012/III',\n",
       "       '2003/II', '1988-1989', '1973', '1969', '1966', '1962', '2015/IV',\n",
       "       '2011/I', '1996/II', '2017/I', '2018/II', '2011/IV', '2006/II',\n",
       "       '2014-2016', '2014/III', '2012/V', '2009/II', '2003/III', '1969/I',\n",
       "       '1968', '1967', '1964', '1963', '1960', '1959', '1999/II',\n",
       "       '2009-2010', '1986-1989', '1965-1966', '1957', '2004/I', '2002/I',\n",
       "       '2017/IV', '2016/III', '1992-1994', '2002/II', '1971/I', '2016/V',\n",
       "       '2004/II', '2007/I', '2006/I', '1998/I', '2006/III', '2003/I',\n",
       "       '2009/III', '2001/II', '2000/II', '1999/I', '1974-1975', '1961',\n",
       "       '2014/IV', '2015/III', '2015/VI', '2008/IV', '2016/VI', '2011/II',\n",
       "       '2013/IV', '2012/IV', '1997/I', '2010/III', '2017/VI', '2018/I',\n",
       "       '2007/II', '2013-2014', '1987-1988', '2007/V', '2004/III',\n",
       "       '1992/I', '1958', '1956', '1953', '1951', '1949'], dtype=object)"
      ]
     },
     "execution_count": 14,
     "metadata": {},
     "output_type": "execute_result"
    }
   ],
   "source": [
    "thrones['year'].unique()"
   ]
  },
  {
   "cell_type": "code",
   "execution_count": 15,
   "id": "liable-mexican",
   "metadata": {
    "cell_style": "split",
    "slideshow": {
     "slide_type": "slide"
    }
   },
   "outputs": [],
   "source": [
    "def get_year(x):\n",
    "    # string vacío\n",
    "    if x == '':\n",
    "        return np.nan\n",
    "    if x is np.nan:\n",
    "        return x\n",
    "    return int(x[:4])"
   ]
  },
  {
   "cell_type": "code",
   "execution_count": 16,
   "id": "collective-courtesy",
   "metadata": {
    "cell_style": "split",
    "slideshow": {
     "slide_type": "-"
    }
   },
   "outputs": [
    {
     "data": {
      "text/plain": [
       "tt4699982    2016.0\n",
       "tt4699982    2016.0\n",
       "tt4699982    2016.0\n",
       "tt4699982    2016.0\n",
       "tt4699982    2016.0\n",
       "Name: year, dtype: float64"
      ]
     },
     "execution_count": 16,
     "metadata": {},
     "output_type": "execute_result"
    }
   ],
   "source": [
    "thrones['year'] = (thrones['year'].\n",
    "                   apply(get_year))\n",
    "thrones['year'].head()"
   ]
  },
  {
   "cell_type": "code",
   "execution_count": 17,
   "id": "anonymous-merchandise",
   "metadata": {
    "cell_style": "split",
    "slideshow": {
     "slide_type": "slide"
    }
   },
   "outputs": [
    {
     "data": {
      "text/plain": [
       "<seaborn.axisgrid.FacetGrid at 0x7faf2d8a3910>"
      ]
     },
     "execution_count": 17,
     "metadata": {},
     "output_type": "execute_result"
    },
    {
     "data": {
      "image/png": "[encoded data removed]",
      "text/plain": [
       "<Figure size 360x360 with 1 Axes>"
      ]
     },
     "metadata": {
      "needs_background": "light"
     },
     "output_type": "display_data"
    }
   ],
   "source": [
    "### Yearly distribution of movies with\n",
    "# GoT cast.\n",
    "import seaborn as sns\n",
    "\n",
    "sns.displot(thrones['year'], bins=40)"
   ]
  },
  {
   "cell_type": "code",
   "execution_count": 18,
   "id": "better-thriller",
   "metadata": {
    "cell_style": "split",
    "slideshow": {
     "slide_type": "-"
    }
   },
   "outputs": [
    {
     "data": {
      "text/plain": [
       "count    6246.000000\n",
       "mean     2004.073167\n",
       "std        11.650196\n",
       "min      1949.000000\n",
       "25%      1998.000000\n",
       "50%      2007.000000\n",
       "75%      2013.000000\n",
       "max      2019.000000\n",
       "Name: year, dtype: float64"
      ]
     },
     "execution_count": 18,
     "metadata": {},
     "output_type": "execute_result"
    }
   ],
   "source": [
    "thrones['year'].describe()"
   ]
  },
  {
   "cell_type": "markdown",
   "id": "further-negative",
   "metadata": {
    "slideshow": {
     "slide_type": "slide"
    }
   },
   "source": [
    "# Let's make a co-star network!\n",
    "\n",
    "Need to know about `groupby` method and some other functions."
   ]
  },
  {
   "cell_type": "code",
   "execution_count": 19,
   "id": "industrial-garbage",
   "metadata": {
    "cell_style": "split",
    "slideshow": {
     "slide_type": "slide"
    }
   },
   "outputs": [
    {
     "data": {
      "text/html": [
       "<div>\n",
       "<style scoped>\n",
       "    .dataframe tbody tr th:only-of-type {\n",
       "        vertical-align: middle;\n",
       "    }\n",
       "\n",
       "    .dataframe tbody tr th {\n",
       "        vertical-align: top;\n",
       "    }\n",
       "\n",
       "    .dataframe thead th {\n",
       "        text-align: right;\n",
       "    }\n",
       "</style>\n",
       "<table border=\"1\" class=\"dataframe\">\n",
       "  <thead>\n",
       "    <tr style=\"text-align: right;\">\n",
       "      <th></th>\n",
       "      <th>col1</th>\n",
       "      <th>col2</th>\n",
       "    </tr>\n",
       "  </thead>\n",
       "  <tbody>\n",
       "    <tr>\n",
       "      <th>0</th>\n",
       "      <td>1</td>\n",
       "      <td>a</td>\n",
       "    </tr>\n",
       "    <tr>\n",
       "      <th>1</th>\n",
       "      <td>1</td>\n",
       "      <td>b</td>\n",
       "    </tr>\n",
       "    <tr>\n",
       "      <th>2</th>\n",
       "      <td>1</td>\n",
       "      <td>c</td>\n",
       "    </tr>\n",
       "    <tr>\n",
       "      <th>3</th>\n",
       "      <td>2</td>\n",
       "      <td>b</td>\n",
       "    </tr>\n",
       "    <tr>\n",
       "      <th>4</th>\n",
       "      <td>2</td>\n",
       "      <td>c</td>\n",
       "    </tr>\n",
       "    <tr>\n",
       "      <th>5</th>\n",
       "      <td>3</td>\n",
       "      <td>a</td>\n",
       "    </tr>\n",
       "  </tbody>\n",
       "</table>\n",
       "</div>"
      ],
      "text/plain": [
       "   col1 col2\n",
       "0     1    a\n",
       "1     1    b\n",
       "2     1    c\n",
       "3     2    b\n",
       "4     2    c\n",
       "5     3    a"
      ]
     },
     "execution_count": 19,
     "metadata": {},
     "output_type": "execute_result"
    }
   ],
   "source": [
    "# Create a new DataFrame\n",
    "df = pd.DataFrame(\n",
    "    {'col1': [1, 1, 1, 2, 2, 3],\n",
    "     'col2': ['a', 'b', 'c', 'b', 'c', 'a']})\n",
    "df"
   ]
  },
  {
   "cell_type": "code",
   "execution_count": 21,
   "id": "preceding-authority",
   "metadata": {
    "cell_style": "split",
    "slideshow": {
     "slide_type": "-"
    }
   },
   "outputs": [
    {
     "data": {
      "text/plain": [
       "col1\n",
       "1    a\n",
       "2    b\n",
       "3    a\n",
       "Name: col2, dtype: object"
      ]
     },
     "execution_count": 21,
     "metadata": {},
     "output_type": "execute_result"
    }
   ],
   "source": [
    "# Groupby column1 and aggregate using\n",
    "# first finding of columns 2.\n",
    "\n",
    "df.groupby('col1')['col2'].first()"
   ]
  },
  {
   "cell_type": "code",
   "execution_count": 22,
   "id": "revised-needle",
   "metadata": {
    "cell_style": "split",
    "slideshow": {
     "slide_type": "slide"
    }
   },
   "outputs": [
    {
     "data": {
      "text/plain": [
       "[(1, 2), (1, 3), (1, 4), (2, 3), (2, 4), (3, 4)]"
      ]
     },
     "execution_count": 22,
     "metadata": {},
     "output_type": "execute_result"
    }
   ],
   "source": [
    "from itertools import combinations\n",
    "\n",
    "my_list = [1, 2, 3, 4]\n",
    "list(combinations(my_list, 2))"
   ]
  },
  {
   "cell_type": "code",
   "execution_count": 23,
   "id": "appropriate-cheat",
   "metadata": {
    "slideshow": {
     "slide_type": "slide"
    }
   },
   "outputs": [
    {
     "data": {
      "text/plain": [
       "col1\n",
       "1    (a, b)\n",
       "1    (a, c)\n",
       "1    (b, c)\n",
       "2    (b, c)\n",
       "3       NaN\n",
       "Name: col2, dtype: object"
      ]
     },
     "execution_count": 23,
     "metadata": {},
     "output_type": "execute_result"
    }
   ],
   "source": [
    "# Use combinations, and explode to get a tuple for each\n",
    "df.groupby('col1')['col2'].apply(lambda x: tuple(sorted(combinations(x, 2)))).explode()"
   ]
  },
  {
   "cell_type": "code",
   "execution_count": 24,
   "id": "freelance-combination",
   "metadata": {
    "slideshow": {
     "slide_type": "slide"
    }
   },
   "outputs": [],
   "source": [
    "edgelist = thrones.groupby('imdb_id')['id'].apply(\n",
    "    lambda x: tuple(sorted(combinations(x, 2)))).explode()"
   ]
  },
  {
   "cell_type": "code",
   "execution_count": 26,
   "id": "mounted-joshua",
   "metadata": {
    "slideshow": {
     "slide_type": "slide"
    }
   },
   "outputs": [],
   "source": [
    "edgelist.to_csv('../data/edgelist_got.csv', index=False)\n",
    "thrones.to_csv('../data/got.csv', index=False)"
   ]
  },
  {
   "cell_type": "markdown",
   "id": "ultimate-endorsement",
   "metadata": {
    "slideshow": {
     "slide_type": "slide"
    }
   },
   "source": [
    "### Hasta aquí llegamos en clase"
   ]
  },
  {
   "cell_type": "code",
   "execution_count": 25,
   "id": "unauthorized-script",
   "metadata": {
    "cell_style": "split",
    "slideshow": {
     "slide_type": "slide"
    }
   },
   "outputs": [
    {
     "data": {
      "text/plain": [
       "imdb_id\n",
       "tt0056696    (nm0574534, nm0822062)\n",
       "tt0063728    (nm0234541, nm0891092)\n",
       "tt0064000    (nm0002103, nm0891092)\n",
       "tt0064072    (nm0574534, nm0181920)\n",
       "tt0065292    (nm0822062, nm0838910)\n",
       "Name: id, dtype: object"
      ]
     },
     "execution_count": 25,
     "metadata": {},
     "output_type": "execute_result"
    }
   ],
   "source": [
    "edgelist = edgelist.dropna()\n",
    "edgelist.head()"
   ]
  },
  {
   "cell_type": "code",
   "execution_count": null,
   "id": "sacred-headset",
   "metadata": {
    "cell_style": "split",
    "slideshow": {
     "slide_type": "-"
    }
   },
   "outputs": [],
   "source": [
    "df_adj = pd.DataFrame()\n",
    "\n",
    "df_adj['source'] = edgelist.str[0]\n",
    "df_adj['target'] = edgelist.str[1]\n",
    "\n",
    "df_adj.head()"
   ]
  },
  {
   "cell_type": "code",
   "execution_count": null,
   "id": "basic-client",
   "metadata": {
    "slideshow": {
     "slide_type": "slide"
    }
   },
   "outputs": [],
   "source": [
    "df_adj = df_adj.groupby(['source', 'target']).size().rename('weight').reset_index()"
   ]
  },
  {
   "cell_type": "markdown",
   "id": "eligible-anxiety",
   "metadata": {
    "slideshow": {
     "slide_type": "slide"
    }
   },
   "source": [
    "# Let's use networkx and graph-tool"
   ]
  },
  {
   "cell_type": "code",
   "execution_count": null,
   "id": "polar-income",
   "metadata": {
    "slideshow": {
     "slide_type": "slide"
    }
   },
   "outputs": [],
   "source": [
    "import networkx as nx\n",
    "\n",
    "G = nx.from_pandas_edgelist(df_adj,\n",
    "                            source='source',\n",
    "                            target='target',\n",
    "                            edge_attr='weight')\n",
    "print(nx.number_connected_components(G))"
   ]
  },
  {
   "cell_type": "code",
   "execution_count": null,
   "id": "governmental-picture",
   "metadata": {
    "cell_style": "split",
    "slideshow": {
     "slide_type": "slide"
    }
   },
   "outputs": [],
   "source": [
    "import graph_tool.all as gt\n",
    "\n",
    "g = gt.Graph(directed=False)"
   ]
  },
  {
   "cell_type": "code",
   "execution_count": null,
   "id": "precious-guard",
   "metadata": {
    "cell_style": "split",
    "slideshow": {
     "slide_type": "-"
    }
   },
   "outputs": [],
   "source": [
    "# Edges and nodes have \"properties\"\n",
    "weight = g.new_edge_property(\"int\")\n",
    "# Get numpy array using attribute\n",
    "# 'values'.\n",
    "edges = df_adj.values\n",
    "# Create a graph in graph-tool\n",
    "ids = g.add_edge_list(edges,\n",
    "                      hashed=True,\n",
    "                      hash_type='string',\n",
    "                      eprops=[weight])"
   ]
  },
  {
   "cell_type": "code",
   "execution_count": null,
   "id": "cleared-excitement",
   "metadata": {
    "cell_style": "split",
    "slideshow": {
     "slide_type": "slide"
    }
   },
   "outputs": [],
   "source": [
    "# Use  layout\n",
    "pos = gt.arf_layout(g)\n",
    "# Create another graph only containing largest component\n",
    "h = gt.GraphView(g, vfilt=gt.label_largest_component(g))"
   ]
  },
  {
   "cell_type": "code",
   "execution_count": null,
   "id": "bronze-shipping",
   "metadata": {
    "cell_style": "split",
    "slideshow": {
     "slide_type": "-"
    }
   },
   "outputs": [],
   "source": [
    "# Draw\n",
    "gt.graph_draw(h, edge_pen_width=weight, pos=pos)"
   ]
  },
  {
   "cell_type": "code",
   "execution_count": null,
   "id": "drawn-firewall",
   "metadata": {
    "cell_style": "center",
    "slideshow": {
     "slide_type": "slide"
    }
   },
   "outputs": [],
   "source": [
    "core = nx.core.k_core(G)\n",
    "print(core.nodes)"
   ]
  },
  {
   "cell_type": "code",
   "execution_count": null,
   "id": "together-fundamental",
   "metadata": {
    "cell_style": "center",
    "slideshow": {
     "slide_type": "slide"
    }
   },
   "outputs": [],
   "source": [
    "core_nodes = thrones[thrones['id'].isin(core.nodes)]\n",
    "core_nodes['name'].unique()"
   ]
  },
  {
   "cell_type": "markdown",
   "id": "respiratory-potato",
   "metadata": {
    "slideshow": {
     "slide_type": "slide"
    }
   },
   "source": [
    "# References\n",
    "\n",
    "- Cleaning data with pandas: https://realpython.com/python-data-cleaning-numpy-pandas/\n",
    "- Groupby: https://realpython.com/pandas-groupby/\n",
    "- Graph-tool: https://graph-tool.skewed.de/static/doc/quickstart.html\n",
    "- Pandas reference: Python for Data Analysis: Data Wrangling with Pandas, NumPy, and IPython (Teams)"
   ]
  }
 ],
 "metadata": {
  "celltoolbar": "Slideshow",
  "kernelspec": {
   "display_name": "Python 3",
   "language": "python",
   "name": "python3"
  },
  "language_info": {
   "codemirror_mode": {
    "name": "ipython",
    "version": 3
   },
   "file_extension": ".py",
   "mimetype": "text/x-python",
   "name": "python",
   "nbconvert_exporter": "python",
   "pygments_lexer": "ipython3",
   "version": "3.9.1"
  }
 },
 "nbformat": 4,
 "nbformat_minor": 5
}
