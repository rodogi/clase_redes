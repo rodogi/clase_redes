{
 "cells": [
  {
   "cell_type": "markdown",
   "id": "economic-developer",
   "metadata": {},
   "source": [
    "# Tarea\n",
    "\n",
    "Elevación de Aeropuertos del mundo.\n",
    "\n",
    "# General\n",
    "\n",
    "Instrucciones:\n",
    "\n",
    "   1. Usar la base de: https://raw.githubusercontent.com/datasets/airport-codes/master/data/airport-codes.csv. Descargarla a un `DataFrame` de pandas y llamarlo `airports`.\n",
    "   2. Convertir la elevación de pies a metros en una nueva columna llamada `elevation_mt`. Borrar `elevation_ft`.\n",
    "   3. Sacar los cuartiles de la elevación de los aeropuertos mundial. Graficar el histograma de elevación usando `seaborn`.\n",
    "   4. Sacar el promedio de elevación por país usando el método `groupby`, asignar el resultado a otra variable (escoger el nombre que sea). Graficar usando `sns.barplot` los 10 países con más elevación que tengan al menos 100 aeropuertos.\n",
    "\n",
    "\n",
    "## Aeropuertos de México\n",
    "\n",
    "Instrucciones:\n",
    "\n",
    " 1. Crear un nuevo `DataFrame` a partir de `airports` llamado `mex` seleccionando solamente los aeropuertos mexicanos.\n",
    " 2. Agrupar por estado y agregar lo siguiente: para `elevation_mt` tomar el promedio (mean), para `name` tomar el número de elementos (count). Usando el método `groupby` y `agg`. Guardar resultado en la variable `gb_mex`.\n",
    " 3. Usando `gb_mex` graficar usando `sns.barplot` la elevación promedio de los aeropuertos por estado de México.\n",
    " 4. Usando `gb_mex` graficar usando `sns.barplot` el número de aeropuertos por estado de México."
   ]
  }
 ],
 "metadata": {
  "kernelspec": {
   "display_name": "Python 3",
   "language": "python",
   "name": "python3"
  },
  "language_info": {
   "codemirror_mode": {
    "name": "ipython",
    "version": 3
   },
   "file_extension": ".py",
   "mimetype": "text/x-python",
   "name": "python",
   "nbconvert_exporter": "python",
   "pygments_lexer": "ipython3",
   "version": "3.9.1"
  }
 },
 "nbformat": 4,
 "nbformat_minor": 5
}
